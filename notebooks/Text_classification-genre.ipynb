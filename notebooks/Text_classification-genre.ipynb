{
 "cells": [
  {
   "cell_type": "code",
   "execution_count": 1,
   "metadata": {
    "ExecuteTime": {
     "end_time": "2020-11-09T18:13:33.080905Z",
     "start_time": "2020-11-09T18:13:31.604561Z"
    }
   },
   "outputs": [],
   "source": [
    "import numpy as np # linear algebra\n",
    "import pandas as pd # data processing, CSV file I/O (e.g. pd.read_csv)\n",
    "from pathlib import Path \n",
    "\n",
    "import os\n",
    "\n",
    "import torch\n",
    "import torch.optim as optim\n",
    "\n",
    "import random \n",
    "\n",
    "# fastai\n",
    "from fastai import *\n",
    "from fastai.text import *\n",
    "from fastai.callbacks import *\n",
    "\n",
    "# transformers\n",
    "from transformers import PreTrainedModel, PreTrainedTokenizer, PretrainedConfig\n",
    "\n",
    "from transformers import BertForSequenceClassification, BertTokenizer, BertConfig\n",
    "from transformers import RobertaForSequenceClassification, RobertaTokenizer, RobertaConfig\n",
    "from transformers import XLNetForSequenceClassification, XLNetTokenizer, XLNetConfig\n",
    "from transformers import XLMForSequenceClassification, XLMTokenizer, XLMConfig\n",
    "from transformers import DistilBertForSequenceClassification, DistilBertTokenizer, DistilBertConfig"
   ]
  },
  {
   "cell_type": "code",
   "execution_count": 2,
   "metadata": {
    "ExecuteTime": {
     "end_time": "2020-11-09T18:13:33.090053Z",
     "start_time": "2020-11-09T18:13:33.082503Z"
    }
   },
   "outputs": [],
   "source": [
    "import fastai\n",
    "import transformers"
   ]
  },
  {
   "cell_type": "code",
   "execution_count": 3,
   "metadata": {
    "ExecuteTime": {
     "end_time": "2020-11-09T18:13:33.194163Z",
     "start_time": "2020-11-09T18:13:33.091839Z"
    }
   },
   "outputs": [
    {
     "name": "stdout",
     "output_type": "stream",
     "text": [
      "fastai version : 1.0.58\n",
      "transformers version : 2.5.1\n"
     ]
    }
   ],
   "source": [
    "print('fastai version :', fastai.__version__)\n",
    "print('transformers version :', transformers.__version__)"
   ]
  },
  {
   "cell_type": "code",
   "execution_count": 4,
   "metadata": {
    "ExecuteTime": {
     "end_time": "2020-11-09T18:13:33.283255Z",
     "start_time": "2020-11-09T18:13:33.198714Z"
    }
   },
   "outputs": [],
   "source": [
    "torch.cuda.empty_cache()"
   ]
  },
  {
   "cell_type": "markdown",
   "metadata": {},
   "source": [
    "# The movie review dataset\n",
    "\n",
    "The first thing is to train a model that works on a similar dataset that the one I'm going to work and then try to apply the same solution, potentially tweaking it to improve results.\n",
    "\n",
    "The movie review dataset is a famous one and here will be used for the task of multi-class classification.\n",
    "\n",
    "For each text movie review, the model has to predict a label for the sentiment. We evaluate the outputs of the model on classification accuracy. The sentiment labels are:\n",
    "\n",
    "0 → Negative\n",
    "\n",
    "1 → Somewhat negative\n",
    "\n",
    "2 → Neutral\n",
    "\n",
    "3 → Somewhat positive\n",
    "\n",
    "4 → Positive"
   ]
  },
  {
   "cell_type": "code",
   "execution_count": 5,
   "metadata": {
    "ExecuteTime": {
     "end_time": "2020-11-09T18:13:33.383409Z",
     "start_time": "2020-11-09T18:13:33.288736Z"
    }
   },
   "outputs": [
    {
     "name": "stdout",
     "output_type": "stream",
     "text": [
      "(1176, 4) (294, 4)\n"
     ]
    },
    {
     "data": {
      "text/html": [
       "<div>\n",
       "<style scoped>\n",
       "    .dataframe tbody tr th:only-of-type {\n",
       "        vertical-align: middle;\n",
       "    }\n",
       "\n",
       "    .dataframe tbody tr th {\n",
       "        vertical-align: top;\n",
       "    }\n",
       "\n",
       "    .dataframe thead th {\n",
       "        text-align: right;\n",
       "    }\n",
       "</style>\n",
       "<table border=\"1\" class=\"dataframe\">\n",
       "  <thead>\n",
       "    <tr style=\"text-align: right;\">\n",
       "      <th></th>\n",
       "      <th>uid</th>\n",
       "      <th>synopsis</th>\n",
       "      <th>genre</th>\n",
       "      <th>genre_encoded</th>\n",
       "    </tr>\n",
       "  </thead>\n",
       "  <tbody>\n",
       "    <tr>\n",
       "      <th>0</th>\n",
       "      <td>33854</td>\n",
       "      <td>The series focuses on the staff of the Keihime...</td>\n",
       "      <td>[\"'Comedy'\", \"'Slice of Life'\"]</td>\n",
       "      <td>0</td>\n",
       "    </tr>\n",
       "    <tr>\n",
       "      <th>1</th>\n",
       "      <td>10020</td>\n",
       "      <td>The true end arc of Ore no Imouto. These four ...</td>\n",
       "      <td>[\"'Comedy'\", \"'Slice of Life'\"]</td>\n",
       "      <td>0</td>\n",
       "    </tr>\n",
       "    <tr>\n",
       "      <th>2</th>\n",
       "      <td>36784</td>\n",
       "      <td>The story centers around the cheerful calico T...</td>\n",
       "      <td>[\"'Comedy'\", \"'Slice of Life'\"]</td>\n",
       "      <td>0</td>\n",
       "    </tr>\n",
       "    <tr>\n",
       "      <th>3</th>\n",
       "      <td>37789</td>\n",
       "      <td>Picture Dramas released with the  Tenchi Muyou...</td>\n",
       "      <td>[\"'Comedy'\", \"'Slice of Life'\"]</td>\n",
       "      <td>0</td>\n",
       "    </tr>\n",
       "    <tr>\n",
       "      <th>4</th>\n",
       "      <td>20081</td>\n",
       "      <td>Grandma is a nasty and maipulative thing most ...</td>\n",
       "      <td>[\"'Comedy'\", \"'Slice of Life'\"]</td>\n",
       "      <td>0</td>\n",
       "    </tr>\n",
       "  </tbody>\n",
       "</table>\n",
       "</div>"
      ],
      "text/plain": [
       "     uid                                           synopsis  \\\n",
       "0  33854  The series focuses on the staff of the Keihime...   \n",
       "1  10020  The true end arc of Ore no Imouto. These four ...   \n",
       "2  36784  The story centers around the cheerful calico T...   \n",
       "3  37789  Picture Dramas released with the  Tenchi Muyou...   \n",
       "4  20081  Grandma is a nasty and maipulative thing most ...   \n",
       "\n",
       "                             genre  genre_encoded  \n",
       "0  [\"'Comedy'\", \"'Slice of Life'\"]              0  \n",
       "1  [\"'Comedy'\", \"'Slice of Life'\"]              0  \n",
       "2  [\"'Comedy'\", \"'Slice of Life'\"]              0  \n",
       "3  [\"'Comedy'\", \"'Slice of Life'\"]              0  \n",
       "4  [\"'Comedy'\", \"'Slice of Life'\"]              0  "
      ]
     },
     "execution_count": 5,
     "metadata": {},
     "output_type": "execute_result"
    }
   ],
   "source": [
    "data_folder = Path('data/anime_reviews/')\n",
    "train_data = pd.read_csv(data_folder / 'anime_genre_train.csv')\n",
    "train_data['genre_encoded'] = train_data['genre_encoded'].astype(int)\n",
    "test_data = pd.read_csv(data_folder / 'anime_genre_test.csv')\n",
    "test_data['genre_encoded'] = test_data['genre_encoded'].astype(int)\n",
    "print(train_data.shape, test_data.shape)\n",
    "train_data.head()"
   ]
  },
  {
   "cell_type": "markdown",
   "metadata": {},
   "source": [
    "The thing to note about this dataset is that there are no full reviews but just sentences taken out of context with a sentiment label."
   ]
  },
  {
   "cell_type": "markdown",
   "metadata": {},
   "source": [
    "# Main transformers classes\n",
    "In transformers, each model architecture is associated with 3 main types of classes:\n",
    "\n",
    "A model class to load/store a particular pre-train model.\n",
    "\n",
    "A tokenizer class to pre-process the data and make it compatible with a particular model.\n",
    "\n",
    "A configuration class to load/store the configuration of a particular model.\n",
    "\n",
    "\n",
    "For example, if you want to use the Bert architecture for text classification, you would use BertForSequenceClassification for the model class, BertTokenizer for the tokenizer class and BertConfig for the configuration class. "
   ]
  },
  {
   "cell_type": "code",
   "execution_count": 6,
   "metadata": {
    "ExecuteTime": {
     "end_time": "2020-11-09T18:13:34.983398Z",
     "start_time": "2020-11-09T18:13:34.980157Z"
    }
   },
   "outputs": [],
   "source": [
    "MODEL_CLASSES = {\n",
    "    'bert': (BertForSequenceClassification, BertTokenizer, BertConfig),\n",
    "    'xlnet': (XLNetForSequenceClassification, XLNetTokenizer, XLNetConfig),\n",
    "    'xlm': (XLMForSequenceClassification, XLMTokenizer, XLMConfig),\n",
    "    'roberta': (RobertaForSequenceClassification, RobertaTokenizer, RobertaConfig),\n",
    "    'distilbert': (DistilBertForSequenceClassification, DistilBertTokenizer, DistilBertConfig)\n",
    "}"
   ]
  },
  {
   "cell_type": "code",
   "execution_count": 7,
   "metadata": {
    "ExecuteTime": {
     "end_time": "2020-11-09T18:13:35.923010Z",
     "start_time": "2020-11-09T18:13:35.920130Z"
    }
   },
   "outputs": [],
   "source": [
    "# Parameters\n",
    "seed = 42\n",
    "use_fp16 = False\n",
    "bs = 4\n",
    "\n",
    "model_type = 'roberta'\n",
    "pretrained_model_name = 'roberta-base'\n",
    "\n",
    "# model_type = 'bert'\n",
    "# pretrained_model_name='bert-base-uncased'\n",
    "\n",
    "# model_type = 'distilbert'\n",
    "# pretrained_model_name = 'distilbert-base-uncased'\n",
    "\n",
    "#model_type = 'xlm'\n",
    "#pretrained_model_name = 'xlm-clm-enfr-1024'\n",
    "\n",
    "# model_type = 'xlnet'\n",
    "# pretrained_model_name = 'xlnet-base-cased'"
   ]
  },
  {
   "cell_type": "markdown",
   "metadata": {},
   "source": [
    "the parameter pretrained_model_name is a string with the shortcut name of a pre-trained model/tokenizer/configuration to load, e.g 'bert-base-uncased'. We can find all the shortcut names by using the command: *model_class.pretrained_model_archive_map.keys()*"
   ]
  },
  {
   "cell_type": "code",
   "execution_count": 8,
   "metadata": {
    "ExecuteTime": {
     "end_time": "2020-11-09T18:13:36.757098Z",
     "start_time": "2020-11-09T18:13:36.754518Z"
    }
   },
   "outputs": [],
   "source": [
    "model_class, tokenizer_class, config_class = MODEL_CLASSES[model_type]"
   ]
  },
  {
   "cell_type": "code",
   "execution_count": 9,
   "metadata": {
    "ExecuteTime": {
     "end_time": "2020-11-09T18:13:37.178638Z",
     "start_time": "2020-11-09T18:13:37.168727Z"
    }
   },
   "outputs": [
    {
     "data": {
      "text/plain": [
       "dict_keys(['roberta-base', 'roberta-large', 'roberta-large-mnli', 'distilroberta-base', 'roberta-base-openai-detector', 'roberta-large-openai-detector'])"
      ]
     },
     "execution_count": 9,
     "metadata": {},
     "output_type": "execute_result"
    }
   ],
   "source": [
    "model_class.pretrained_model_archive_map.keys()"
   ]
  },
  {
   "cell_type": "code",
   "execution_count": 10,
   "metadata": {
    "ExecuteTime": {
     "end_time": "2020-11-09T18:13:37.843039Z",
     "start_time": "2020-11-09T18:13:37.831899Z"
    }
   },
   "outputs": [],
   "source": [
    "# Util function to set the seed for generating random numbers\n",
    "def seed_all(seed_value):\n",
    "    random.seed(seed_value) # Python\n",
    "    np.random.seed(seed_value) # cpu vars\n",
    "    torch.manual_seed(seed_value) # cpu  vars\n",
    "    \n",
    "    if torch.cuda.is_available(): \n",
    "        torch.cuda.manual_seed(seed_value)\n",
    "        torch.cuda.manual_seed_all(seed_value) # gpu vars\n",
    "        torch.backends.cudnn.deterministic = True  #needed\n",
    "        torch.backends.cudnn.benchmark = False"
   ]
  },
  {
   "cell_type": "markdown",
   "metadata": {},
   "source": [
    "# Data pre-processing\n",
    "In order to use transfer learning it is necessary to preprocess the input sequence in the same way it was done for the pre-trained model that is being used. The two main steps are to tokenize and numericalize the input text correctly. Each model requres a different pre-processing process, but fortunately that process is provided by the tokenizer class from transformers library.\n",
    "\n",
    "\n",
    "In the fastai library, data pre-processing is done automatically during the creation of the DataBunch. In the DataBunch implementation, the tokenizer and numericalizer are passed in the processor argument under the following format :\n",
    "\n",
    "processor = [TokenizeProcessor(tokenizer=tokenizer,...), NumericalizeProcessor(vocab=vocab,...)]\n",
    "\n",
    "\n",
    "## Custom Tokenizer\n",
    "In the fastai implementation there are three main parts :\n",
    "\n",
    "- The TokenizeProcessor object takes as tokenizer argument a Tokenizer object.\n",
    "- The Tokenizer object takes as tok_func argument a BaseTokenizer object.\n",
    "- The BaseTokenizer object implement the function tokenizer(t:str) → List[str] that take a text t and returns the list of its tokens.\n",
    "\n",
    "Therefore, it is possible to create a new class TransformersBaseTokenizer that inherits from BaseTokenizer and overwrite a new tokenizer function."
   ]
  },
  {
   "cell_type": "code",
   "execution_count": 11,
   "metadata": {
    "ExecuteTime": {
     "end_time": "2020-11-09T18:13:38.665118Z",
     "start_time": "2020-11-09T18:13:38.657857Z"
    }
   },
   "outputs": [],
   "source": [
    "class TransformersBaseTokenizer(BaseTokenizer):\n",
    "    \"\"\"Wrapper around PreTrainedTokenizer to be compatible with fast.ai\"\"\"\n",
    "    def __init__(self, pretrained_tokenizer: PreTrainedTokenizer, model_type = 'bert', **kwargs):\n",
    "        self._pretrained_tokenizer = pretrained_tokenizer\n",
    "        self.max_seq_len = pretrained_tokenizer.max_len\n",
    "        self.model_type = model_type\n",
    "\n",
    "    def __call__(self, *args, **kwargs): \n",
    "        return self\n",
    "\n",
    "    def tokenizer(self, t:str) -> List[str]:\n",
    "        \"\"\"Limits the maximum sequence length and add the spesial tokens\"\"\"\n",
    "        CLS = self._pretrained_tokenizer.cls_token\n",
    "        SEP = self._pretrained_tokenizer.sep_token\n",
    "        if self.model_type in ['roberta']:\n",
    "            tokens = self._pretrained_tokenizer.tokenize(t, add_prefix_space=True)[:self.max_seq_len - 2]\n",
    "            tokens = [CLS] + tokens + [SEP]\n",
    "        else:\n",
    "            tokens = self._pretrained_tokenizer.tokenize(t)[:self.max_seq_len - 2]\n",
    "            if self.model_type in ['xlnet']:\n",
    "                tokens = tokens + [SEP] +  [CLS]\n",
    "            else:\n",
    "                tokens = [CLS] + tokens + [SEP]\n",
    "        return tokens"
   ]
  },
  {
   "cell_type": "code",
   "execution_count": 12,
   "metadata": {
    "ExecuteTime": {
     "end_time": "2020-11-09T18:13:40.011665Z",
     "start_time": "2020-11-09T18:13:39.054445Z"
    }
   },
   "outputs": [],
   "source": [
    "transformer_tokenizer = tokenizer_class.from_pretrained(pretrained_model_name)\n",
    "transformer_base_tokenizer = TransformersBaseTokenizer(pretrained_tokenizer = transformer_tokenizer, model_type = model_type)\n",
    "fastai_tokenizer = Tokenizer(tok_func = transformer_base_tokenizer, pre_rules=[], post_rules=[])"
   ]
  },
  {
   "cell_type": "markdown",
   "metadata": {},
   "source": [
    "# Custom Numericalizer\n",
    "In fastai, NumericalizeProcessor object takes as vocab argument a Vocab object. In order to adapt the fastai numericalizer to the transformers models, the suggested solution is to:\n",
    "\n",
    "- Create a new class TransformersVocab that inherits from Vocab and overwrite numericalize and textify functions.\n"
   ]
  },
  {
   "cell_type": "code",
   "execution_count": 13,
   "metadata": {
    "ExecuteTime": {
     "end_time": "2020-11-09T18:13:40.141154Z",
     "start_time": "2020-11-09T18:13:40.133570Z"
    }
   },
   "outputs": [],
   "source": [
    "class TransformersVocab(Vocab):\n",
    "    def __init__(self, tokenizer: PreTrainedTokenizer):\n",
    "        super(TransformersVocab, self).__init__(itos = [])\n",
    "        self.tokenizer = tokenizer\n",
    "    \n",
    "    def numericalize(self, t:Collection[str]) -> List[int]:\n",
    "        \"Convert a list of tokens `t` to their ids.\"\n",
    "        return self.tokenizer.convert_tokens_to_ids(t)\n",
    "        #return self.tokenizer.encode(t)\n",
    "\n",
    "    def textify(self, nums:Collection[int], sep=' ') -> List[str]:\n",
    "        \"Convert a list of `nums` to their tokens.\"\n",
    "        nums = np.array(nums).tolist()\n",
    "        return sep.join(self.tokenizer.convert_ids_to_tokens(nums)) if sep is not None else self.tokenizer.convert_ids_to_tokens(nums)\n",
    "    \n",
    "    def __getstate__(self):\n",
    "        return {'itos':self.itos, 'tokenizer':self.tokenizer}\n",
    "\n",
    "    def __setstate__(self, state:dict):\n",
    "        self.itos = state['itos']\n",
    "        self.tokenizer = state['tokenizer']\n",
    "        self.stoi = collections.defaultdict(int,{v:k for k,v in enumerate(self.itos)})"
   ]
  },
  {
   "cell_type": "markdown",
   "metadata": {},
   "source": [
    "# Custom processor\n",
    "Now that we have our custom tokenizer and numericalizer, we can create the custom processor. Notice we are passing the include_bos = False and include_eos = False options. This is because fastai adds its own special tokens by default which interferes with the [CLS] and [SEP] tokens added by our custom tokenizer."
   ]
  },
  {
   "cell_type": "code",
   "execution_count": 14,
   "metadata": {
    "ExecuteTime": {
     "end_time": "2020-11-09T18:13:41.227288Z",
     "start_time": "2020-11-09T18:13:41.212782Z"
    }
   },
   "outputs": [],
   "source": [
    "transformer_vocab =  TransformersVocab(tokenizer = transformer_tokenizer)\n",
    "numericalize_processor = NumericalizeProcessor(vocab=transformer_vocab)\n",
    "\n",
    "tokenize_processor = TokenizeProcessor(tokenizer=fastai_tokenizer, include_bos=False, include_eos=False)\n",
    "\n",
    "transformer_processor = [tokenize_processor, numericalize_processor]"
   ]
  },
  {
   "cell_type": "code",
   "execution_count": 15,
   "metadata": {
    "ExecuteTime": {
     "end_time": "2020-11-09T18:13:41.993282Z",
     "start_time": "2020-11-09T18:13:41.990714Z"
    }
   },
   "outputs": [],
   "source": [
    "pad_first = bool(model_type in ['xlnet'])\n",
    "pad_idx = transformer_tokenizer.pad_token_id"
   ]
  },
  {
   "cell_type": "code",
   "execution_count": 16,
   "metadata": {
    "ExecuteTime": {
     "end_time": "2020-11-09T18:13:42.463513Z",
     "start_time": "2020-11-09T18:13:42.454429Z"
    }
   },
   "outputs": [
    {
     "name": "stdout",
     "output_type": "stream",
     "text": [
      "['Sal', 'ut', 'Ġc', 'Ġest', 'Ġmo', 'i', ',', 'ĠHello', 'Ġit', 'Ġs', 'Ġme']\n",
      "[18111, 1182, 740, 3304, 7458, 118, 6, 20920, 24, 579, 162]\n"
     ]
    },
    {
     "data": {
      "text/plain": [
       "['Sal', 'ut', 'Ġc', 'Ġest', 'Ġmo', 'i', ',', 'ĠHello', 'Ġit', 'Ġs', 'Ġme']"
      ]
     },
     "execution_count": 16,
     "metadata": {},
     "output_type": "execute_result"
    }
   ],
   "source": [
    "tokens = transformer_tokenizer.tokenize('Salut c est moi, Hello it s me')\n",
    "print(tokens)\n",
    "ids = transformer_tokenizer.convert_tokens_to_ids(tokens)\n",
    "print(ids)\n",
    "transformer_tokenizer.convert_ids_to_tokens(ids)"
   ]
  },
  {
   "cell_type": "code",
   "execution_count": 17,
   "metadata": {
    "ExecuteTime": {
     "end_time": "2020-11-09T18:13:44.784275Z",
     "start_time": "2020-11-09T18:13:42.928274Z"
    }
   },
   "outputs": [
    {
     "data": {
      "text/html": [],
      "text/plain": [
       "<IPython.core.display.HTML object>"
      ]
     },
     "metadata": {},
     "output_type": "display_data"
    },
    {
     "name": "stderr",
     "output_type": "stream",
     "text": [
      "/home/jacek/workspace/interactive_dashboard/env/lib/python3.6/site-packages/fastai/core.py:299: VisibleDeprecationWarning: Creating an ndarray from ragged nested sequences (which is a list-or-tuple of lists-or-tuples-or ndarrays with different lengths or shapes) is deprecated. If you meant to do this, you must specify 'dtype=object' when creating the ndarray\n",
      "  return np.array(a, dtype=dtype, **kwargs)\n"
     ]
    },
    {
     "data": {
      "text/html": [],
      "text/plain": [
       "<IPython.core.display.HTML object>"
      ]
     },
     "metadata": {},
     "output_type": "display_data"
    },
    {
     "data": {
      "text/html": [],
      "text/plain": [
       "<IPython.core.display.HTML object>"
      ]
     },
     "metadata": {},
     "output_type": "display_data"
    },
    {
     "name": "stderr",
     "output_type": "stream",
     "text": [
      "/home/jacek/workspace/interactive_dashboard/env/lib/python3.6/site-packages/numpy/core/_asarray.py:83: VisibleDeprecationWarning: Creating an ndarray from ragged nested sequences (which is a list-or-tuple of lists-or-tuples-or ndarrays with different lengths or shapes) is deprecated. If you meant to do this, you must specify 'dtype=object' when creating the ndarray\n",
      "  return array(a, dtype, copy=False, order=order)\n",
      "<string>:6: VisibleDeprecationWarning: Creating an ndarray from ragged nested sequences (which is a list-or-tuple of lists-or-tuples-or ndarrays with different lengths or shapes) is deprecated. If you meant to do this, you must specify 'dtype=object' when creating the ndarray\n"
     ]
    }
   ],
   "source": [
    "databunch = (TextList.from_df(train_data, cols='synopsis', processor=transformer_processor)\n",
    "             .split_by_rand_pct(0.1,seed=seed)\n",
    "             .label_from_df(cols= 'genre_encoded')\n",
    "             .add_test(test_data)\n",
    "             .databunch(bs=bs, pad_first=pad_first, pad_idx=pad_idx))"
   ]
  },
  {
   "cell_type": "code",
   "execution_count": 18,
   "metadata": {
    "ExecuteTime": {
     "end_time": "2020-11-09T18:13:47.490509Z",
     "start_time": "2020-11-09T18:13:45.707823Z"
    }
   },
   "outputs": [
    {
     "name": "stdout",
     "output_type": "stream",
     "text": [
      "[CLS] token : <s>\n",
      "[SEP] token : </s>\n",
      "[PAD] token : <pad>\n"
     ]
    },
    {
     "name": "stderr",
     "output_type": "stream",
     "text": [
      "/home/jacek/workspace/interactive_dashboard/env/lib/python3.6/site-packages/fastai/text/data.py:339: UserWarning: This overload of nonzero is deprecated:\n",
      "\tnonzero()\n",
      "Consider using one of the following signatures instead:\n",
      "\tnonzero(*, bool as_tuple) (Triggered internally at  /pytorch/torch/csrc/utils/python_arg_parser.cpp:766.)\n",
      "  idx_min = (t != self.pad_idx).nonzero().min()\n"
     ]
    },
    {
     "data": {
      "text/html": [
       "<table border=\"1\" class=\"dataframe\">\n",
       "  <thead>\n",
       "    <tr style=\"text-align: right;\">\n",
       "      <th>text</th>\n",
       "      <th>target</th>\n",
       "    </tr>\n",
       "  </thead>\n",
       "  <tbody>\n",
       "    <tr>\n",
       "      <td>&lt;s&gt; ĠThe Ġstory Ġbegins Ġwith Ġa Ġspaceship Ġstruggling Ġto Ġreturn Ġto Ġits Ġhome Ġworld , Ġwhich Ġcrash Ġlands Ġonto Ġa Ġdying Ġplanet , Ġtriggering Ġan Ġexplosion Ġof Ġpure Ġenergy , Ġgenerated Ġby Ġthe Ġpowerful Ġand Ġmysterious Ġlife Ġforms Ġthat Ġare Ġpilot ing Ġthe Ġcraft . ĠThis Ġoutburst Ġof Ġenergy Ġinf uses Ġthe Ġdying Ġplanet Ġwith Ġa Ġlife - gener ating Ġforce . Ġ č Ċ Ġ č Ċ Pop o</td>\n",
       "      <td>7</td>\n",
       "    </tr>\n",
       "    <tr>\n",
       "      <td>&lt;s&gt; ĠIt Ġis Ġdecided Ġthat Ġyou Ġare Ġnot Ġneeded Ġon Ġthis Ġearth . Ġ č Ċ \" I Ġcan 't Ġtake Ġcare Ġof Ġyou Ġany Ġlonger !!\" ĠA Ġweary Ġand Ġstrong Ġmother Ġput ĠTak ashi Ġin Ġa Ġcar Ġand Ġdrove Ġto Ġa Ġdeserted Ġplace . Ġ\" No Ġmore ! ĠI Ġcan 't Ġhelp Ġit ! ĠIt 's Ġimpossible Ġfor Ġme ! ĠI 'm Ġsorry .\" ĠWith Ġthese Ġwords , Ġthe</td>\n",
       "      <td>6</td>\n",
       "    </tr>\n",
       "    <tr>\n",
       "      <td>&lt;s&gt; ĠTe z uka ĠOs am u ĠWorld Ġis Ġlocated Ġin Ġthe ĠKyoto ĠStation ĠBuilding Ġwith Ġa Ġ300 - inch Ġtheater Ġthat Ġshows Ġhis Ġoriginal Ġshort Ġanimation Ġfilms . ĠOne Ġanimated Ġfilm Ġfilled Ġwith Ġthe Ġessence Ġof Ġhis Ġmost Ġfamous Ġpieces , Ġand Ġanother Ġthat Ġintroduces Ġa Ġhistorical Ġepisode Ġof ĠKyoto , Ġare Ġshown Ġas Ġa Ġdouble Ġfeature Ġmovie Ġwith Ġthe ĠPhoenix Ġas Ġa Ġnarrator . Ġ Ġ č Ċ</td>\n",
       "      <td>18</td>\n",
       "    </tr>\n",
       "    <tr>\n",
       "      <td>&lt;s&gt; ĠA Ġgold fish Ġsne aks Ġaway Ġfrom Ġhome Ġand Ġfloats Ġoff Ġon Ġthe Ġback Ġof Ġa Ġjelly fish . ĠAfter Ġgetting Ġstuck Ġin Ġa Ġglass Ġjar , Ġshe Ġdr ifts Ġto Ġthe Ġshore Ġwhere Ġshe Ġis Ġfreed Ġby ĠS ous uke , Ġa Ġfive - year - old Ġboy Ġwho Ġlives Ġwith Ġhis Ġmother ĠLisa Ġin Ġa Ġhouse Ġby Ġthe Ġsea Ġwhile Ġhis Ġfather ĠKo ichi Ġworks Ġon Ġa</td>\n",
       "      <td>4</td>\n",
       "    </tr>\n",
       "  </tbody>\n",
       "</table>"
      ],
      "text/plain": [
       "<IPython.core.display.HTML object>"
      ]
     },
     "metadata": {},
     "output_type": "display_data"
    }
   ],
   "source": [
    "# Check batch and tokenizer\n",
    "print('[CLS] token :', transformer_tokenizer.cls_token)\n",
    "print('[SEP] token :', transformer_tokenizer.sep_token)\n",
    "print('[PAD] token :', transformer_tokenizer.pad_token)\n",
    "databunch.show_batch()"
   ]
  },
  {
   "cell_type": "code",
   "execution_count": 19,
   "metadata": {
    "ExecuteTime": {
     "end_time": "2020-11-09T18:13:47.582197Z",
     "start_time": "2020-11-09T18:13:47.492125Z"
    }
   },
   "outputs": [
    {
     "name": "stdout",
     "output_type": "stream",
     "text": [
      "[CLS] id : 0\n",
      "[SEP] id : 2\n",
      "[PAD] id : 1\n",
      "Batch shape :  torch.Size([4, 498])\n",
      "tensor([[    0,    20,   527,  ..., 19307,    43,     2],\n",
      "        [    0,   256,  4132,  ...,     1,     1,     1],\n",
      "        [    0,    20,   569,  ...,     1,     1,     1],\n",
      "        [    0,  2941,   329,  ...,     1,     1,     1]])\n"
     ]
    },
    {
     "name": "stderr",
     "output_type": "stream",
     "text": [
      "/home/jacek/workspace/interactive_dashboard/env/lib/python3.6/site-packages/numpy/core/_asarray.py:83: VisibleDeprecationWarning: Creating an ndarray from ragged nested sequences (which is a list-or-tuple of lists-or-tuples-or ndarrays with different lengths or shapes) is deprecated. If you meant to do this, you must specify 'dtype=object' when creating the ndarray\n",
      "  return array(a, dtype, copy=False, order=order)\n",
      "<string>:6: VisibleDeprecationWarning: Creating an ndarray from ragged nested sequences (which is a list-or-tuple of lists-or-tuples-or ndarrays with different lengths or shapes) is deprecated. If you meant to do this, you must specify 'dtype=object' when creating the ndarray\n"
     ]
    }
   ],
   "source": [
    "# Check batch and numericalizer\n",
    "print('[CLS] id :', transformer_tokenizer.cls_token_id)\n",
    "print('[SEP] id :', transformer_tokenizer.sep_token_id)\n",
    "print('[PAD] id :', pad_idx)\n",
    "test_one_batch = databunch.one_batch()[0]\n",
    "print('Batch shape : ',test_one_batch.shape)\n",
    "print(test_one_batch)"
   ]
  },
  {
   "cell_type": "markdown",
   "metadata": {},
   "source": [
    "# Custom model\n",
    "As mentioned here, every model's forward method always outputs a tuple with various elements depending on the model and the configuration parameters. In our case, we are interested to access only to the logits.  One way to access them is to create a custom model."
   ]
  },
  {
   "cell_type": "code",
   "execution_count": 20,
   "metadata": {
    "ExecuteTime": {
     "end_time": "2020-11-09T18:13:49.593229Z",
     "start_time": "2020-11-09T18:13:49.579976Z"
    }
   },
   "outputs": [],
   "source": [
    "# defining our model architecture \n",
    "class CustomTransformerModel(nn.Module):\n",
    "    def __init__(self, transformer_model: PreTrainedModel):\n",
    "        super(CustomTransformerModel,self).__init__()\n",
    "        self.transformer = transformer_model\n",
    "        \n",
    "    def forward(self, input_ids, attention_mask=None):\n",
    "        \n",
    "        # attention_mask\n",
    "        # Mask to avoid performing attention on padding token indices.\n",
    "        # Mask values selected in ``[0, 1]``:\n",
    "        # ``1`` for tokens that are NOT MASKED, ``0`` for MASKED tokens.\n",
    "        attention_mask = (input_ids!=pad_idx).type(input_ids.type()) \n",
    "        \n",
    "        logits = self.transformer(input_ids,\n",
    "                                  attention_mask = attention_mask)[0]   \n",
    "        return logits"
   ]
  },
  {
   "cell_type": "markdown",
   "metadata": {},
   "source": [
    "To make our transformers adapted to multiclass classification, before loading the pre-trained model, we need to precise the number of labels. To do so, you can modify the config instance or either modify like in Keita Kurita's article (Section: Initializing the Learner) the num_labels argument."
   ]
  },
  {
   "cell_type": "code",
   "execution_count": 21,
   "metadata": {
    "ExecuteTime": {
     "end_time": "2020-11-09T18:14:01.152719Z",
     "start_time": "2020-11-09T18:14:00.715357Z"
    },
    "scrolled": true
   },
   "outputs": [
    {
     "name": "stdout",
     "output_type": "stream",
     "text": [
      "RobertaConfig {\n",
      "  \"architectures\": [\n",
      "    \"RobertaForMaskedLM\"\n",
      "  ],\n",
      "  \"attention_probs_dropout_prob\": 0.1,\n",
      "  \"bos_token_id\": 0,\n",
      "  \"do_sample\": false,\n",
      "  \"eos_token_id\": 2,\n",
      "  \"eos_token_ids\": null,\n",
      "  \"finetuning_task\": null,\n",
      "  \"hidden_act\": \"gelu\",\n",
      "  \"hidden_dropout_prob\": 0.1,\n",
      "  \"hidden_size\": 768,\n",
      "  \"id2label\": {\n",
      "    \"0\": \"LABEL_0\",\n",
      "    \"1\": \"LABEL_1\"\n",
      "  },\n",
      "  \"initializer_range\": 0.02,\n",
      "  \"intermediate_size\": 3072,\n",
      "  \"is_decoder\": false,\n",
      "  \"label2id\": {\n",
      "    \"LABEL_0\": 0,\n",
      "    \"LABEL_1\": 1\n",
      "  },\n",
      "  \"layer_norm_eps\": 1e-05,\n",
      "  \"length_penalty\": 1.0,\n",
      "  \"max_length\": 20,\n",
      "  \"max_position_embeddings\": 514,\n",
      "  \"model_type\": \"roberta\",\n",
      "  \"num_attention_heads\": 12,\n",
      "  \"num_beams\": 1,\n",
      "  \"num_hidden_layers\": 12,\n",
      "  \"num_labels\": 21,\n",
      "  \"num_return_sequences\": 1,\n",
      "  \"output_attentions\": false,\n",
      "  \"output_hidden_states\": false,\n",
      "  \"output_past\": true,\n",
      "  \"pad_token_id\": 1,\n",
      "  \"pruned_heads\": {},\n",
      "  \"repetition_penalty\": 1.0,\n",
      "  \"temperature\": 1.0,\n",
      "  \"top_k\": 50,\n",
      "  \"top_p\": 1.0,\n",
      "  \"torchscript\": false,\n",
      "  \"type_vocab_size\": 1,\n",
      "  \"use_bfloat16\": false,\n",
      "  \"vocab_size\": 50265\n",
      "}\n",
      "\n"
     ]
    }
   ],
   "source": [
    "config = config_class.from_pretrained(pretrained_model_name)\n",
    "config.num_labels = 21\n",
    "config.use_bfloat16 = use_fp16\n",
    "print(config)"
   ]
  },
  {
   "cell_type": "code",
   "execution_count": 22,
   "metadata": {
    "ExecuteTime": {
     "end_time": "2020-11-09T18:14:05.687107Z",
     "start_time": "2020-11-09T18:14:01.267163Z"
    }
   },
   "outputs": [],
   "source": [
    "transformer_model = model_class.from_pretrained(pretrained_model_name, config = config)\n",
    "\n",
    "custom_transformer_model = CustomTransformerModel(transformer_model = transformer_model)"
   ]
  },
  {
   "cell_type": "markdown",
   "metadata": {},
   "source": [
    "# Learner : Custom Optimizer / Custom Metric\n",
    "In pytorch-transformers, HuggingFace had implemented two specific optimizers  -  BertAdam and OpenAIAdam  -  that have been replaced by a single AdamW optimizer. This optimizer matches Pytorch Adam optimizer Api, therefore, it becomes straightforward to integrate it within fastai. It is worth noting that for reproducing BertAdam specific behavior, you have to set correct_bias = False."
   ]
  },
  {
   "cell_type": "code",
   "execution_count": 23,
   "metadata": {
    "ExecuteTime": {
     "end_time": "2020-11-09T18:14:05.792488Z",
     "start_time": "2020-11-09T18:14:05.689702Z"
    }
   },
   "outputs": [],
   "source": [
    "from fastai.callbacks import *\n",
    "from transformers import AdamW\n",
    "from functools import partial\n",
    "\n",
    "CustomAdamW = partial(AdamW, correct_bias=False)\n",
    "\n",
    "learner = Learner(databunch, \n",
    "                  custom_transformer_model, \n",
    "                  opt_func = CustomAdamW, \n",
    "                  metrics=[accuracy, error_rate])\n",
    "\n",
    "# Show graph of learner stats and metrics after each epoch.\n",
    "learner.callbacks.append(ShowGraph(learner))\n",
    "\n",
    "# Put learn in FP16 precision mode. --> Seems to not working\n",
    "if use_fp16: learner = learner.to_fp16()"
   ]
  },
  {
   "cell_type": "markdown",
   "metadata": {},
   "source": [
    "# Discriminative Fine-tuning and Gradual unfreezing (Optional)\n",
    "To use discriminative layer training and gradual unfreezing, fastai provides one tool that allows to \"split\" the structure model into groups. An instruction to perform that \"split\" is described in the fastai documentation here.\n",
    "\n",
    "Unfortunately, the model architectures are too different to create a unique generic function that can \"split\" all the model types in a convenient way. Thereby, you will have to implement a custom \"split\" for each different model architecture.\n",
    "\n",
    "For example, if we use the RobBERTa model and that we observe his architecture by making print(learner.model)."
   ]
  },
  {
   "cell_type": "code",
   "execution_count": 24,
   "metadata": {
    "ExecuteTime": {
     "end_time": "2020-11-09T18:14:05.796716Z",
     "start_time": "2020-11-09T18:14:05.794679Z"
    }
   },
   "outputs": [],
   "source": [
    "# print(learner.model)"
   ]
  },
  {
   "cell_type": "markdown",
   "metadata": {},
   "source": [
    "Once we know the architecture we can split the model like this:"
   ]
  },
  {
   "cell_type": "code",
   "execution_count": 25,
   "metadata": {
    "ExecuteTime": {
     "end_time": "2020-11-09T18:14:05.910054Z",
     "start_time": "2020-11-09T18:14:05.798281Z"
    }
   },
   "outputs": [],
   "source": [
    "# For DistilBERT\n",
    "# list_layers = [learner.model.transformer.distilbert.embeddings,\n",
    "#                learner.model.transformer.distilbert.transformer.layer[0],\n",
    "#                learner.model.transformer.distilbert.transformer.layer[1],\n",
    "#                learner.model.transformer.distilbert.transformer.layer[2],\n",
    "#                learner.model.transformer.distilbert.transformer.layer[3],\n",
    "#                learner.model.transformer.distilbert.transformer.layer[4],\n",
    "#                learner.model.transformer.distilbert.transformer.layer[5],\n",
    "#                learner.model.transformer.pre_classifier]\n",
    "\n",
    "# For xlnet-base-cased\n",
    "# list_layers = [learner.model.transformer.transformer.word_embedding,\n",
    "#               learner.model.transformer.transformer.layer[0],\n",
    "#               learner.model.transformer.transformer.layer[1],\n",
    "#               learner.model.transformer.transformer.layer[2],\n",
    "#               learner.model.transformer.transformer.layer[3],\n",
    "#               learner.model.transformer.transformer.layer[4],\n",
    "#               learner.model.transformer.transformer.layer[5],\n",
    "#               learner.model.transformer.transformer.layer[6],\n",
    "#               learner.model.transformer.transformer.layer[7],\n",
    "#               learner.model.transformer.transformer.layer[8],\n",
    "#               learner.model.transformer.transformer.layer[9],\n",
    "#               learner.model.transformer.transformer.layer[10],\n",
    "#               learner.model.transformer.transformer.layer[11],\n",
    "#               learner.model.transformer.sequence_summary]\n",
    "\n",
    "# For roberta-base\n",
    "list_layers = [learner.model.transformer.roberta.embeddings,\n",
    "              learner.model.transformer.roberta.encoder.layer[0],\n",
    "              learner.model.transformer.roberta.encoder.layer[1],\n",
    "              learner.model.transformer.roberta.encoder.layer[2],\n",
    "              learner.model.transformer.roberta.encoder.layer[3],\n",
    "              learner.model.transformer.roberta.encoder.layer[4],\n",
    "              learner.model.transformer.roberta.encoder.layer[5],\n",
    "              learner.model.transformer.roberta.encoder.layer[6],\n",
    "              learner.model.transformer.roberta.encoder.layer[7],\n",
    "              learner.model.transformer.roberta.encoder.layer[8],\n",
    "              learner.model.transformer.roberta.encoder.layer[9],\n",
    "              learner.model.transformer.roberta.encoder.layer[10],\n",
    "              learner.model.transformer.roberta.encoder.layer[11],\n",
    "              learner.model.transformer.roberta.pooler]"
   ]
  },
  {
   "cell_type": "code",
   "execution_count": 26,
   "metadata": {
    "ExecuteTime": {
     "end_time": "2020-11-09T18:14:06.027318Z",
     "start_time": "2020-11-09T18:14:05.915922Z"
    }
   },
   "outputs": [
    {
     "name": "stdout",
     "output_type": "stream",
     "text": [
      "Learner split in 14 groups\n",
      "[Sequential(\n",
      "  (0): Embedding(50265, 768, padding_idx=1)\n",
      "  (1): Embedding(514, 768, padding_idx=1)\n",
      "  (2): Embedding(1, 768)\n",
      "  (3): LayerNorm((768,), eps=1e-05, elementwise_affine=True)\n",
      "  (4): Dropout(p=0.1, inplace=False)\n",
      "), Sequential(\n",
      "  (0): Linear(in_features=768, out_features=768, bias=True)\n",
      "  (1): Linear(in_features=768, out_features=768, bias=True)\n",
      "  (2): Linear(in_features=768, out_features=768, bias=True)\n",
      "  (3): Dropout(p=0.1, inplace=False)\n",
      "  (4): Linear(in_features=768, out_features=768, bias=True)\n",
      "  (5): LayerNorm((768,), eps=1e-05, elementwise_affine=True)\n",
      "  (6): Dropout(p=0.1, inplace=False)\n",
      "  (7): Linear(in_features=768, out_features=3072, bias=True)\n",
      "  (8): Linear(in_features=3072, out_features=768, bias=True)\n",
      "  (9): LayerNorm((768,), eps=1e-05, elementwise_affine=True)\n",
      "  (10): Dropout(p=0.1, inplace=False)\n",
      "), Sequential(\n",
      "  (0): Linear(in_features=768, out_features=768, bias=True)\n",
      "  (1): Linear(in_features=768, out_features=768, bias=True)\n",
      "  (2): Linear(in_features=768, out_features=768, bias=True)\n",
      "  (3): Dropout(p=0.1, inplace=False)\n",
      "  (4): Linear(in_features=768, out_features=768, bias=True)\n",
      "  (5): LayerNorm((768,), eps=1e-05, elementwise_affine=True)\n",
      "  (6): Dropout(p=0.1, inplace=False)\n",
      "  (7): Linear(in_features=768, out_features=3072, bias=True)\n",
      "  (8): Linear(in_features=3072, out_features=768, bias=True)\n",
      "  (9): LayerNorm((768,), eps=1e-05, elementwise_affine=True)\n",
      "  (10): Dropout(p=0.1, inplace=False)\n",
      "), Sequential(\n",
      "  (0): Linear(in_features=768, out_features=768, bias=True)\n",
      "  (1): Linear(in_features=768, out_features=768, bias=True)\n",
      "  (2): Linear(in_features=768, out_features=768, bias=True)\n",
      "  (3): Dropout(p=0.1, inplace=False)\n",
      "  (4): Linear(in_features=768, out_features=768, bias=True)\n",
      "  (5): LayerNorm((768,), eps=1e-05, elementwise_affine=True)\n",
      "  (6): Dropout(p=0.1, inplace=False)\n",
      "  (7): Linear(in_features=768, out_features=3072, bias=True)\n",
      "  (8): Linear(in_features=3072, out_features=768, bias=True)\n",
      "  (9): LayerNorm((768,), eps=1e-05, elementwise_affine=True)\n",
      "  (10): Dropout(p=0.1, inplace=False)\n",
      "), Sequential(\n",
      "  (0): Linear(in_features=768, out_features=768, bias=True)\n",
      "  (1): Linear(in_features=768, out_features=768, bias=True)\n",
      "  (2): Linear(in_features=768, out_features=768, bias=True)\n",
      "  (3): Dropout(p=0.1, inplace=False)\n",
      "  (4): Linear(in_features=768, out_features=768, bias=True)\n",
      "  (5): LayerNorm((768,), eps=1e-05, elementwise_affine=True)\n",
      "  (6): Dropout(p=0.1, inplace=False)\n",
      "  (7): Linear(in_features=768, out_features=3072, bias=True)\n",
      "  (8): Linear(in_features=3072, out_features=768, bias=True)\n",
      "  (9): LayerNorm((768,), eps=1e-05, elementwise_affine=True)\n",
      "  (10): Dropout(p=0.1, inplace=False)\n",
      "), Sequential(\n",
      "  (0): Linear(in_features=768, out_features=768, bias=True)\n",
      "  (1): Linear(in_features=768, out_features=768, bias=True)\n",
      "  (2): Linear(in_features=768, out_features=768, bias=True)\n",
      "  (3): Dropout(p=0.1, inplace=False)\n",
      "  (4): Linear(in_features=768, out_features=768, bias=True)\n",
      "  (5): LayerNorm((768,), eps=1e-05, elementwise_affine=True)\n",
      "  (6): Dropout(p=0.1, inplace=False)\n",
      "  (7): Linear(in_features=768, out_features=3072, bias=True)\n",
      "  (8): Linear(in_features=3072, out_features=768, bias=True)\n",
      "  (9): LayerNorm((768,), eps=1e-05, elementwise_affine=True)\n",
      "  (10): Dropout(p=0.1, inplace=False)\n",
      "), Sequential(\n",
      "  (0): Linear(in_features=768, out_features=768, bias=True)\n",
      "  (1): Linear(in_features=768, out_features=768, bias=True)\n",
      "  (2): Linear(in_features=768, out_features=768, bias=True)\n",
      "  (3): Dropout(p=0.1, inplace=False)\n",
      "  (4): Linear(in_features=768, out_features=768, bias=True)\n",
      "  (5): LayerNorm((768,), eps=1e-05, elementwise_affine=True)\n",
      "  (6): Dropout(p=0.1, inplace=False)\n",
      "  (7): Linear(in_features=768, out_features=3072, bias=True)\n",
      "  (8): Linear(in_features=3072, out_features=768, bias=True)\n",
      "  (9): LayerNorm((768,), eps=1e-05, elementwise_affine=True)\n",
      "  (10): Dropout(p=0.1, inplace=False)\n",
      "), Sequential(\n",
      "  (0): Linear(in_features=768, out_features=768, bias=True)\n",
      "  (1): Linear(in_features=768, out_features=768, bias=True)\n",
      "  (2): Linear(in_features=768, out_features=768, bias=True)\n",
      "  (3): Dropout(p=0.1, inplace=False)\n",
      "  (4): Linear(in_features=768, out_features=768, bias=True)\n",
      "  (5): LayerNorm((768,), eps=1e-05, elementwise_affine=True)\n",
      "  (6): Dropout(p=0.1, inplace=False)\n",
      "  (7): Linear(in_features=768, out_features=3072, bias=True)\n",
      "  (8): Linear(in_features=3072, out_features=768, bias=True)\n",
      "  (9): LayerNorm((768,), eps=1e-05, elementwise_affine=True)\n",
      "  (10): Dropout(p=0.1, inplace=False)\n",
      "), Sequential(\n",
      "  (0): Linear(in_features=768, out_features=768, bias=True)\n",
      "  (1): Linear(in_features=768, out_features=768, bias=True)\n",
      "  (2): Linear(in_features=768, out_features=768, bias=True)\n",
      "  (3): Dropout(p=0.1, inplace=False)\n",
      "  (4): Linear(in_features=768, out_features=768, bias=True)\n",
      "  (5): LayerNorm((768,), eps=1e-05, elementwise_affine=True)\n",
      "  (6): Dropout(p=0.1, inplace=False)\n",
      "  (7): Linear(in_features=768, out_features=3072, bias=True)\n",
      "  (8): Linear(in_features=3072, out_features=768, bias=True)\n",
      "  (9): LayerNorm((768,), eps=1e-05, elementwise_affine=True)\n",
      "  (10): Dropout(p=0.1, inplace=False)\n",
      "), Sequential(\n",
      "  (0): Linear(in_features=768, out_features=768, bias=True)\n",
      "  (1): Linear(in_features=768, out_features=768, bias=True)\n",
      "  (2): Linear(in_features=768, out_features=768, bias=True)\n",
      "  (3): Dropout(p=0.1, inplace=False)\n",
      "  (4): Linear(in_features=768, out_features=768, bias=True)\n",
      "  (5): LayerNorm((768,), eps=1e-05, elementwise_affine=True)\n",
      "  (6): Dropout(p=0.1, inplace=False)\n",
      "  (7): Linear(in_features=768, out_features=3072, bias=True)\n",
      "  (8): Linear(in_features=3072, out_features=768, bias=True)\n",
      "  (9): LayerNorm((768,), eps=1e-05, elementwise_affine=True)\n",
      "  (10): Dropout(p=0.1, inplace=False)\n",
      "), Sequential(\n",
      "  (0): Linear(in_features=768, out_features=768, bias=True)\n",
      "  (1): Linear(in_features=768, out_features=768, bias=True)\n",
      "  (2): Linear(in_features=768, out_features=768, bias=True)\n",
      "  (3): Dropout(p=0.1, inplace=False)\n",
      "  (4): Linear(in_features=768, out_features=768, bias=True)\n",
      "  (5): LayerNorm((768,), eps=1e-05, elementwise_affine=True)\n",
      "  (6): Dropout(p=0.1, inplace=False)\n",
      "  (7): Linear(in_features=768, out_features=3072, bias=True)\n",
      "  (8): Linear(in_features=3072, out_features=768, bias=True)\n",
      "  (9): LayerNorm((768,), eps=1e-05, elementwise_affine=True)\n",
      "  (10): Dropout(p=0.1, inplace=False)\n",
      "), Sequential(\n",
      "  (0): Linear(in_features=768, out_features=768, bias=True)\n",
      "  (1): Linear(in_features=768, out_features=768, bias=True)\n",
      "  (2): Linear(in_features=768, out_features=768, bias=True)\n",
      "  (3): Dropout(p=0.1, inplace=False)\n",
      "  (4): Linear(in_features=768, out_features=768, bias=True)\n",
      "  (5): LayerNorm((768,), eps=1e-05, elementwise_affine=True)\n",
      "  (6): Dropout(p=0.1, inplace=False)\n",
      "  (7): Linear(in_features=768, out_features=3072, bias=True)\n",
      "  (8): Linear(in_features=3072, out_features=768, bias=True)\n",
      "  (9): LayerNorm((768,), eps=1e-05, elementwise_affine=True)\n",
      "  (10): Dropout(p=0.1, inplace=False)\n",
      "), Sequential(\n",
      "  (0): Linear(in_features=768, out_features=768, bias=True)\n",
      "  (1): Linear(in_features=768, out_features=768, bias=True)\n",
      "  (2): Linear(in_features=768, out_features=768, bias=True)\n",
      "  (3): Dropout(p=0.1, inplace=False)\n",
      "  (4): Linear(in_features=768, out_features=768, bias=True)\n",
      "  (5): LayerNorm((768,), eps=1e-05, elementwise_affine=True)\n",
      "  (6): Dropout(p=0.1, inplace=False)\n",
      "  (7): Linear(in_features=768, out_features=3072, bias=True)\n",
      "  (8): Linear(in_features=3072, out_features=768, bias=True)\n",
      "  (9): LayerNorm((768,), eps=1e-05, elementwise_affine=True)\n",
      "  (10): Dropout(p=0.1, inplace=False)\n",
      "), Sequential(\n",
      "  (0): Linear(in_features=768, out_features=768, bias=True)\n",
      "  (1): Tanh()\n",
      "  (2): Linear(in_features=768, out_features=768, bias=True)\n",
      "  (3): Dropout(p=0.1, inplace=False)\n",
      "  (4): Linear(in_features=768, out_features=21, bias=True)\n",
      ")]\n"
     ]
    }
   ],
   "source": [
    "learner.split(list_layers)\n",
    "num_groups = len(learner.layer_groups)\n",
    "print('Learner split in',num_groups,'groups')\n",
    "print(learner.layer_groups)"
   ]
  },
  {
   "cell_type": "markdown",
   "metadata": {},
   "source": [
    "# Train\n",
    "Now we can finally use all the fastai build-in features to train our model. Like the ULMFiT method, we will use Slanted Triangular Learning Rates, Discriminate Learning Rate and gradually unfreeze the model."
   ]
  },
  {
   "cell_type": "code",
   "execution_count": 27,
   "metadata": {
    "ExecuteTime": {
     "end_time": "2020-11-09T18:14:13.812596Z",
     "start_time": "2020-11-09T18:14:06.028890Z"
    }
   },
   "outputs": [],
   "source": [
    "learner.save('untrained')"
   ]
  },
  {
   "cell_type": "code",
   "execution_count": 52,
   "metadata": {
    "ExecuteTime": {
     "end_time": "2020-11-09T18:27:53.037932Z",
     "start_time": "2020-11-09T18:27:52.734102Z"
    }
   },
   "outputs": [],
   "source": [
    "seed_all(seed)\n",
    "learner.load('untrained');"
   ]
  },
  {
   "cell_type": "code",
   "execution_count": 53,
   "metadata": {
    "ExecuteTime": {
     "end_time": "2020-11-09T18:27:53.718911Z",
     "start_time": "2020-11-09T18:27:53.713748Z"
    }
   },
   "outputs": [],
   "source": [
    "# we freeze all the layers except the classifier\n",
    "learner.freeze_to(-1)"
   ]
  },
  {
   "cell_type": "code",
   "execution_count": 54,
   "metadata": {
    "ExecuteTime": {
     "end_time": "2020-11-09T18:27:54.627117Z",
     "start_time": "2020-11-09T18:27:54.479978Z"
    }
   },
   "outputs": [
    {
     "name": "stderr",
     "output_type": "stream",
     "text": [
      "/home/jacek/workspace/interactive_dashboard/env/lib/python3.6/site-packages/numpy/core/_asarray.py:83: VisibleDeprecationWarning: Creating an ndarray from ragged nested sequences (which is a list-or-tuple of lists-or-tuples-or ndarrays with different lengths or shapes) is deprecated. If you meant to do this, you must specify 'dtype=object' when creating the ndarray\n",
      "  return array(a, dtype, copy=False, order=order)\n",
      "<string>:6: VisibleDeprecationWarning: Creating an ndarray from ragged nested sequences (which is a list-or-tuple of lists-or-tuples-or ndarrays with different lengths or shapes) is deprecated. If you meant to do this, you must specify 'dtype=object' when creating the ndarray\n"
     ]
    },
    {
     "data": {
      "text/plain": [
       "CustomTransformerModel\n",
       "======================================================================\n",
       "Layer (type)         Output Shape         Param #    Trainable \n",
       "======================================================================\n",
       "Embedding            [498, 768]           38,603,520 False     \n",
       "______________________________________________________________________\n",
       "Embedding            [498, 768]           394,752    False     \n",
       "______________________________________________________________________\n",
       "Embedding            [498, 768]           768        False     \n",
       "______________________________________________________________________\n",
       "LayerNorm            [498, 768]           1,536      False     \n",
       "______________________________________________________________________\n",
       "Dropout              [498, 768]           0          False     \n",
       "______________________________________________________________________\n",
       "Linear               [498, 768]           590,592    False     \n",
       "______________________________________________________________________\n",
       "Linear               [498, 768]           590,592    False     \n",
       "______________________________________________________________________\n",
       "Linear               [498, 768]           590,592    False     \n",
       "______________________________________________________________________\n",
       "Dropout              [12, 498, 498]       0          False     \n",
       "______________________________________________________________________\n",
       "Linear               [498, 768]           590,592    False     \n",
       "______________________________________________________________________\n",
       "LayerNorm            [498, 768]           1,536      False     \n",
       "______________________________________________________________________\n",
       "Dropout              [498, 768]           0          False     \n",
       "______________________________________________________________________\n",
       "Linear               [498, 3072]          2,362,368  False     \n",
       "______________________________________________________________________\n",
       "Linear               [498, 768]           2,360,064  False     \n",
       "______________________________________________________________________\n",
       "LayerNorm            [498, 768]           1,536      False     \n",
       "______________________________________________________________________\n",
       "Dropout              [498, 768]           0          False     \n",
       "______________________________________________________________________\n",
       "Linear               [498, 768]           590,592    False     \n",
       "______________________________________________________________________\n",
       "Linear               [498, 768]           590,592    False     \n",
       "______________________________________________________________________\n",
       "Linear               [498, 768]           590,592    False     \n",
       "______________________________________________________________________\n",
       "Dropout              [12, 498, 498]       0          False     \n",
       "______________________________________________________________________\n",
       "Linear               [498, 768]           590,592    False     \n",
       "______________________________________________________________________\n",
       "LayerNorm            [498, 768]           1,536      False     \n",
       "______________________________________________________________________\n",
       "Dropout              [498, 768]           0          False     \n",
       "______________________________________________________________________\n",
       "Linear               [498, 3072]          2,362,368  False     \n",
       "______________________________________________________________________\n",
       "Linear               [498, 768]           2,360,064  False     \n",
       "______________________________________________________________________\n",
       "LayerNorm            [498, 768]           1,536      False     \n",
       "______________________________________________________________________\n",
       "Dropout              [498, 768]           0          False     \n",
       "______________________________________________________________________\n",
       "Linear               [498, 768]           590,592    False     \n",
       "______________________________________________________________________\n",
       "Linear               [498, 768]           590,592    False     \n",
       "______________________________________________________________________\n",
       "Linear               [498, 768]           590,592    False     \n",
       "______________________________________________________________________\n",
       "Dropout              [12, 498, 498]       0          False     \n",
       "______________________________________________________________________\n",
       "Linear               [498, 768]           590,592    False     \n",
       "______________________________________________________________________\n",
       "LayerNorm            [498, 768]           1,536      False     \n",
       "______________________________________________________________________\n",
       "Dropout              [498, 768]           0          False     \n",
       "______________________________________________________________________\n",
       "Linear               [498, 3072]          2,362,368  False     \n",
       "______________________________________________________________________\n",
       "Linear               [498, 768]           2,360,064  False     \n",
       "______________________________________________________________________\n",
       "LayerNorm            [498, 768]           1,536      False     \n",
       "______________________________________________________________________\n",
       "Dropout              [498, 768]           0          False     \n",
       "______________________________________________________________________\n",
       "Linear               [498, 768]           590,592    False     \n",
       "______________________________________________________________________\n",
       "Linear               [498, 768]           590,592    False     \n",
       "______________________________________________________________________\n",
       "Linear               [498, 768]           590,592    False     \n",
       "______________________________________________________________________\n",
       "Dropout              [12, 498, 498]       0          False     \n",
       "______________________________________________________________________\n",
       "Linear               [498, 768]           590,592    False     \n",
       "______________________________________________________________________\n",
       "LayerNorm            [498, 768]           1,536      False     \n",
       "______________________________________________________________________\n",
       "Dropout              [498, 768]           0          False     \n",
       "______________________________________________________________________\n",
       "Linear               [498, 3072]          2,362,368  False     \n",
       "______________________________________________________________________\n",
       "Linear               [498, 768]           2,360,064  False     \n",
       "______________________________________________________________________\n",
       "LayerNorm            [498, 768]           1,536      False     \n",
       "______________________________________________________________________\n",
       "Dropout              [498, 768]           0          False     \n",
       "______________________________________________________________________\n",
       "Linear               [498, 768]           590,592    False     \n",
       "______________________________________________________________________\n",
       "Linear               [498, 768]           590,592    False     \n",
       "______________________________________________________________________\n",
       "Linear               [498, 768]           590,592    False     \n",
       "______________________________________________________________________\n",
       "Dropout              [12, 498, 498]       0          False     \n",
       "______________________________________________________________________\n",
       "Linear               [498, 768]           590,592    False     \n",
       "______________________________________________________________________\n",
       "LayerNorm            [498, 768]           1,536      False     \n",
       "______________________________________________________________________\n",
       "Dropout              [498, 768]           0          False     \n",
       "______________________________________________________________________\n",
       "Linear               [498, 3072]          2,362,368  False     \n",
       "______________________________________________________________________\n",
       "Linear               [498, 768]           2,360,064  False     \n",
       "______________________________________________________________________\n",
       "LayerNorm            [498, 768]           1,536      False     \n",
       "______________________________________________________________________\n",
       "Dropout              [498, 768]           0          False     \n",
       "______________________________________________________________________\n",
       "Linear               [498, 768]           590,592    False     \n",
       "______________________________________________________________________\n",
       "Linear               [498, 768]           590,592    False     \n",
       "______________________________________________________________________\n",
       "Linear               [498, 768]           590,592    False     \n",
       "______________________________________________________________________\n",
       "Dropout              [12, 498, 498]       0          False     \n",
       "______________________________________________________________________\n",
       "Linear               [498, 768]           590,592    False     \n",
       "______________________________________________________________________\n",
       "LayerNorm            [498, 768]           1,536      False     \n",
       "______________________________________________________________________\n",
       "Dropout              [498, 768]           0          False     \n",
       "______________________________________________________________________\n",
       "Linear               [498, 3072]          2,362,368  False     \n",
       "______________________________________________________________________\n",
       "Linear               [498, 768]           2,360,064  False     \n",
       "______________________________________________________________________\n",
       "LayerNorm            [498, 768]           1,536      False     \n",
       "______________________________________________________________________\n",
       "Dropout              [498, 768]           0          False     \n",
       "______________________________________________________________________\n",
       "Linear               [498, 768]           590,592    False     \n",
       "______________________________________________________________________\n",
       "Linear               [498, 768]           590,592    False     \n",
       "______________________________________________________________________\n",
       "Linear               [498, 768]           590,592    False     \n",
       "______________________________________________________________________\n",
       "Dropout              [12, 498, 498]       0          False     \n",
       "______________________________________________________________________\n",
       "Linear               [498, 768]           590,592    False     \n",
       "______________________________________________________________________\n",
       "LayerNorm            [498, 768]           1,536      False     \n",
       "______________________________________________________________________\n",
       "Dropout              [498, 768]           0          False     \n",
       "______________________________________________________________________\n",
       "Linear               [498, 3072]          2,362,368  False     \n",
       "______________________________________________________________________\n",
       "Linear               [498, 768]           2,360,064  False     \n",
       "______________________________________________________________________\n",
       "LayerNorm            [498, 768]           1,536      False     \n",
       "______________________________________________________________________\n",
       "Dropout              [498, 768]           0          False     \n",
       "______________________________________________________________________\n",
       "Linear               [498, 768]           590,592    False     \n",
       "______________________________________________________________________\n",
       "Linear               [498, 768]           590,592    False     \n",
       "______________________________________________________________________\n",
       "Linear               [498, 768]           590,592    False     \n",
       "______________________________________________________________________\n",
       "Dropout              [12, 498, 498]       0          False     \n",
       "______________________________________________________________________\n",
       "Linear               [498, 768]           590,592    False     \n",
       "______________________________________________________________________\n",
       "LayerNorm            [498, 768]           1,536      False     \n",
       "______________________________________________________________________\n",
       "Dropout              [498, 768]           0          False     \n",
       "______________________________________________________________________\n",
       "Linear               [498, 3072]          2,362,368  False     \n",
       "______________________________________________________________________\n",
       "Linear               [498, 768]           2,360,064  False     \n",
       "______________________________________________________________________\n",
       "LayerNorm            [498, 768]           1,536      False     \n",
       "______________________________________________________________________\n",
       "Dropout              [498, 768]           0          False     \n",
       "______________________________________________________________________\n",
       "Linear               [498, 768]           590,592    False     \n",
       "______________________________________________________________________\n",
       "Linear               [498, 768]           590,592    False     \n",
       "______________________________________________________________________\n",
       "Linear               [498, 768]           590,592    False     \n",
       "______________________________________________________________________\n",
       "Dropout              [12, 498, 498]       0          False     \n",
       "______________________________________________________________________\n",
       "Linear               [498, 768]           590,592    False     \n",
       "______________________________________________________________________\n",
       "LayerNorm            [498, 768]           1,536      False     \n",
       "______________________________________________________________________\n",
       "Dropout              [498, 768]           0          False     \n",
       "______________________________________________________________________\n",
       "Linear               [498, 3072]          2,362,368  False     \n",
       "______________________________________________________________________\n",
       "Linear               [498, 768]           2,360,064  False     \n",
       "______________________________________________________________________\n",
       "LayerNorm            [498, 768]           1,536      False     \n",
       "______________________________________________________________________\n",
       "Dropout              [498, 768]           0          False     \n",
       "______________________________________________________________________\n",
       "Linear               [498, 768]           590,592    False     \n",
       "______________________________________________________________________\n",
       "Linear               [498, 768]           590,592    False     \n",
       "______________________________________________________________________\n",
       "Linear               [498, 768]           590,592    False     \n",
       "______________________________________________________________________\n",
       "Dropout              [12, 498, 498]       0          False     \n",
       "______________________________________________________________________\n",
       "Linear               [498, 768]           590,592    False     \n",
       "______________________________________________________________________\n",
       "LayerNorm            [498, 768]           1,536      False     \n",
       "______________________________________________________________________\n",
       "Dropout              [498, 768]           0          False     \n",
       "______________________________________________________________________\n",
       "Linear               [498, 3072]          2,362,368  False     \n",
       "______________________________________________________________________\n",
       "Linear               [498, 768]           2,360,064  False     \n",
       "______________________________________________________________________\n",
       "LayerNorm            [498, 768]           1,536      False     \n",
       "______________________________________________________________________\n",
       "Dropout              [498, 768]           0          False     \n",
       "______________________________________________________________________\n",
       "Linear               [498, 768]           590,592    False     \n",
       "______________________________________________________________________\n",
       "Linear               [498, 768]           590,592    False     \n",
       "______________________________________________________________________\n",
       "Linear               [498, 768]           590,592    False     \n",
       "______________________________________________________________________\n",
       "Dropout              [12, 498, 498]       0          False     \n",
       "______________________________________________________________________\n",
       "Linear               [498, 768]           590,592    False     \n",
       "______________________________________________________________________\n",
       "LayerNorm            [498, 768]           1,536      False     \n",
       "______________________________________________________________________\n",
       "Dropout              [498, 768]           0          False     \n",
       "______________________________________________________________________\n",
       "Linear               [498, 3072]          2,362,368  False     \n",
       "______________________________________________________________________\n",
       "Linear               [498, 768]           2,360,064  False     \n",
       "______________________________________________________________________\n",
       "LayerNorm            [498, 768]           1,536      False     \n",
       "______________________________________________________________________\n",
       "Dropout              [498, 768]           0          False     \n",
       "______________________________________________________________________\n",
       "Linear               [498, 768]           590,592    False     \n",
       "______________________________________________________________________\n",
       "Linear               [498, 768]           590,592    False     \n",
       "______________________________________________________________________\n",
       "Linear               [498, 768]           590,592    False     \n",
       "______________________________________________________________________\n",
       "Dropout              [12, 498, 498]       0          False     \n",
       "______________________________________________________________________\n",
       "Linear               [498, 768]           590,592    False     \n",
       "______________________________________________________________________\n",
       "LayerNorm            [498, 768]           1,536      False     \n",
       "______________________________________________________________________\n",
       "Dropout              [498, 768]           0          False     \n",
       "______________________________________________________________________\n",
       "Linear               [498, 3072]          2,362,368  False     \n",
       "______________________________________________________________________\n",
       "Linear               [498, 768]           2,360,064  False     \n",
       "______________________________________________________________________\n",
       "LayerNorm            [498, 768]           1,536      False     \n",
       "______________________________________________________________________\n",
       "Dropout              [498, 768]           0          False     \n",
       "______________________________________________________________________\n",
       "Linear               [768]                590,592    True      \n",
       "______________________________________________________________________\n",
       "Tanh                 [768]                0          False     \n",
       "______________________________________________________________________\n",
       "Linear               [768]                590,592    True      \n",
       "______________________________________________________________________\n",
       "Dropout              [768]                0          False     \n",
       "______________________________________________________________________\n",
       "Linear               [21]                 16,149     True      \n",
       "______________________________________________________________________\n",
       "\n",
       "Total params: 125,252,373\n",
       "Total trainable params: 1,197,333\n",
       "Total non-trainable params: 124,055,040\n",
       "Optimized with 'transformers.optimization.AdamW', correct_bias=False\n",
       "Using true weight decay as discussed in https://www.fast.ai/2018/07/02/adam-weight-decay/ \n",
       "Loss function : FlattenedLoss\n",
       "======================================================================\n",
       "Callbacks functions applied \n",
       "    ShowGraph"
      ]
     },
     "execution_count": 54,
     "metadata": {},
     "output_type": "execute_result"
    }
   ],
   "source": [
    "# let's check which layer is trainable\n",
    "learner.summary()"
   ]
  },
  {
   "cell_type": "code",
   "execution_count": 55,
   "metadata": {
    "ExecuteTime": {
     "end_time": "2020-11-09T18:28:09.575616Z",
     "start_time": "2020-11-09T18:27:58.883319Z"
    }
   },
   "outputs": [
    {
     "data": {
      "text/html": [
       "\n",
       "    <div>\n",
       "        <style>\n",
       "            /* Turns off some styling */\n",
       "            progress {\n",
       "                /* gets rid of default border in Firefox and Opera. */\n",
       "                border: none;\n",
       "                /* Needs to be in here for Safari polyfill so background images work as expected. */\n",
       "                background-size: auto;\n",
       "            }\n",
       "            .progress-bar-interrupted, .progress-bar-interrupted::-webkit-progress-bar {\n",
       "                background: #F44336;\n",
       "            }\n",
       "        </style>\n",
       "      <progress value='0' class='' max='1' style='width:300px; height:20px; vertical-align: middle;'></progress>\n",
       "      0.00% [0/1 00:00<00:00]\n",
       "    </div>\n",
       "    \n",
       "<table border=\"1\" class=\"dataframe\">\n",
       "  <thead>\n",
       "    <tr style=\"text-align: left;\">\n",
       "      <th>epoch</th>\n",
       "      <th>train_loss</th>\n",
       "      <th>valid_loss</th>\n",
       "      <th>accuracy</th>\n",
       "      <th>error_rate</th>\n",
       "      <th>time</th>\n",
       "    </tr>\n",
       "  </thead>\n",
       "  <tbody>\n",
       "  </tbody>\n",
       "</table><p>\n",
       "\n",
       "    <div>\n",
       "        <style>\n",
       "            /* Turns off some styling */\n",
       "            progress {\n",
       "                /* gets rid of default border in Firefox and Opera. */\n",
       "                border: none;\n",
       "                /* Needs to be in here for Safari polyfill so background images work as expected. */\n",
       "                background-size: auto;\n",
       "            }\n",
       "            .progress-bar-interrupted, .progress-bar-interrupted::-webkit-progress-bar {\n",
       "                background: #F44336;\n",
       "            }\n",
       "        </style>\n",
       "      <progress value='69' class='' max='264' style='width:300px; height:20px; vertical-align: middle;'></progress>\n",
       "      26.14% [69/264 00:03<00:09 6.7463]\n",
       "    </div>\n",
       "    "
      ],
      "text/plain": [
       "<IPython.core.display.HTML object>"
      ]
     },
     "metadata": {},
     "output_type": "display_data"
    },
    {
     "name": "stdout",
     "output_type": "stream",
     "text": [
      "LR Finder is complete, type {learner_name}.recorder.plot() to see the graph.\n"
     ]
    }
   ],
   "source": [
    "learner.lr_find()"
   ]
  },
  {
   "cell_type": "code",
   "execution_count": 56,
   "metadata": {
    "ExecuteTime": {
     "end_time": "2020-11-09T18:28:09.909259Z",
     "start_time": "2020-11-09T18:28:09.578044Z"
    }
   },
   "outputs": [
    {
     "name": "stdout",
     "output_type": "stream",
     "text": [
      "Min numerical gradient: 1.58E-06\n",
      "Min loss divided by 10: 8.32E-07\n"
     ]
    },
    {
     "data": {
      "image/png": "[encoded data removed]",
      "text/plain": [
       "<Figure size 432x288 with 1 Axes>"
      ]
     },
     "metadata": {
      "needs_background": "light"
     },
     "output_type": "display_data"
    }
   ],
   "source": [
    "learner.recorder.plot(skip_end=10,suggestion=True)"
   ]
  },
  {
   "cell_type": "code",
   "execution_count": 57,
   "metadata": {
    "ExecuteTime": {
     "end_time": "2020-11-09T18:28:56.260972Z",
     "start_time": "2020-11-09T18:28:27.899812Z"
    }
   },
   "outputs": [
    {
     "data": {
      "text/html": [
       "<table border=\"1\" class=\"dataframe\">\n",
       "  <thead>\n",
       "    <tr style=\"text-align: left;\">\n",
       "      <th>epoch</th>\n",
       "      <th>train_loss</th>\n",
       "      <th>valid_loss</th>\n",
       "      <th>accuracy</th>\n",
       "      <th>error_rate</th>\n",
       "      <th>time</th>\n",
       "    </tr>\n",
       "  </thead>\n",
       "  <tbody>\n",
       "    <tr>\n",
       "      <td>0</td>\n",
       "      <td>3.100919</td>\n",
       "      <td>3.001786</td>\n",
       "      <td>0.102564</td>\n",
       "      <td>0.897436</td>\n",
       "      <td>00:12</td>\n",
       "    </tr>\n",
       "    <tr>\n",
       "      <td>1</td>\n",
       "      <td>3.009919</td>\n",
       "      <td>2.954383</td>\n",
       "      <td>0.205128</td>\n",
       "      <td>0.794872</td>\n",
       "      <td>00:15</td>\n",
       "    </tr>\n",
       "  </tbody>\n",
       "</table>"
      ],
      "text/plain": [
       "<IPython.core.display.HTML object>"
      ]
     },
     "metadata": {},
     "output_type": "display_data"
    },
    {
     "data": {
      "image/png": "[encoded data removed]",
      "text/plain": [
       "<Figure size 432x288 with 1 Axes>"
      ]
     },
     "metadata": {},
     "output_type": "display_data"
    },
    {
     "name": "stderr",
     "output_type": "stream",
     "text": [
      "/home/jacek/workspace/interactive_dashboard/env/lib/python3.6/site-packages/numpy/core/_asarray.py:83: VisibleDeprecationWarning: Creating an ndarray from ragged nested sequences (which is a list-or-tuple of lists-or-tuples-or ndarrays with different lengths or shapes) is deprecated. If you meant to do this, you must specify 'dtype=object' when creating the ndarray\n",
      "  return array(a, dtype, copy=False, order=order)\n",
      "<string>:6: VisibleDeprecationWarning: Creating an ndarray from ragged nested sequences (which is a list-or-tuple of lists-or-tuples-or ndarrays with different lengths or shapes) is deprecated. If you meant to do this, you must specify 'dtype=object' when creating the ndarray\n"
     ]
    }
   ],
   "source": [
    "learner.fit_one_cycle(2,max_lr=2e-04,moms=(0.8,0.7))"
   ]
  },
  {
   "cell_type": "code",
   "execution_count": 58,
   "metadata": {
    "ExecuteTime": {
     "end_time": "2020-11-09T18:29:07.366161Z",
     "start_time": "2020-11-09T18:29:00.372232Z"
    }
   },
   "outputs": [],
   "source": [
    "learner.save('first_cycle')"
   ]
  },
  {
   "cell_type": "code",
   "execution_count": 59,
   "metadata": {
    "ExecuteTime": {
     "end_time": "2020-11-09T18:29:07.706836Z",
     "start_time": "2020-11-09T18:29:07.372089Z"
    }
   },
   "outputs": [],
   "source": [
    "seed_all(seed)\n",
    "learner.load('first_cycle');"
   ]
  },
  {
   "cell_type": "code",
   "execution_count": 60,
   "metadata": {
    "ExecuteTime": {
     "end_time": "2020-11-09T18:29:07.743421Z",
     "start_time": "2020-11-09T18:29:07.709310Z"
    }
   },
   "outputs": [],
   "source": [
    "# We then unfreeze the second group of layers and repeat the operations.\n",
    "\n",
    "learner.freeze_to(-2)"
   ]
  },
  {
   "cell_type": "code",
   "execution_count": 61,
   "metadata": {
    "ExecuteTime": {
     "end_time": "2020-11-09T18:29:12.717901Z",
     "start_time": "2020-11-09T18:29:12.711719Z"
    }
   },
   "outputs": [],
   "source": [
    "lr = 1e-4"
   ]
  },
  {
   "cell_type": "code",
   "execution_count": 62,
   "metadata": {
    "ExecuteTime": {
     "end_time": "2020-11-09T18:29:31.703549Z",
     "start_time": "2020-11-09T18:29:14.172027Z"
    }
   },
   "outputs": [
    {
     "data": {
      "text/html": [
       "<table border=\"1\" class=\"dataframe\">\n",
       "  <thead>\n",
       "    <tr style=\"text-align: left;\">\n",
       "      <th>epoch</th>\n",
       "      <th>train_loss</th>\n",
       "      <th>valid_loss</th>\n",
       "      <th>accuracy</th>\n",
       "      <th>error_rate</th>\n",
       "      <th>time</th>\n",
       "    </tr>\n",
       "  </thead>\n",
       "  <tbody>\n",
       "    <tr>\n",
       "      <td>0</td>\n",
       "      <td>2.223781</td>\n",
       "      <td>2.092576</td>\n",
       "      <td>0.299145</td>\n",
       "      <td>0.700855</td>\n",
       "      <td>00:17</td>\n",
       "    </tr>\n",
       "  </tbody>\n",
       "</table>"
      ],
      "text/plain": [
       "<IPython.core.display.HTML object>"
      ]
     },
     "metadata": {},
     "output_type": "display_data"
    },
    {
     "name": "stderr",
     "output_type": "stream",
     "text": [
      "/home/jacek/workspace/interactive_dashboard/env/lib/python3.6/site-packages/numpy/core/_asarray.py:83: VisibleDeprecationWarning: Creating an ndarray from ragged nested sequences (which is a list-or-tuple of lists-or-tuples-or ndarrays with different lengths or shapes) is deprecated. If you meant to do this, you must specify 'dtype=object' when creating the ndarray\n",
      "  return array(a, dtype, copy=False, order=order)\n",
      "<string>:6: VisibleDeprecationWarning: Creating an ndarray from ragged nested sequences (which is a list-or-tuple of lists-or-tuples-or ndarrays with different lengths or shapes) is deprecated. If you meant to do this, you must specify 'dtype=object' when creating the ndarray\n"
     ]
    },
    {
     "data": {
      "image/png": "[encoded data removed]",
      "text/plain": [
       "<Figure size 432x288 with 1 Axes>"
      ]
     },
     "metadata": {},
     "output_type": "display_data"
    }
   ],
   "source": [
    "# Note here that we use slice to create separate learning rate for each group.\n",
    "\n",
    "learner.fit_one_cycle(1, max_lr=slice(lr*0.95**num_groups, lr), moms=(0.8, 0.9))"
   ]
  },
  {
   "cell_type": "code",
   "execution_count": 63,
   "metadata": {
    "ExecuteTime": {
     "end_time": "2020-11-09T18:29:48.833024Z",
     "start_time": "2020-11-09T18:29:40.616945Z"
    }
   },
   "outputs": [],
   "source": [
    "learner.save('second_cycle')"
   ]
  },
  {
   "cell_type": "code",
   "execution_count": 64,
   "metadata": {
    "ExecuteTime": {
     "end_time": "2020-11-09T18:29:49.206688Z",
     "start_time": "2020-11-09T18:29:48.838366Z"
    }
   },
   "outputs": [],
   "source": [
    "seed_all(seed)\n",
    "learner.load('second_cycle');"
   ]
  },
  {
   "cell_type": "code",
   "execution_count": 65,
   "metadata": {
    "ExecuteTime": {
     "end_time": "2020-11-09T18:29:49.214397Z",
     "start_time": "2020-11-09T18:29:49.208928Z"
    }
   },
   "outputs": [],
   "source": [
    "learner.freeze_to(-3)"
   ]
  },
  {
   "cell_type": "code",
   "execution_count": 66,
   "metadata": {
    "ExecuteTime": {
     "end_time": "2020-11-09T18:30:30.949561Z",
     "start_time": "2020-11-09T18:29:50.379023Z"
    }
   },
   "outputs": [
    {
     "data": {
      "text/html": [
       "<table border=\"1\" class=\"dataframe\">\n",
       "  <thead>\n",
       "    <tr style=\"text-align: left;\">\n",
       "      <th>epoch</th>\n",
       "      <th>train_loss</th>\n",
       "      <th>valid_loss</th>\n",
       "      <th>accuracy</th>\n",
       "      <th>error_rate</th>\n",
       "      <th>time</th>\n",
       "    </tr>\n",
       "  </thead>\n",
       "  <tbody>\n",
       "    <tr>\n",
       "      <td>0</td>\n",
       "      <td>2.133608</td>\n",
       "      <td>2.348122</td>\n",
       "      <td>0.247863</td>\n",
       "      <td>0.752137</td>\n",
       "      <td>00:20</td>\n",
       "    </tr>\n",
       "    <tr>\n",
       "      <td>1</td>\n",
       "      <td>1.359887</td>\n",
       "      <td>2.076568</td>\n",
       "      <td>0.358974</td>\n",
       "      <td>0.641026</td>\n",
       "      <td>00:20</td>\n",
       "    </tr>\n",
       "  </tbody>\n",
       "</table>"
      ],
      "text/plain": [
       "<IPython.core.display.HTML object>"
      ]
     },
     "metadata": {},
     "output_type": "display_data"
    },
    {
     "name": "stderr",
     "output_type": "stream",
     "text": [
      "/home/jacek/workspace/interactive_dashboard/env/lib/python3.6/site-packages/numpy/core/_asarray.py:83: VisibleDeprecationWarning: Creating an ndarray from ragged nested sequences (which is a list-or-tuple of lists-or-tuples-or ndarrays with different lengths or shapes) is deprecated. If you meant to do this, you must specify 'dtype=object' when creating the ndarray\n",
      "  return array(a, dtype, copy=False, order=order)\n",
      "<string>:6: VisibleDeprecationWarning: Creating an ndarray from ragged nested sequences (which is a list-or-tuple of lists-or-tuples-or ndarrays with different lengths or shapes) is deprecated. If you meant to do this, you must specify 'dtype=object' when creating the ndarray\n"
     ]
    },
    {
     "data": {
      "image/png": "[encoded data removed]",
      "text/plain": [
       "<Figure size 432x288 with 1 Axes>"
      ]
     },
     "metadata": {},
     "output_type": "display_data"
    },
    {
     "name": "stderr",
     "output_type": "stream",
     "text": [
      "/home/jacek/workspace/interactive_dashboard/env/lib/python3.6/site-packages/numpy/core/_asarray.py:83: VisibleDeprecationWarning: Creating an ndarray from ragged nested sequences (which is a list-or-tuple of lists-or-tuples-or ndarrays with different lengths or shapes) is deprecated. If you meant to do this, you must specify 'dtype=object' when creating the ndarray\n",
      "  return array(a, dtype, copy=False, order=order)\n",
      "<string>:6: VisibleDeprecationWarning: Creating an ndarray from ragged nested sequences (which is a list-or-tuple of lists-or-tuples-or ndarrays with different lengths or shapes) is deprecated. If you meant to do this, you must specify 'dtype=object' when creating the ndarray\n"
     ]
    }
   ],
   "source": [
    "learner.fit_one_cycle(2, max_lr=slice(lr*0.95**num_groups, lr), moms=(0.8, 0.9))\n"
   ]
  },
  {
   "cell_type": "code",
   "execution_count": 44,
   "metadata": {
    "ExecuteTime": {
     "end_time": "2020-11-09T18:18:22.030054Z",
     "start_time": "2020-11-09T18:18:12.998555Z"
    }
   },
   "outputs": [],
   "source": [
    "learner.save('third_cycle')\n"
   ]
  },
  {
   "cell_type": "code",
   "execution_count": 49,
   "metadata": {
    "ExecuteTime": {
     "end_time": "2020-11-09T18:22:35.010762Z",
     "start_time": "2020-11-09T18:22:34.670267Z"
    }
   },
   "outputs": [],
   "source": [
    "seed_all(seed)\n",
    "learner.load('third_cycle');"
   ]
  },
  {
   "cell_type": "code",
   "execution_count": 50,
   "metadata": {
    "ExecuteTime": {
     "end_time": "2020-11-09T18:22:35.610363Z",
     "start_time": "2020-11-09T18:22:35.595386Z"
    }
   },
   "outputs": [],
   "source": [
    "learner.unfreeze()\n"
   ]
  },
  {
   "cell_type": "code",
   "execution_count": 51,
   "metadata": {
    "ExecuteTime": {
     "end_time": "2020-11-09T18:27:14.199980Z",
     "start_time": "2020-11-09T18:22:37.465774Z"
    }
   },
   "outputs": [
    {
     "data": {
      "text/html": [
       "<table border=\"1\" class=\"dataframe\">\n",
       "  <thead>\n",
       "    <tr style=\"text-align: left;\">\n",
       "      <th>epoch</th>\n",
       "      <th>train_loss</th>\n",
       "      <th>valid_loss</th>\n",
       "      <th>accuracy</th>\n",
       "      <th>error_rate</th>\n",
       "      <th>time</th>\n",
       "    </tr>\n",
       "  </thead>\n",
       "  <tbody>\n",
       "    <tr>\n",
       "      <td>0</td>\n",
       "      <td>2.290311</td>\n",
       "      <td>2.330794</td>\n",
       "      <td>0.230769</td>\n",
       "      <td>0.769231</td>\n",
       "      <td>00:57</td>\n",
       "    </tr>\n",
       "    <tr>\n",
       "      <td>1</td>\n",
       "      <td>1.918125</td>\n",
       "      <td>2.063734</td>\n",
       "      <td>0.341880</td>\n",
       "      <td>0.658120</td>\n",
       "      <td>00:56</td>\n",
       "    </tr>\n",
       "    <tr>\n",
       "      <td>2</td>\n",
       "      <td>1.552379</td>\n",
       "      <td>2.003577</td>\n",
       "      <td>0.384615</td>\n",
       "      <td>0.615385</td>\n",
       "      <td>00:50</td>\n",
       "    </tr>\n",
       "    <tr>\n",
       "      <td>3</td>\n",
       "      <td>1.252370</td>\n",
       "      <td>1.906254</td>\n",
       "      <td>0.470085</td>\n",
       "      <td>0.529915</td>\n",
       "      <td>00:56</td>\n",
       "    </tr>\n",
       "    <tr>\n",
       "      <td>4</td>\n",
       "      <td>1.122735</td>\n",
       "      <td>1.894966</td>\n",
       "      <td>0.470085</td>\n",
       "      <td>0.529915</td>\n",
       "      <td>00:54</td>\n",
       "    </tr>\n",
       "  </tbody>\n",
       "</table>"
      ],
      "text/plain": [
       "<IPython.core.display.HTML object>"
      ]
     },
     "metadata": {},
     "output_type": "display_data"
    },
    {
     "name": "stderr",
     "output_type": "stream",
     "text": [
      "/home/jacek/workspace/interactive_dashboard/env/lib/python3.6/site-packages/numpy/core/_asarray.py:83: VisibleDeprecationWarning: Creating an ndarray from ragged nested sequences (which is a list-or-tuple of lists-or-tuples-or ndarrays with different lengths or shapes) is deprecated. If you meant to do this, you must specify 'dtype=object' when creating the ndarray\n",
      "  return array(a, dtype, copy=False, order=order)\n",
      "<string>:6: VisibleDeprecationWarning: Creating an ndarray from ragged nested sequences (which is a list-or-tuple of lists-or-tuples-or ndarrays with different lengths or shapes) is deprecated. If you meant to do this, you must specify 'dtype=object' when creating the ndarray\n"
     ]
    },
    {
     "data": {
      "image/png": "[encoded data removed]",
      "text/plain": [
       "<Figure size 432x288 with 1 Axes>"
      ]
     },
     "metadata": {},
     "output_type": "display_data"
    },
    {
     "name": "stderr",
     "output_type": "stream",
     "text": [
      "/home/jacek/workspace/interactive_dashboard/env/lib/python3.6/site-packages/numpy/core/_asarray.py:83: VisibleDeprecationWarning: Creating an ndarray from ragged nested sequences (which is a list-or-tuple of lists-or-tuples-or ndarrays with different lengths or shapes) is deprecated. If you meant to do this, you must specify 'dtype=object' when creating the ndarray\n",
      "  return array(a, dtype, copy=False, order=order)\n",
      "<string>:6: VisibleDeprecationWarning: Creating an ndarray from ragged nested sequences (which is a list-or-tuple of lists-or-tuples-or ndarrays with different lengths or shapes) is deprecated. If you meant to do this, you must specify 'dtype=object' when creating the ndarray\n",
      "/home/jacek/workspace/interactive_dashboard/env/lib/python3.6/site-packages/numpy/core/_asarray.py:83: VisibleDeprecationWarning: Creating an ndarray from ragged nested sequences (which is a list-or-tuple of lists-or-tuples-or ndarrays with different lengths or shapes) is deprecated. If you meant to do this, you must specify 'dtype=object' when creating the ndarray\n",
      "  return array(a, dtype, copy=False, order=order)\n",
      "<string>:6: VisibleDeprecationWarning: Creating an ndarray from ragged nested sequences (which is a list-or-tuple of lists-or-tuples-or ndarrays with different lengths or shapes) is deprecated. If you meant to do this, you must specify 'dtype=object' when creating the ndarray\n",
      "/home/jacek/workspace/interactive_dashboard/env/lib/python3.6/site-packages/numpy/core/_asarray.py:83: VisibleDeprecationWarning: Creating an ndarray from ragged nested sequences (which is a list-or-tuple of lists-or-tuples-or ndarrays with different lengths or shapes) is deprecated. If you meant to do this, you must specify 'dtype=object' when creating the ndarray\n",
      "  return array(a, dtype, copy=False, order=order)\n",
      "<string>:6: VisibleDeprecationWarning: Creating an ndarray from ragged nested sequences (which is a list-or-tuple of lists-or-tuples-or ndarrays with different lengths or shapes) is deprecated. If you meant to do this, you must specify 'dtype=object' when creating the ndarray\n",
      "/home/jacek/workspace/interactive_dashboard/env/lib/python3.6/site-packages/numpy/core/_asarray.py:83: VisibleDeprecationWarning: Creating an ndarray from ragged nested sequences (which is a list-or-tuple of lists-or-tuples-or ndarrays with different lengths or shapes) is deprecated. If you meant to do this, you must specify 'dtype=object' when creating the ndarray\n",
      "  return array(a, dtype, copy=False, order=order)\n",
      "<string>:6: VisibleDeprecationWarning: Creating an ndarray from ragged nested sequences (which is a list-or-tuple of lists-or-tuples-or ndarrays with different lengths or shapes) is deprecated. If you meant to do this, you must specify 'dtype=object' when creating the ndarray\n"
     ]
    }
   ],
   "source": [
    "learner.fit_one_cycle(5, max_lr=slice(lr*0.95**num_groups, lr), moms=(0.8, 0.9))\n"
   ]
  },
  {
   "cell_type": "code",
   "execution_count": 47,
   "metadata": {
    "ExecuteTime": {
     "end_time": "2020-11-09T18:02:29.740267Z",
     "start_time": "2020-11-09T18:02:28.495918Z"
    }
   },
   "outputs": [],
   "source": [
    "learner.export(file = 'transformer_genre.pkl');"
   ]
  },
  {
   "cell_type": "code",
   "execution_count": 48,
   "metadata": {
    "ExecuteTime": {
     "end_time": "2020-11-09T18:02:34.441763Z",
     "start_time": "2020-11-09T18:02:34.060773Z"
    },
    "scrolled": true
   },
   "outputs": [
    {
     "data": {
      "text/html": [],
      "text/plain": [
       "<IPython.core.display.HTML object>"
      ]
     },
     "metadata": {},
     "output_type": "display_data"
    },
    {
     "data": {
      "text/html": [],
      "text/plain": [
       "<IPython.core.display.HTML object>"
      ]
     },
     "metadata": {},
     "output_type": "display_data"
    }
   ],
   "source": [
    "path = ''\n",
    "export_learner = load_learner(path, file = 'transformer_genre.pkl')\n"
   ]
  },
  {
   "cell_type": "code",
   "execution_count": 52,
   "metadata": {
    "ExecuteTime": {
     "end_time": "2020-11-09T18:04:23.091976Z",
     "start_time": "2020-11-09T18:04:23.081274Z"
    }
   },
   "outputs": [],
   "source": [
    "anime_df = pd.read_csv('data/anime_reviews/anime_genre_test.csv')"
   ]
  },
  {
   "cell_type": "code",
   "execution_count": 55,
   "metadata": {
    "ExecuteTime": {
     "end_time": "2020-11-09T18:04:47.914652Z",
     "start_time": "2020-11-09T18:04:47.906414Z"
    }
   },
   "outputs": [
    {
     "data": {
      "text/html": [
       "<div>\n",
       "<style scoped>\n",
       "    .dataframe tbody tr th:only-of-type {\n",
       "        vertical-align: middle;\n",
       "    }\n",
       "\n",
       "    .dataframe tbody tr th {\n",
       "        vertical-align: top;\n",
       "    }\n",
       "\n",
       "    .dataframe thead th {\n",
       "        text-align: right;\n",
       "    }\n",
       "</style>\n",
       "<table border=\"1\" class=\"dataframe\">\n",
       "  <thead>\n",
       "    <tr style=\"text-align: right;\">\n",
       "      <th></th>\n",
       "      <th>uid</th>\n",
       "      <th>synopsis</th>\n",
       "      <th>genre</th>\n",
       "      <th>genre_encoded</th>\n",
       "    </tr>\n",
       "  </thead>\n",
       "  <tbody>\n",
       "    <tr>\n",
       "      <th>0</th>\n",
       "      <td>32819</td>\n",
       "      <td>Third season of  Boonie Bears . \\r\\n \\r\\nHavin...</td>\n",
       "      <td>[\"'Comedy'\", \"'Kids'\"]</td>\n",
       "      <td>11.0</td>\n",
       "    </tr>\n",
       "    <tr>\n",
       "      <th>1</th>\n",
       "      <td>35699</td>\n",
       "      <td>Everyday objects come to life.</td>\n",
       "      <td>[\"'Kids'\"]</td>\n",
       "      <td>9.0</td>\n",
       "    </tr>\n",
       "    <tr>\n",
       "      <th>2</th>\n",
       "      <td>35581</td>\n",
       "      <td>Come to the greatest sexual theme park in the ...</td>\n",
       "      <td>[\"'Hentai'\"]</td>\n",
       "      <td>19.0</td>\n",
       "    </tr>\n",
       "    <tr>\n",
       "      <th>3</th>\n",
       "      <td>30127</td>\n",
       "      <td>Haruki Nakano lives an average high school lif...</td>\n",
       "      <td>[\"'Comedy'\", \"'Slice of Life'\"]</td>\n",
       "      <td>0.0</td>\n",
       "    </tr>\n",
       "    <tr>\n",
       "      <th>4</th>\n",
       "      <td>36180</td>\n",
       "      <td>Music video for Kenshi Yonezu's song  Clock Lo...</td>\n",
       "      <td>[\"'Music'\"]</td>\n",
       "      <td>3.0</td>\n",
       "    </tr>\n",
       "  </tbody>\n",
       "</table>\n",
       "</div>"
      ],
      "text/plain": [
       "     uid                                           synopsis  \\\n",
       "0  32819  Third season of  Boonie Bears . \\r\\n \\r\\nHavin...   \n",
       "1  35699                     Everyday objects come to life.   \n",
       "2  35581  Come to the greatest sexual theme park in the ...   \n",
       "3  30127  Haruki Nakano lives an average high school lif...   \n",
       "4  36180  Music video for Kenshi Yonezu's song  Clock Lo...   \n",
       "\n",
       "                             genre  genre_encoded  \n",
       "0           [\"'Comedy'\", \"'Kids'\"]           11.0  \n",
       "1                       [\"'Kids'\"]            9.0  \n",
       "2                     [\"'Hentai'\"]           19.0  \n",
       "3  [\"'Comedy'\", \"'Slice of Life'\"]            0.0  \n",
       "4                      [\"'Music'\"]            3.0  "
      ]
     },
     "execution_count": 55,
     "metadata": {},
     "output_type": "execute_result"
    }
   ],
   "source": [
    "anime_df.head(5)"
   ]
  },
  {
   "cell_type": "code",
   "execution_count": 59,
   "metadata": {
    "ExecuteTime": {
     "end_time": "2020-11-09T18:05:51.408012Z",
     "start_time": "2020-11-09T18:05:51.387747Z"
    }
   },
   "outputs": [
    {
     "data": {
      "text/plain": [
       "(Category 3,\n",
       " tensor(3),\n",
       " tensor([1.1371e-05, 3.7243e-05, 1.3502e-06, 9.8347e-01, 1.2815e-06, 2.4238e-05,\n",
       "         6.8711e-06, 1.4383e-05, 2.2862e-06, 1.9482e-05, 4.4424e-04, 2.1305e-06,\n",
       "         2.2467e-06, 2.7830e-06, 2.0726e-06, 2.5056e-06, 1.5891e-02, 5.6039e-05,\n",
       "         3.6636e-06, 1.4615e-06]))"
      ]
     },
     "execution_count": 59,
     "metadata": {},
     "output_type": "execute_result"
    }
   ],
   "source": [
    "export_learner.predict(anime_df.synopsis[4].replace('\\n', ''))"
   ]
  },
  {
   "cell_type": "code",
   "execution_count": 42,
   "metadata": {
    "ExecuteTime": {
     "end_time": "2020-11-09T16:09:22.455868Z",
     "start_time": "2020-11-09T16:09:22.452214Z"
    }
   },
   "outputs": [],
   "source": [
    "input_text_example = \"\"\"To begin with Clannad is a very peculiar anime from the usual stuff i watch. The closest being Spice & Wolf as the two belong to the ‘slice of life’ genre. This is exactly what Clannad is as we follow the life of a High School Senior in Japan who just doesn’t know what he is doing with his life. On the most superficial level Clannad seems little more than a frilly series about finding love and all the stereotypes that are associated with that. To anyone who has watched the series though they will rapidly come to know that this is so far from the truth. What Clannad does so well is bring these characters, their lives, their struggles and their pains to life to the point where I felt like i was going through it with them. One by one we get a peak into the interworkings of peoples lives from the strange to the heartbreaking as everyone tries to be in it together. After all this and the typical High School anime setting the show takes a surprising turn with Clannad: After Story, which is very much dealing with what happens after ‘Happily Ever After’. This is where the struggle of finding yourself in the world and becoming one with society comes to the fore along with the struggle of holding on to what you love and the inevitable compromises that come with growing up. Clannad is a love story, and so is Clannad: After Story, but After Story is very much life as we all know it, with the good times, the bad times and everything that comes in between as we try to go through each and every day. This isn’t a show about heroes or leaders of men, but people. With Clannad i laughed, i teared up and outright sobbed with these characters to the point where i was screaming at my computer that \"It isn’t fair”. Then again life is rarely fair and makes those happy moments all the more precious. Clannad in so many ways just made me feel human like little else ever has.\"\"\""
   ]
  },
  {
   "cell_type": "code",
   "execution_count": 43,
   "metadata": {
    "ExecuteTime": {
     "end_time": "2020-11-09T16:09:23.034106Z",
     "start_time": "2020-11-09T16:09:22.956735Z"
    }
   },
   "outputs": [
    {
     "data": {
      "text/plain": [
       "(Category 3, tensor(3), tensor([0.0016, 0.0371, 0.2809, 0.5807, 0.0997]))"
      ]
     },
     "execution_count": 43,
     "metadata": {},
     "output_type": "execute_result"
    }
   ],
   "source": [
    "export_learner.predict(input_text_example)"
   ]
  },
  {
   "cell_type": "code",
   "execution_count": null,
   "metadata": {
    "ExecuteTime": {
     "end_time": "2020-10-25T15:20:59.988621Z",
     "start_time": "2020-10-25T15:20:59.974183Z"
    }
   },
   "outputs": [],
   "source": []
  },
  {
   "cell_type": "code",
   "execution_count": null,
   "metadata": {},
   "outputs": [],
   "source": []
  },
  {
   "cell_type": "code",
   "execution_count": null,
   "metadata": {},
   "outputs": [],
   "source": []
  }
 ],
 "metadata": {
  "kernelspec": {
   "display_name": "Python 3",
   "language": "python",
   "name": "python3"
  },
  "language_info": {
   "codemirror_mode": {
    "name": "ipython",
    "version": 3
   },
   "file_extension": ".py",
   "mimetype": "text/x-python",
   "name": "python",
   "nbconvert_exporter": "python",
   "pygments_lexer": "ipython3",
   "version": "3.6.9"
  }
 },
 "nbformat": 4,
 "nbformat_minor": 4
}
