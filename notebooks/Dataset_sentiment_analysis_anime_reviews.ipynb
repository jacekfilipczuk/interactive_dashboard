{
 "cells": [
  {
   "cell_type": "code",
   "execution_count": 1,
   "metadata": {
    "ExecuteTime": {
     "end_time": "2020-11-09T18:07:06.785126Z",
     "start_time": "2020-11-09T18:07:06.480961Z"
    }
   },
   "outputs": [],
   "source": [
    "import pandas as pd"
   ]
  },
  {
   "cell_type": "code",
   "execution_count": 2,
   "metadata": {
    "ExecuteTime": {
     "end_time": "2020-11-09T18:07:11.619607Z",
     "start_time": "2020-11-09T18:07:06.786698Z"
    }
   },
   "outputs": [],
   "source": [
    "anime_reviews_df = pd.read_csv('data/anime_reviews/reviews.csv')"
   ]
  },
  {
   "cell_type": "code",
   "execution_count": 3,
   "metadata": {
    "ExecuteTime": {
     "end_time": "2020-11-09T18:07:11.647323Z",
     "start_time": "2020-11-09T18:07:11.624282Z"
    }
   },
   "outputs": [
    {
     "data": {
      "text/html": [
       "<div>\n",
       "<style scoped>\n",
       "    .dataframe tbody tr th:only-of-type {\n",
       "        vertical-align: middle;\n",
       "    }\n",
       "\n",
       "    .dataframe tbody tr th {\n",
       "        vertical-align: top;\n",
       "    }\n",
       "\n",
       "    .dataframe thead th {\n",
       "        text-align: right;\n",
       "    }\n",
       "</style>\n",
       "<table border=\"1\" class=\"dataframe\">\n",
       "  <thead>\n",
       "    <tr style=\"text-align: right;\">\n",
       "      <th></th>\n",
       "      <th>uid</th>\n",
       "      <th>profile</th>\n",
       "      <th>anime_uid</th>\n",
       "      <th>text</th>\n",
       "      <th>score</th>\n",
       "      <th>scores</th>\n",
       "      <th>link</th>\n",
       "    </tr>\n",
       "  </thead>\n",
       "  <tbody>\n",
       "    <tr>\n",
       "      <th>0</th>\n",
       "      <td>255938</td>\n",
       "      <td>DesolatePsyche</td>\n",
       "      <td>34096</td>\n",
       "      <td>\\n           \\n         \\n           \\n       ...</td>\n",
       "      <td>8</td>\n",
       "      <td>{'Overall': '8', 'Story': '8', 'Animation': '8...</td>\n",
       "      <td>https://myanimelist.net/reviews.php?id=255938</td>\n",
       "    </tr>\n",
       "    <tr>\n",
       "      <th>1</th>\n",
       "      <td>259117</td>\n",
       "      <td>baekbeans</td>\n",
       "      <td>34599</td>\n",
       "      <td>\\n           \\n         \\n           \\n       ...</td>\n",
       "      <td>10</td>\n",
       "      <td>{'Overall': '10', 'Story': '10', 'Animation': ...</td>\n",
       "      <td>https://myanimelist.net/reviews.php?id=259117</td>\n",
       "    </tr>\n",
       "    <tr>\n",
       "      <th>2</th>\n",
       "      <td>253664</td>\n",
       "      <td>skrn</td>\n",
       "      <td>28891</td>\n",
       "      <td>\\n           \\n         \\n           \\n       ...</td>\n",
       "      <td>7</td>\n",
       "      <td>{'Overall': '7', 'Story': '7', 'Animation': '9...</td>\n",
       "      <td>https://myanimelist.net/reviews.php?id=253664</td>\n",
       "    </tr>\n",
       "    <tr>\n",
       "      <th>3</th>\n",
       "      <td>8254</td>\n",
       "      <td>edgewalker00</td>\n",
       "      <td>2904</td>\n",
       "      <td>\\n           \\n         \\n           \\n       ...</td>\n",
       "      <td>9</td>\n",
       "      <td>{'Overall': '9', 'Story': '9', 'Animation': '9...</td>\n",
       "      <td>https://myanimelist.net/reviews.php?id=8254</td>\n",
       "    </tr>\n",
       "    <tr>\n",
       "      <th>4</th>\n",
       "      <td>291149</td>\n",
       "      <td>aManOfCulture99</td>\n",
       "      <td>4181</td>\n",
       "      <td>\\n           \\n         \\n           \\n       ...</td>\n",
       "      <td>10</td>\n",
       "      <td>{'Overall': '10', 'Story': '10', 'Animation': ...</td>\n",
       "      <td>https://myanimelist.net/reviews.php?id=291149</td>\n",
       "    </tr>\n",
       "  </tbody>\n",
       "</table>\n",
       "</div>"
      ],
      "text/plain": [
       "      uid          profile  anime_uid  \\\n",
       "0  255938   DesolatePsyche      34096   \n",
       "1  259117        baekbeans      34599   \n",
       "2  253664             skrn      28891   \n",
       "3    8254     edgewalker00       2904   \n",
       "4  291149  aManOfCulture99       4181   \n",
       "\n",
       "                                                text  score  \\\n",
       "0  \\n           \\n         \\n           \\n       ...      8   \n",
       "1  \\n           \\n         \\n           \\n       ...     10   \n",
       "2  \\n           \\n         \\n           \\n       ...      7   \n",
       "3  \\n           \\n         \\n           \\n       ...      9   \n",
       "4  \\n           \\n         \\n           \\n       ...     10   \n",
       "\n",
       "                                              scores  \\\n",
       "0  {'Overall': '8', 'Story': '8', 'Animation': '8...   \n",
       "1  {'Overall': '10', 'Story': '10', 'Animation': ...   \n",
       "2  {'Overall': '7', 'Story': '7', 'Animation': '9...   \n",
       "3  {'Overall': '9', 'Story': '9', 'Animation': '9...   \n",
       "4  {'Overall': '10', 'Story': '10', 'Animation': ...   \n",
       "\n",
       "                                            link  \n",
       "0  https://myanimelist.net/reviews.php?id=255938  \n",
       "1  https://myanimelist.net/reviews.php?id=259117  \n",
       "2  https://myanimelist.net/reviews.php?id=253664  \n",
       "3    https://myanimelist.net/reviews.php?id=8254  \n",
       "4  https://myanimelist.net/reviews.php?id=291149  "
      ]
     },
     "execution_count": 3,
     "metadata": {},
     "output_type": "execute_result"
    }
   ],
   "source": [
    "anime_reviews_df.head()"
   ]
  },
  {
   "cell_type": "code",
   "execution_count": 4,
   "metadata": {
    "ExecuteTime": {
     "end_time": "2020-11-09T18:07:11.884708Z",
     "start_time": "2020-11-09T18:07:11.649094Z"
    }
   },
   "outputs": [
    {
     "data": {
      "text/html": [
       "<div>\n",
       "<style scoped>\n",
       "    .dataframe tbody tr th:only-of-type {\n",
       "        vertical-align: middle;\n",
       "    }\n",
       "\n",
       "    .dataframe tbody tr th {\n",
       "        vertical-align: top;\n",
       "    }\n",
       "\n",
       "    .dataframe thead th {\n",
       "        text-align: right;\n",
       "    }\n",
       "</style>\n",
       "<table border=\"1\" class=\"dataframe\">\n",
       "  <thead>\n",
       "    <tr style=\"text-align: right;\">\n",
       "      <th></th>\n",
       "      <th>uid</th>\n",
       "      <th>title</th>\n",
       "      <th>synopsis</th>\n",
       "      <th>genre</th>\n",
       "      <th>aired</th>\n",
       "      <th>episodes</th>\n",
       "      <th>members</th>\n",
       "      <th>popularity</th>\n",
       "      <th>ranked</th>\n",
       "      <th>score</th>\n",
       "      <th>img_url</th>\n",
       "      <th>link</th>\n",
       "    </tr>\n",
       "  </thead>\n",
       "  <tbody>\n",
       "    <tr>\n",
       "      <th>0</th>\n",
       "      <td>28891</td>\n",
       "      <td>Haikyuu!! Second Season</td>\n",
       "      <td>Following their participation at the Inter-Hig...</td>\n",
       "      <td>['Comedy', 'Sports', 'Drama', 'School', 'Shoun...</td>\n",
       "      <td>Oct 4, 2015 to Mar 27, 2016</td>\n",
       "      <td>25.0</td>\n",
       "      <td>489888</td>\n",
       "      <td>141</td>\n",
       "      <td>25.0</td>\n",
       "      <td>8.82</td>\n",
       "      <td>https://cdn.myanimelist.net/images/anime/9/766...</td>\n",
       "      <td>https://myanimelist.net/anime/28891/Haikyuu_Se...</td>\n",
       "    </tr>\n",
       "    <tr>\n",
       "      <th>1</th>\n",
       "      <td>23273</td>\n",
       "      <td>Shigatsu wa Kimi no Uso</td>\n",
       "      <td>Music accompanies the path of the human metron...</td>\n",
       "      <td>['Drama', 'Music', 'Romance', 'School', 'Shoun...</td>\n",
       "      <td>Oct 10, 2014 to Mar 20, 2015</td>\n",
       "      <td>22.0</td>\n",
       "      <td>995473</td>\n",
       "      <td>28</td>\n",
       "      <td>24.0</td>\n",
       "      <td>8.83</td>\n",
       "      <td>https://cdn.myanimelist.net/images/anime/3/671...</td>\n",
       "      <td>https://myanimelist.net/anime/23273/Shigatsu_w...</td>\n",
       "    </tr>\n",
       "  </tbody>\n",
       "</table>\n",
       "</div>"
      ],
      "text/plain": [
       "     uid                    title  \\\n",
       "0  28891  Haikyuu!! Second Season   \n",
       "1  23273  Shigatsu wa Kimi no Uso   \n",
       "\n",
       "                                            synopsis  \\\n",
       "0  Following their participation at the Inter-Hig...   \n",
       "1  Music accompanies the path of the human metron...   \n",
       "\n",
       "                                               genre  \\\n",
       "0  ['Comedy', 'Sports', 'Drama', 'School', 'Shoun...   \n",
       "1  ['Drama', 'Music', 'Romance', 'School', 'Shoun...   \n",
       "\n",
       "                          aired  episodes  members  popularity  ranked  score  \\\n",
       "0   Oct 4, 2015 to Mar 27, 2016      25.0   489888         141    25.0   8.82   \n",
       "1  Oct 10, 2014 to Mar 20, 2015      22.0   995473          28    24.0   8.83   \n",
       "\n",
       "                                             img_url  \\\n",
       "0  https://cdn.myanimelist.net/images/anime/9/766...   \n",
       "1  https://cdn.myanimelist.net/images/anime/3/671...   \n",
       "\n",
       "                                                link  \n",
       "0  https://myanimelist.net/anime/28891/Haikyuu_Se...  \n",
       "1  https://myanimelist.net/anime/23273/Shigatsu_w...  "
      ]
     },
     "execution_count": 4,
     "metadata": {},
     "output_type": "execute_result"
    }
   ],
   "source": [
    "anime_df = pd.read_csv('data/anime_reviews/animes.csv')\n",
    "anime_df.head(2)"
   ]
  },
  {
   "cell_type": "markdown",
   "metadata": {},
   "source": [
    "# Anime reviews sentiment dataset"
   ]
  },
  {
   "cell_type": "code",
   "execution_count": 5,
   "metadata": {
    "ExecuteTime": {
     "end_time": "2020-11-09T18:07:11.889172Z",
     "start_time": "2020-11-09T18:07:11.886105Z"
    }
   },
   "outputs": [],
   "source": [
    "def clean_review(text):\n",
    "    to_stitch= []\n",
    "    sentences = text.split('\\n\\n')[1].strip().split('\\r\\n')\n",
    "    for s in sentences:\n",
    "        if len(s)>20:\n",
    "            to_stitch.append(s)\n",
    "    clean_text = ' '.join(to_stitch)\n",
    "    return clean_text"
   ]
  },
  {
   "cell_type": "code",
   "execution_count": 37,
   "metadata": {
    "ExecuteTime": {
     "end_time": "2020-11-09T16:53:30.849681Z",
     "start_time": "2020-11-09T16:53:29.428670Z"
    }
   },
   "outputs": [],
   "source": [
    "anime_reviews_df['text_clean'] = anime_reviews_df.text.apply(clean_review)"
   ]
  },
  {
   "cell_type": "code",
   "execution_count": 38,
   "metadata": {
    "ExecuteTime": {
     "end_time": "2020-11-09T16:53:37.152730Z",
     "start_time": "2020-11-09T16:53:37.142402Z"
    }
   },
   "outputs": [
    {
     "data": {
      "text/html": [
       "<div>\n",
       "<style scoped>\n",
       "    .dataframe tbody tr th:only-of-type {\n",
       "        vertical-align: middle;\n",
       "    }\n",
       "\n",
       "    .dataframe tbody tr th {\n",
       "        vertical-align: top;\n",
       "    }\n",
       "\n",
       "    .dataframe thead th {\n",
       "        text-align: right;\n",
       "    }\n",
       "</style>\n",
       "<table border=\"1\" class=\"dataframe\">\n",
       "  <thead>\n",
       "    <tr style=\"text-align: right;\">\n",
       "      <th></th>\n",
       "      <th>uid</th>\n",
       "      <th>profile</th>\n",
       "      <th>anime_uid</th>\n",
       "      <th>text</th>\n",
       "      <th>score</th>\n",
       "      <th>scores</th>\n",
       "      <th>link</th>\n",
       "      <th>text_clean</th>\n",
       "    </tr>\n",
       "  </thead>\n",
       "  <tbody>\n",
       "    <tr>\n",
       "      <th>0</th>\n",
       "      <td>255938</td>\n",
       "      <td>DesolatePsyche</td>\n",
       "      <td>34096</td>\n",
       "      <td>\\n           \\n         \\n           \\n       ...</td>\n",
       "      <td>8</td>\n",
       "      <td>{'Overall': '8', 'Story': '8', 'Animation': '8...</td>\n",
       "      <td>https://myanimelist.net/reviews.php?id=255938</td>\n",
       "      <td>First things first. My \"reviews\" system is exp...</td>\n",
       "    </tr>\n",
       "    <tr>\n",
       "      <th>1</th>\n",
       "      <td>259117</td>\n",
       "      <td>baekbeans</td>\n",
       "      <td>34599</td>\n",
       "      <td>\\n           \\n         \\n           \\n       ...</td>\n",
       "      <td>10</td>\n",
       "      <td>{'Overall': '10', 'Story': '10', 'Animation': ...</td>\n",
       "      <td>https://myanimelist.net/reviews.php?id=259117</td>\n",
       "      <td>Let me start off by saying that Made in Abyss ...</td>\n",
       "    </tr>\n",
       "  </tbody>\n",
       "</table>\n",
       "</div>"
      ],
      "text/plain": [
       "      uid         profile  anime_uid  \\\n",
       "0  255938  DesolatePsyche      34096   \n",
       "1  259117       baekbeans      34599   \n",
       "\n",
       "                                                text  score  \\\n",
       "0  \\n           \\n         \\n           \\n       ...      8   \n",
       "1  \\n           \\n         \\n           \\n       ...     10   \n",
       "\n",
       "                                              scores  \\\n",
       "0  {'Overall': '8', 'Story': '8', 'Animation': '8...   \n",
       "1  {'Overall': '10', 'Story': '10', 'Animation': ...   \n",
       "\n",
       "                                            link  \\\n",
       "0  https://myanimelist.net/reviews.php?id=255938   \n",
       "1  https://myanimelist.net/reviews.php?id=259117   \n",
       "\n",
       "                                          text_clean  \n",
       "0  First things first. My \"reviews\" system is exp...  \n",
       "1  Let me start off by saying that Made in Abyss ...  "
      ]
     },
     "execution_count": 38,
     "metadata": {},
     "output_type": "execute_result"
    }
   ],
   "source": [
    "anime_reviews_df.head(2)"
   ]
  },
  {
   "cell_type": "code",
   "execution_count": 43,
   "metadata": {
    "ExecuteTime": {
     "end_time": "2020-11-09T16:58:25.410412Z",
     "start_time": "2020-11-09T16:58:25.331429Z"
    }
   },
   "outputs": [],
   "source": [
    "low_score = anime_reviews_df[anime_reviews_df.score<5].sample(12000)\n",
    "medium_score = anime_reviews_df[(anime_reviews_df.score>=5)&(anime_reviews_df.score<8)].sample(12000)\n",
    "high_score = anime_reviews_df[anime_reviews_df.score>=8].sample(12000)"
   ]
  },
  {
   "cell_type": "code",
   "execution_count": 44,
   "metadata": {
    "ExecuteTime": {
     "end_time": "2020-11-09T17:00:15.781095Z",
     "start_time": "2020-11-09T17:00:15.775623Z"
    }
   },
   "outputs": [],
   "source": [
    "low_score['sentiment'] = 0\n",
    "medium_score['sentiment'] = 1\n",
    "high_score['sentiment'] = 2"
   ]
  },
  {
   "cell_type": "code",
   "execution_count": 46,
   "metadata": {
    "ExecuteTime": {
     "end_time": "2020-11-09T17:07:13.607054Z",
     "start_time": "2020-11-09T17:07:13.593653Z"
    }
   },
   "outputs": [],
   "source": [
    "low_score = low_score[['uid','text_clean','sentiment']]\n",
    "medium_score = medium_score[['uid','text_clean','sentiment']]\n",
    "high_score = high_score[['uid','text_clean','sentiment']]"
   ]
  },
  {
   "cell_type": "code",
   "execution_count": 47,
   "metadata": {
    "ExecuteTime": {
     "end_time": "2020-11-09T17:07:14.916678Z",
     "start_time": "2020-11-09T17:07:14.904716Z"
    }
   },
   "outputs": [],
   "source": [
    "low_score_test = low_score.sample(2000)\n",
    "low_score_train = low_score.drop(low_score_test.index)\n",
    "medium_score_test = medium_score.sample(2000)\n",
    "medium_score_train = medium_score.drop(medium_score_test.index)\n",
    "high_score_test = high_score.sample(2000)\n",
    "high_score_train = high_score.drop(high_score_test.index)"
   ]
  },
  {
   "cell_type": "code",
   "execution_count": 48,
   "metadata": {
    "ExecuteTime": {
     "end_time": "2020-11-09T17:07:16.480410Z",
     "start_time": "2020-11-09T17:07:16.459388Z"
    }
   },
   "outputs": [],
   "source": [
    "sentiment_train_dataset = pd.concat([low_score_train,medium_score_train, high_score_train])\n",
    "sentiment_test_dataset = pd.concat([low_score_test, medium_score_test, high_score_test])"
   ]
  },
  {
   "cell_type": "code",
   "execution_count": 49,
   "metadata": {
    "ExecuteTime": {
     "end_time": "2020-11-09T17:08:17.766205Z",
     "start_time": "2020-11-09T17:08:15.977604Z"
    }
   },
   "outputs": [],
   "source": [
    "sentiment_test_dataset.to_csv('data/anime_reviews/sentiment_test.csv', index=False)\n",
    "sentiment_train_dataset.to_csv('data/anime_reviews/sentiment_train.csv', index=False)"
   ]
  },
  {
   "cell_type": "code",
   "execution_count": null,
   "metadata": {},
   "outputs": [],
   "source": []
  },
  {
   "cell_type": "markdown",
   "metadata": {},
   "source": [
    "# Anime Genre classification dataset"
   ]
  },
  {
   "cell_type": "code",
   "execution_count": 21,
   "metadata": {
    "ExecuteTime": {
     "end_time": "2020-11-09T18:10:37.695706Z",
     "start_time": "2020-11-09T18:10:37.639558Z"
    }
   },
   "outputs": [],
   "source": [
    "anime_cleaned = anime_df.drop_duplicates()\n",
    "anime_cleaned = anime_cleaned.dropna(subset=['synopsis'])\n",
    "anime_cleaned = anime_cleaned[anime_cleaned.genre!='[]']\n",
    "anime_cleaned = anime_cleaned[~anime_cleaned.score.isnull()]"
   ]
  },
  {
   "cell_type": "code",
   "execution_count": 22,
   "metadata": {
    "ExecuteTime": {
     "end_time": "2020-11-09T18:10:38.502783Z",
     "start_time": "2020-11-09T18:10:38.381891Z"
    }
   },
   "outputs": [],
   "source": [
    "# casting to list of strings\n",
    "anime_cleaned['genre'] = anime_cleaned['genre'].str.strip('[]').str.split(',')\n",
    "# stripping spaces from the words, sorting the lists and casting back to string\n",
    "anime_cleaned['genre'] = anime_cleaned.genre.apply(lambda x: str(sorted([y.strip(' ') for y in x])))"
   ]
  },
  {
   "cell_type": "code",
   "execution_count": 23,
   "metadata": {
    "ExecuteTime": {
     "end_time": "2020-11-09T18:10:39.251895Z",
     "start_time": "2020-11-09T18:10:39.241260Z"
    }
   },
   "outputs": [],
   "source": [
    "anime_grouped = anime_cleaned.groupby('genre').uid.count().sort_values(ascending=False).reset_index()\n",
    "anime_grouped.columns = ['genre','anime_count']"
   ]
  },
  {
   "cell_type": "code",
   "execution_count": 24,
   "metadata": {
    "ExecuteTime": {
     "end_time": "2020-11-09T18:10:39.791372Z",
     "start_time": "2020-11-09T18:10:39.764380Z"
    }
   },
   "outputs": [],
   "source": [
    "anime_joined = anime_cleaned.join(anime_grouped.set_index('genre'), on='genre')"
   ]
  },
  {
   "cell_type": "code",
   "execution_count": 25,
   "metadata": {
    "ExecuteTime": {
     "end_time": "2020-11-09T18:10:40.265017Z",
     "start_time": "2020-11-09T18:10:40.236481Z"
    }
   },
   "outputs": [
    {
     "data": {
      "text/html": [
       "<div>\n",
       "<style scoped>\n",
       "    .dataframe tbody tr th:only-of-type {\n",
       "        vertical-align: middle;\n",
       "    }\n",
       "\n",
       "    .dataframe tbody tr th {\n",
       "        vertical-align: top;\n",
       "    }\n",
       "\n",
       "    .dataframe thead th {\n",
       "        text-align: right;\n",
       "    }\n",
       "</style>\n",
       "<table border=\"1\" class=\"dataframe\">\n",
       "  <thead>\n",
       "    <tr style=\"text-align: right;\">\n",
       "      <th></th>\n",
       "      <th>uid</th>\n",
       "      <th>title</th>\n",
       "      <th>synopsis</th>\n",
       "      <th>genre</th>\n",
       "      <th>aired</th>\n",
       "      <th>episodes</th>\n",
       "      <th>members</th>\n",
       "      <th>popularity</th>\n",
       "      <th>ranked</th>\n",
       "      <th>score</th>\n",
       "      <th>img_url</th>\n",
       "      <th>link</th>\n",
       "      <th>anime_count</th>\n",
       "    </tr>\n",
       "  </thead>\n",
       "  <tbody>\n",
       "    <tr>\n",
       "      <th>0</th>\n",
       "      <td>28891</td>\n",
       "      <td>Haikyuu!! Second Season</td>\n",
       "      <td>Following their participation at the Inter-Hig...</td>\n",
       "      <td>[\"'Comedy'\", \"'Drama'\", \"'School'\", \"'Shounen'...</td>\n",
       "      <td>Oct 4, 2015 to Mar 27, 2016</td>\n",
       "      <td>25.0</td>\n",
       "      <td>489888</td>\n",
       "      <td>141</td>\n",
       "      <td>25.0</td>\n",
       "      <td>8.82</td>\n",
       "      <td>https://cdn.myanimelist.net/images/anime/9/766...</td>\n",
       "      <td>https://myanimelist.net/anime/28891/Haikyuu_Se...</td>\n",
       "      <td>11</td>\n",
       "    </tr>\n",
       "    <tr>\n",
       "      <th>1</th>\n",
       "      <td>23273</td>\n",
       "      <td>Shigatsu wa Kimi no Uso</td>\n",
       "      <td>Music accompanies the path of the human metron...</td>\n",
       "      <td>[\"'Drama'\", \"'Music'\", \"'Romance'\", \"'School'\"...</td>\n",
       "      <td>Oct 10, 2014 to Mar 20, 2015</td>\n",
       "      <td>22.0</td>\n",
       "      <td>995473</td>\n",
       "      <td>28</td>\n",
       "      <td>24.0</td>\n",
       "      <td>8.83</td>\n",
       "      <td>https://cdn.myanimelist.net/images/anime/3/671...</td>\n",
       "      <td>https://myanimelist.net/anime/23273/Shigatsu_w...</td>\n",
       "      <td>2</td>\n",
       "    </tr>\n",
       "  </tbody>\n",
       "</table>\n",
       "</div>"
      ],
      "text/plain": [
       "     uid                    title  \\\n",
       "0  28891  Haikyuu!! Second Season   \n",
       "1  23273  Shigatsu wa Kimi no Uso   \n",
       "\n",
       "                                            synopsis  \\\n",
       "0  Following their participation at the Inter-Hig...   \n",
       "1  Music accompanies the path of the human metron...   \n",
       "\n",
       "                                               genre  \\\n",
       "0  [\"'Comedy'\", \"'Drama'\", \"'School'\", \"'Shounen'...   \n",
       "1  [\"'Drama'\", \"'Music'\", \"'Romance'\", \"'School'\"...   \n",
       "\n",
       "                          aired  episodes  members  popularity  ranked  score  \\\n",
       "0   Oct 4, 2015 to Mar 27, 2016      25.0   489888         141    25.0   8.82   \n",
       "1  Oct 10, 2014 to Mar 20, 2015      22.0   995473          28    24.0   8.83   \n",
       "\n",
       "                                             img_url  \\\n",
       "0  https://cdn.myanimelist.net/images/anime/9/766...   \n",
       "1  https://cdn.myanimelist.net/images/anime/3/671...   \n",
       "\n",
       "                                                link  anime_count  \n",
       "0  https://myanimelist.net/anime/28891/Haikyuu_Se...           11  \n",
       "1  https://myanimelist.net/anime/23273/Shigatsu_w...            2  "
      ]
     },
     "execution_count": 25,
     "metadata": {},
     "output_type": "execute_result"
    }
   ],
   "source": [
    "anime_joined.head(2)"
   ]
  },
  {
   "cell_type": "code",
   "execution_count": 41,
   "metadata": {
    "ExecuteTime": {
     "end_time": "2020-11-09T18:12:56.879256Z",
     "start_time": "2020-11-09T18:12:56.873105Z"
    }
   },
   "outputs": [],
   "source": [
    "genre_list = anime_joined[anime_joined.anime_count>70].genre.unique()"
   ]
  },
  {
   "cell_type": "code",
   "execution_count": 42,
   "metadata": {
    "ExecuteTime": {
     "end_time": "2020-11-09T18:12:57.380067Z",
     "start_time": "2020-11-09T18:12:57.367898Z"
    }
   },
   "outputs": [
    {
     "data": {
      "text/plain": [
       "{'[\"\\'Comedy\\'\", \"\\'Slice of Life\\'\"]': 0,\n",
       " '[\"\\'Comedy\\'\"]': 1,\n",
       " '[\"\\'Action\\'\", \"\\'Mecha\\'\", \"\\'Sci-Fi\\'\"]': 2,\n",
       " '[\"\\'Music\\'\"]': 3,\n",
       " '[\"\\'Adventure\\'\", \"\\'Fantasy\\'\"]': 4,\n",
       " '[\"\\'Drama\\'\", \"\\'Historical\\'\"]': 5,\n",
       " '[\"\\'Drama\\'\"]': 6,\n",
       " '[\"\\'Fantasy\\'\"]': 7,\n",
       " '[\"\\'Comedy\\'\", \"\\'Parody\\'\"]': 8,\n",
       " '[\"\\'Adventure\\'\"]': 9,\n",
       " '[\"\\'Kids\\'\"]': 10,\n",
       " '[\"\\'Dementia\\'\"]': 11,\n",
       " '[\"\\'Comedy\\'\", \"\\'Kids\\'\"]': 12,\n",
       " '[\"\\'Fantasy\\'\", \"\\'Kids\\'\"]': 13,\n",
       " '[\"\\'Drama\\'\", \"\\'Kids\\'\"]': 14,\n",
       " '[\"\\'Adventure\\'\", \"\\'Kids\\'\"]': 15,\n",
       " '[\"\\'Kids\\'\", \"\\'Music\\'\"]': 16,\n",
       " '[\"\\'Slice of Life\\'\"]': 17,\n",
       " '[\"\\'Historical\\'\"]': 18,\n",
       " '[\"\\'Hentai\\'\"]': 19,\n",
       " '[\"\\'Dementia\\'\", \"\\'Music\\'\"]': 20}"
      ]
     },
     "execution_count": 42,
     "metadata": {},
     "output_type": "execute_result"
    }
   ],
   "source": [
    "genre_map = dict([(g,v) for g,v in zip(genre_list,range(len(genre_list)))])\n",
    "genre_map"
   ]
  },
  {
   "cell_type": "code",
   "execution_count": 43,
   "metadata": {
    "ExecuteTime": {
     "end_time": "2020-11-09T18:12:57.956128Z",
     "start_time": "2020-11-09T18:12:57.941948Z"
    }
   },
   "outputs": [],
   "source": [
    "anime_joined['genre_encoded'] = anime_joined.genre.map(genre_map)"
   ]
  },
  {
   "cell_type": "code",
   "execution_count": 44,
   "metadata": {
    "ExecuteTime": {
     "end_time": "2020-11-09T18:13:00.708568Z",
     "start_time": "2020-11-09T18:13:00.676408Z"
    }
   },
   "outputs": [
    {
     "data": {
      "text/html": [
       "<div>\n",
       "<style scoped>\n",
       "    .dataframe tbody tr th:only-of-type {\n",
       "        vertical-align: middle;\n",
       "    }\n",
       "\n",
       "    .dataframe tbody tr th {\n",
       "        vertical-align: top;\n",
       "    }\n",
       "\n",
       "    .dataframe thead th {\n",
       "        text-align: right;\n",
       "    }\n",
       "</style>\n",
       "<table border=\"1\" class=\"dataframe\">\n",
       "  <thead>\n",
       "    <tr style=\"text-align: right;\">\n",
       "      <th></th>\n",
       "      <th>uid</th>\n",
       "      <th>title</th>\n",
       "      <th>synopsis</th>\n",
       "      <th>genre</th>\n",
       "      <th>aired</th>\n",
       "      <th>episodes</th>\n",
       "      <th>members</th>\n",
       "      <th>popularity</th>\n",
       "      <th>ranked</th>\n",
       "      <th>score</th>\n",
       "      <th>img_url</th>\n",
       "      <th>link</th>\n",
       "      <th>anime_count</th>\n",
       "      <th>genre_encoded</th>\n",
       "    </tr>\n",
       "  </thead>\n",
       "  <tbody>\n",
       "    <tr>\n",
       "      <th>35</th>\n",
       "      <td>38145</td>\n",
       "      <td>Doukyonin wa Hiza, Tokidoki, Atama no Ue.</td>\n",
       "      <td>Subaru Mikazuki is a 23-year-old mystery novel...</td>\n",
       "      <td>[\"'Comedy'\", \"'Slice of Life'\"]</td>\n",
       "      <td>Jan 9, 2019 to Mar 27, 2019</td>\n",
       "      <td>12.0</td>\n",
       "      <td>89612</td>\n",
       "      <td>1216</td>\n",
       "      <td>784.0</td>\n",
       "      <td>7.86</td>\n",
       "      <td>https://cdn.myanimelist.net/images/anime/1251/...</td>\n",
       "      <td>https://myanimelist.net/anime/38145/Doukyonin_...</td>\n",
       "      <td>245</td>\n",
       "      <td>0.0</td>\n",
       "    </tr>\n",
       "    <tr>\n",
       "      <th>48</th>\n",
       "      <td>38958</td>\n",
       "      <td>Manga de Wakaru! Fate/Grand Order</td>\n",
       "      <td>A short anime based on  Manga de Wakaru! Fate/...</td>\n",
       "      <td>[\"'Comedy'\"]</td>\n",
       "      <td>Dec 31, 2018</td>\n",
       "      <td>1.0</td>\n",
       "      <td>7545</td>\n",
       "      <td>4889</td>\n",
       "      <td>770.0</td>\n",
       "      <td>7.87</td>\n",
       "      <td>https://cdn.myanimelist.net/images/anime/1830/...</td>\n",
       "      <td>https://myanimelist.net/anime/38958/Manga_de_W...</td>\n",
       "      <td>578</td>\n",
       "      <td>1.0</td>\n",
       "    </tr>\n",
       "  </tbody>\n",
       "</table>\n",
       "</div>"
      ],
      "text/plain": [
       "      uid                                      title  \\\n",
       "35  38145  Doukyonin wa Hiza, Tokidoki, Atama no Ue.   \n",
       "48  38958          Manga de Wakaru! Fate/Grand Order   \n",
       "\n",
       "                                             synopsis  \\\n",
       "35  Subaru Mikazuki is a 23-year-old mystery novel...   \n",
       "48  A short anime based on  Manga de Wakaru! Fate/...   \n",
       "\n",
       "                              genre                        aired  episodes  \\\n",
       "35  [\"'Comedy'\", \"'Slice of Life'\"]  Jan 9, 2019 to Mar 27, 2019      12.0   \n",
       "48                     [\"'Comedy'\"]                 Dec 31, 2018       1.0   \n",
       "\n",
       "    members  popularity  ranked  score  \\\n",
       "35    89612        1216   784.0   7.86   \n",
       "48     7545        4889   770.0   7.87   \n",
       "\n",
       "                                              img_url  \\\n",
       "35  https://cdn.myanimelist.net/images/anime/1251/...   \n",
       "48  https://cdn.myanimelist.net/images/anime/1830/...   \n",
       "\n",
       "                                                 link  anime_count  \\\n",
       "35  https://myanimelist.net/anime/38145/Doukyonin_...          245   \n",
       "48  https://myanimelist.net/anime/38958/Manga_de_W...          578   \n",
       "\n",
       "    genre_encoded  \n",
       "35            0.0  \n",
       "48            1.0  "
      ]
     },
     "execution_count": 44,
     "metadata": {},
     "output_type": "execute_result"
    }
   ],
   "source": [
    "anime_joined[anime_joined.anime_count>80].head(2)"
   ]
  },
  {
   "cell_type": "code",
   "execution_count": 45,
   "metadata": {
    "ExecuteTime": {
     "end_time": "2020-11-09T18:13:07.042671Z",
     "start_time": "2020-11-09T18:13:07.036189Z"
    }
   },
   "outputs": [],
   "source": [
    "anime_genre_classification = anime_joined[anime_joined.anime_count>70][['uid','synopsis','genre', 'genre_encoded']]\n"
   ]
  },
  {
   "cell_type": "code",
   "execution_count": 46,
   "metadata": {
    "ExecuteTime": {
     "end_time": "2020-11-09T18:13:07.769024Z",
     "start_time": "2020-11-09T18:13:07.762712Z"
    }
   },
   "outputs": [],
   "source": [
    "anime_genre_classification.dropna(subset=['synopsis'], inplace=True)"
   ]
  },
  {
   "cell_type": "code",
   "execution_count": 47,
   "metadata": {
    "ExecuteTime": {
     "end_time": "2020-11-09T18:13:11.341097Z",
     "start_time": "2020-11-09T18:13:11.323989Z"
    }
   },
   "outputs": [],
   "source": [
    "anime_genre_balanced = anime_genre_classification.groupby('genre_encoded').sample(70)"
   ]
  },
  {
   "cell_type": "code",
   "execution_count": 48,
   "metadata": {
    "ExecuteTime": {
     "end_time": "2020-11-09T18:13:12.031574Z",
     "start_time": "2020-11-09T18:13:12.007482Z"
    }
   },
   "outputs": [
    {
     "data": {
      "text/html": [
       "<div>\n",
       "<style scoped>\n",
       "    .dataframe tbody tr th:only-of-type {\n",
       "        vertical-align: middle;\n",
       "    }\n",
       "\n",
       "    .dataframe tbody tr th {\n",
       "        vertical-align: top;\n",
       "    }\n",
       "\n",
       "    .dataframe thead th {\n",
       "        text-align: right;\n",
       "    }\n",
       "</style>\n",
       "<table border=\"1\" class=\"dataframe\">\n",
       "  <thead>\n",
       "    <tr style=\"text-align: right;\">\n",
       "      <th></th>\n",
       "      <th>uid</th>\n",
       "      <th>synopsis</th>\n",
       "      <th>genre</th>\n",
       "      <th>genre_encoded</th>\n",
       "    </tr>\n",
       "  </thead>\n",
       "  <tbody>\n",
       "    <tr>\n",
       "      <th>11800</th>\n",
       "      <td>33854</td>\n",
       "      <td>The series focuses on the staff of the Keihime...</td>\n",
       "      <td>[\"'Comedy'\", \"'Slice of Life'\"]</td>\n",
       "      <td>0.0</td>\n",
       "    </tr>\n",
       "    <tr>\n",
       "      <th>9670</th>\n",
       "      <td>10020</td>\n",
       "      <td>The true end arc of Ore no Imouto. These four ...</td>\n",
       "      <td>[\"'Comedy'\", \"'Slice of Life'\"]</td>\n",
       "      <td>0.0</td>\n",
       "    </tr>\n",
       "    <tr>\n",
       "      <th>12425</th>\n",
       "      <td>38299</td>\n",
       "      <td>A collaboration between  Kamiusagi Rope  and N...</td>\n",
       "      <td>[\"'Comedy'\", \"'Slice of Life'\"]</td>\n",
       "      <td>0.0</td>\n",
       "    </tr>\n",
       "    <tr>\n",
       "      <th>13476</th>\n",
       "      <td>36784</td>\n",
       "      <td>The story centers around the cheerful calico T...</td>\n",
       "      <td>[\"'Comedy'\", \"'Slice of Life'\"]</td>\n",
       "      <td>0.0</td>\n",
       "    </tr>\n",
       "    <tr>\n",
       "      <th>15180</th>\n",
       "      <td>37789</td>\n",
       "      <td>Picture Dramas released with the  Tenchi Muyou...</td>\n",
       "      <td>[\"'Comedy'\", \"'Slice of Life'\"]</td>\n",
       "      <td>0.0</td>\n",
       "    </tr>\n",
       "    <tr>\n",
       "      <th>...</th>\n",
       "      <td>...</td>\n",
       "      <td>...</td>\n",
       "      <td>...</td>\n",
       "      <td>...</td>\n",
       "    </tr>\n",
       "    <tr>\n",
       "      <th>7523</th>\n",
       "      <td>10436</td>\n",
       "      <td>A myriad of shadows resembling humans, animals...</td>\n",
       "      <td>[\"'Dementia'\", \"'Music'\"]</td>\n",
       "      <td>20.0</td>\n",
       "    </tr>\n",
       "    <tr>\n",
       "      <th>8195</th>\n",
       "      <td>36158</td>\n",
       "      <td>Official music video for the international mul...</td>\n",
       "      <td>[\"'Dementia'\", \"'Music'\"]</td>\n",
       "      <td>20.0</td>\n",
       "    </tr>\n",
       "    <tr>\n",
       "      <th>9201</th>\n",
       "      <td>35935</td>\n",
       "      <td>Official music video for Tamaki Roy's song  Ko...</td>\n",
       "      <td>[\"'Dementia'\", \"'Music'\"]</td>\n",
       "      <td>20.0</td>\n",
       "    </tr>\n",
       "    <tr>\n",
       "      <th>3472</th>\n",
       "      <td>38970</td>\n",
       "      <td>Short animation directed by Masanobu Hiraoka.</td>\n",
       "      <td>[\"'Dementia'\", \"'Music'\"]</td>\n",
       "      <td>20.0</td>\n",
       "    </tr>\n",
       "    <tr>\n",
       "      <th>12536</th>\n",
       "      <td>40353</td>\n",
       "      <td>Music video directed by Kakeru Mizui for the s...</td>\n",
       "      <td>[\"'Dementia'\", \"'Music'\"]</td>\n",
       "      <td>20.0</td>\n",
       "    </tr>\n",
       "  </tbody>\n",
       "</table>\n",
       "<p>1470 rows × 4 columns</p>\n",
       "</div>"
      ],
      "text/plain": [
       "         uid                                           synopsis  \\\n",
       "11800  33854  The series focuses on the staff of the Keihime...   \n",
       "9670   10020  The true end arc of Ore no Imouto. These four ...   \n",
       "12425  38299  A collaboration between  Kamiusagi Rope  and N...   \n",
       "13476  36784  The story centers around the cheerful calico T...   \n",
       "15180  37789  Picture Dramas released with the  Tenchi Muyou...   \n",
       "...      ...                                                ...   \n",
       "7523   10436  A myriad of shadows resembling humans, animals...   \n",
       "8195   36158  Official music video for the international mul...   \n",
       "9201   35935  Official music video for Tamaki Roy's song  Ko...   \n",
       "3472   38970      Short animation directed by Masanobu Hiraoka.   \n",
       "12536  40353  Music video directed by Kakeru Mizui for the s...   \n",
       "\n",
       "                                 genre  genre_encoded  \n",
       "11800  [\"'Comedy'\", \"'Slice of Life'\"]            0.0  \n",
       "9670   [\"'Comedy'\", \"'Slice of Life'\"]            0.0  \n",
       "12425  [\"'Comedy'\", \"'Slice of Life'\"]            0.0  \n",
       "13476  [\"'Comedy'\", \"'Slice of Life'\"]            0.0  \n",
       "15180  [\"'Comedy'\", \"'Slice of Life'\"]            0.0  \n",
       "...                                ...            ...  \n",
       "7523         [\"'Dementia'\", \"'Music'\"]           20.0  \n",
       "8195         [\"'Dementia'\", \"'Music'\"]           20.0  \n",
       "9201         [\"'Dementia'\", \"'Music'\"]           20.0  \n",
       "3472         [\"'Dementia'\", \"'Music'\"]           20.0  \n",
       "12536        [\"'Dementia'\", \"'Music'\"]           20.0  \n",
       "\n",
       "[1470 rows x 4 columns]"
      ]
     },
     "execution_count": 48,
     "metadata": {},
     "output_type": "execute_result"
    }
   ],
   "source": [
    "anime_genre_balanced"
   ]
  },
  {
   "cell_type": "code",
   "execution_count": 49,
   "metadata": {
    "ExecuteTime": {
     "end_time": "2020-11-09T18:13:14.226040Z",
     "start_time": "2020-11-09T18:13:14.221856Z"
    }
   },
   "outputs": [],
   "source": [
    "anime_genre_test = anime_genre_balanced.sample(frac=0.2)\n",
    "anime_genre_train = anime_genre_balanced.drop(anime_genre_test.index)"
   ]
  },
  {
   "cell_type": "code",
   "execution_count": 50,
   "metadata": {
    "ExecuteTime": {
     "end_time": "2020-11-09T18:13:14.907137Z",
     "start_time": "2020-11-09T18:13:14.868940Z"
    }
   },
   "outputs": [],
   "source": [
    "anime_genre_test.to_csv('data/anime_reviews/anime_genre_test.csv', index=False)\n",
    "anime_genre_train.to_csv('data/anime_reviews/anime_genre_train.csv', index=False)"
   ]
  },
  {
   "cell_type": "code",
   "execution_count": null,
   "metadata": {},
   "outputs": [],
   "source": []
  }
 ],
 "metadata": {
  "kernelspec": {
   "display_name": "Python 3",
   "language": "python",
   "name": "python3"
  },
  "language_info": {
   "codemirror_mode": {
    "name": "ipython",
    "version": 3
   },
   "file_extension": ".py",
   "mimetype": "text/x-python",
   "name": "python",
   "nbconvert_exporter": "python",
   "pygments_lexer": "ipython3",
   "version": "3.6.9"
  }
 },
 "nbformat": 4,
 "nbformat_minor": 4
}
