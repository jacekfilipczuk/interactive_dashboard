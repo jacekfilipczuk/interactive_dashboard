{
 "cells": [
  {
   "cell_type": "code",
   "execution_count": 2,
   "metadata": {
    "ExecuteTime": {
     "end_time": "2020-11-09T15:54:19.206303Z",
     "start_time": "2020-11-09T15:54:03.371677Z"
    }
   },
   "outputs": [],
   "source": [
    "import numpy as np # linear algebra\n",
    "import pandas as pd # data processing, CSV file I/O (e.g. pd.read_csv)\n",
    "from pathlib import Path \n",
    "\n",
    "import os\n",
    "\n",
    "import torch\n",
    "import torch.optim as optim\n",
    "\n",
    "import random \n",
    "\n",
    "# fastai\n",
    "from fastai import *\n",
    "from fastai.text import *\n",
    "from fastai.callbacks import *\n",
    "\n",
    "# transformers\n",
    "from transformers import PreTrainedModel, PreTrainedTokenizer, PretrainedConfig\n",
    "\n",
    "from transformers import BertForSequenceClassification, BertTokenizer, BertConfig\n",
    "from transformers import RobertaForSequenceClassification, RobertaTokenizer, RobertaConfig\n",
    "from transformers import XLNetForSequenceClassification, XLNetTokenizer, XLNetConfig\n",
    "from transformers import XLMForSequenceClassification, XLMTokenizer, XLMConfig\n",
    "from transformers import DistilBertForSequenceClassification, DistilBertTokenizer, DistilBertConfig"
   ]
  },
  {
   "cell_type": "code",
   "execution_count": 3,
   "metadata": {
    "ExecuteTime": {
     "end_time": "2020-11-09T15:54:19.220313Z",
     "start_time": "2020-11-09T15:54:19.208885Z"
    }
   },
   "outputs": [],
   "source": [
    "import fastai\n",
    "import transformers"
   ]
  },
  {
   "cell_type": "code",
   "execution_count": 4,
   "metadata": {
    "ExecuteTime": {
     "end_time": "2020-11-09T15:54:19.335824Z",
     "start_time": "2020-11-09T15:54:19.222732Z"
    }
   },
   "outputs": [
    {
     "name": "stdout",
     "output_type": "stream",
     "text": [
      "fastai version : 1.0.58\n",
      "transformers version : 2.5.1\n"
     ]
    }
   ],
   "source": [
    "print('fastai version :', fastai.__version__)\n",
    "print('transformers version :', transformers.__version__)"
   ]
  },
  {
   "cell_type": "markdown",
   "metadata": {},
   "source": [
    "# The movie review dataset\n",
    "\n",
    "The first thing is to train a model that works on a similar dataset that the one I'm going to work and then try to apply the same solution, potentially tweaking it to improve results.\n",
    "\n",
    "The movie review dataset is a famous one and here will be used for the task of multi-class classification.\n",
    "\n",
    "For each text movie review, the model has to predict a label for the sentiment. We evaluate the outputs of the model on classification accuracy. The sentiment labels are:\n",
    "\n",
    "0 → Negative\n",
    "\n",
    "1 → Somewhat negative\n",
    "\n",
    "2 → Neutral\n",
    "\n",
    "3 → Somewhat positive\n",
    "\n",
    "4 → Positive"
   ]
  },
  {
   "cell_type": "code",
   "execution_count": 5,
   "metadata": {
    "ExecuteTime": {
     "end_time": "2020-11-09T15:54:20.399910Z",
     "start_time": "2020-11-09T15:54:19.853553Z"
    }
   },
   "outputs": [
    {
     "name": "stdout",
     "output_type": "stream",
     "text": [
      "(156060, 4) (66292, 3)\n"
     ]
    },
    {
     "data": {
      "text/html": [
       "<div>\n",
       "<style scoped>\n",
       "    .dataframe tbody tr th:only-of-type {\n",
       "        vertical-align: middle;\n",
       "    }\n",
       "\n",
       "    .dataframe tbody tr th {\n",
       "        vertical-align: top;\n",
       "    }\n",
       "\n",
       "    .dataframe thead th {\n",
       "        text-align: right;\n",
       "    }\n",
       "</style>\n",
       "<table border=\"1\" class=\"dataframe\">\n",
       "  <thead>\n",
       "    <tr style=\"text-align: right;\">\n",
       "      <th></th>\n",
       "      <th>PhraseId</th>\n",
       "      <th>SentenceId</th>\n",
       "      <th>Phrase</th>\n",
       "      <th>Sentiment</th>\n",
       "    </tr>\n",
       "  </thead>\n",
       "  <tbody>\n",
       "    <tr>\n",
       "      <th>0</th>\n",
       "      <td>1</td>\n",
       "      <td>1</td>\n",
       "      <td>A series of escapades demonstrating the adage ...</td>\n",
       "      <td>1</td>\n",
       "    </tr>\n",
       "    <tr>\n",
       "      <th>1</th>\n",
       "      <td>2</td>\n",
       "      <td>1</td>\n",
       "      <td>A series of escapades demonstrating the adage ...</td>\n",
       "      <td>2</td>\n",
       "    </tr>\n",
       "    <tr>\n",
       "      <th>2</th>\n",
       "      <td>3</td>\n",
       "      <td>1</td>\n",
       "      <td>A series</td>\n",
       "      <td>2</td>\n",
       "    </tr>\n",
       "    <tr>\n",
       "      <th>3</th>\n",
       "      <td>4</td>\n",
       "      <td>1</td>\n",
       "      <td>A</td>\n",
       "      <td>2</td>\n",
       "    </tr>\n",
       "    <tr>\n",
       "      <th>4</th>\n",
       "      <td>5</td>\n",
       "      <td>1</td>\n",
       "      <td>series</td>\n",
       "      <td>2</td>\n",
       "    </tr>\n",
       "  </tbody>\n",
       "</table>\n",
       "</div>"
      ],
      "text/plain": [
       "   PhraseId  SentenceId                                             Phrase  \\\n",
       "0         1           1  A series of escapades demonstrating the adage ...   \n",
       "1         2           1  A series of escapades demonstrating the adage ...   \n",
       "2         3           1                                           A series   \n",
       "3         4           1                                                  A   \n",
       "4         5           1                                             series   \n",
       "\n",
       "   Sentiment  \n",
       "0          1  \n",
       "1          2  \n",
       "2          2  \n",
       "3          2  \n",
       "4          2  "
      ]
     },
     "execution_count": 5,
     "metadata": {},
     "output_type": "execute_result"
    }
   ],
   "source": [
    "data_folder = Path('data/movie_reviews')\n",
    "train_data = pd.read_csv(data_folder / 'train.tsv.zip', sep='\\t')\n",
    "test_data = pd.read_csv(data_folder / 'test.tsv.zip', sep='\\t')\n",
    "print(train_data.shape, test_data.shape)\n",
    "train_data.head()"
   ]
  },
  {
   "cell_type": "markdown",
   "metadata": {},
   "source": [
    "The thing to note about this dataset is that there are no full reviews but just sentences taken out of context with a sentiment label."
   ]
  },
  {
   "cell_type": "markdown",
   "metadata": {},
   "source": [
    "# Main transformers classes\n",
    "In transformers, each model architecture is associated with 3 main types of classes:\n",
    "\n",
    "A model class to load/store a particular pre-train model.\n",
    "\n",
    "A tokenizer class to pre-process the data and make it compatible with a particular model.\n",
    "\n",
    "A configuration class to load/store the configuration of a particular model.\n",
    "\n",
    "\n",
    "For example, if you want to use the Bert architecture for text classification, you would use BertForSequenceClassification for the model class, BertTokenizer for the tokenizer class and BertConfig for the configuration class. "
   ]
  },
  {
   "cell_type": "code",
   "execution_count": 6,
   "metadata": {
    "ExecuteTime": {
     "end_time": "2020-11-09T15:54:21.707283Z",
     "start_time": "2020-11-09T15:54:21.698339Z"
    }
   },
   "outputs": [],
   "source": [
    "MODEL_CLASSES = {\n",
    "    'bert': (BertForSequenceClassification, BertTokenizer, BertConfig),\n",
    "    'xlnet': (XLNetForSequenceClassification, XLNetTokenizer, XLNetConfig),\n",
    "    'xlm': (XLMForSequenceClassification, XLMTokenizer, XLMConfig),\n",
    "    'roberta': (RobertaForSequenceClassification, RobertaTokenizer, RobertaConfig),\n",
    "    'distilbert': (DistilBertForSequenceClassification, DistilBertTokenizer, DistilBertConfig)\n",
    "}"
   ]
  },
  {
   "cell_type": "code",
   "execution_count": 7,
   "metadata": {
    "ExecuteTime": {
     "end_time": "2020-11-09T15:54:22.835146Z",
     "start_time": "2020-11-09T15:54:22.832307Z"
    }
   },
   "outputs": [],
   "source": [
    "# Parameters\n",
    "seed = 42\n",
    "use_fp16 = False\n",
    "bs = 16\n",
    "\n",
    "model_type = 'roberta'\n",
    "pretrained_model_name = 'roberta-base'\n",
    "\n",
    "# model_type = 'bert'\n",
    "# pretrained_model_name='bert-base-uncased'\n",
    "\n",
    "# model_type = 'distilbert'\n",
    "# pretrained_model_name = 'distilbert-base-uncased'\n",
    "\n",
    "#model_type = 'xlm'\n",
    "#pretrained_model_name = 'xlm-clm-enfr-1024'\n",
    "\n",
    "# model_type = 'xlnet'\n",
    "# pretrained_model_name = 'xlnet-base-cased'"
   ]
  },
  {
   "cell_type": "markdown",
   "metadata": {},
   "source": [
    "the parameter pretrained_model_name is a string with the shortcut name of a pre-trained model/tokenizer/configuration to load, e.g 'bert-base-uncased'. We can find all the shortcut names by using the command: *model_class.pretrained_model_archive_map.keys()*"
   ]
  },
  {
   "cell_type": "code",
   "execution_count": 8,
   "metadata": {
    "ExecuteTime": {
     "end_time": "2020-11-09T15:54:24.701583Z",
     "start_time": "2020-11-09T15:54:24.699247Z"
    }
   },
   "outputs": [],
   "source": [
    "model_class, tokenizer_class, config_class = MODEL_CLASSES[model_type]"
   ]
  },
  {
   "cell_type": "code",
   "execution_count": 9,
   "metadata": {
    "ExecuteTime": {
     "end_time": "2020-11-09T15:54:26.295082Z",
     "start_time": "2020-11-09T15:54:26.291066Z"
    }
   },
   "outputs": [
    {
     "data": {
      "text/plain": [
       "dict_keys(['roberta-base', 'roberta-large', 'roberta-large-mnli', 'distilroberta-base', 'roberta-base-openai-detector', 'roberta-large-openai-detector'])"
      ]
     },
     "execution_count": 9,
     "metadata": {},
     "output_type": "execute_result"
    }
   ],
   "source": [
    "model_class.pretrained_model_archive_map.keys()"
   ]
  },
  {
   "cell_type": "code",
   "execution_count": 10,
   "metadata": {
    "ExecuteTime": {
     "end_time": "2020-11-09T15:54:29.347653Z",
     "start_time": "2020-11-09T15:54:29.343339Z"
    }
   },
   "outputs": [],
   "source": [
    "# Util function to set the seed for generating random numbers\n",
    "def seed_all(seed_value):\n",
    "    random.seed(seed_value) # Python\n",
    "    np.random.seed(seed_value) # cpu vars\n",
    "    torch.manual_seed(seed_value) # cpu  vars\n",
    "    \n",
    "    if torch.cuda.is_available(): \n",
    "        torch.cuda.manual_seed(seed_value)\n",
    "        torch.cuda.manual_seed_all(seed_value) # gpu vars\n",
    "        torch.backends.cudnn.deterministic = True  #needed\n",
    "        torch.backends.cudnn.benchmark = False"
   ]
  },
  {
   "cell_type": "markdown",
   "metadata": {},
   "source": [
    "# Data pre-processing\n",
    "In order to use transfer learning it is necessary to preprocess the input sequence in the same way it was done for the pre-trained model that is being used. The two main steps are to tokenize and numericalize the input text correctly. Each model requres a different pre-processing process, but fortunately that process is provided by the tokenizer class from transformers library.\n",
    "\n",
    "\n",
    "In the fastai library, data pre-processing is done automatically during the creation of the DataBunch. In the DataBunch implementation, the tokenizer and numericalizer are passed in the processor argument under the following format :\n",
    "\n",
    "processor = [TokenizeProcessor(tokenizer=tokenizer,...), NumericalizeProcessor(vocab=vocab,...)]\n",
    "\n",
    "\n",
    "## Custom Tokenizer\n",
    "In the fastai implementation there are three main parts :\n",
    "\n",
    "- The TokenizeProcessor object takes as tokenizer argument a Tokenizer object.\n",
    "- The Tokenizer object takes as tok_func argument a BaseTokenizer object.\n",
    "- The BaseTokenizer object implement the function tokenizer(t:str) → List[str] that take a text t and returns the list of its tokens.\n",
    "\n",
    "Therefore, it is possible to create a new class TransformersBaseTokenizer that inherits from BaseTokenizer and overwrite a new tokenizer function."
   ]
  },
  {
   "cell_type": "code",
   "execution_count": 11,
   "metadata": {
    "ExecuteTime": {
     "end_time": "2020-11-09T15:54:30.696886Z",
     "start_time": "2020-11-09T15:54:30.690386Z"
    }
   },
   "outputs": [],
   "source": [
    "class TransformersBaseTokenizer(BaseTokenizer):\n",
    "    \"\"\"Wrapper around PreTrainedTokenizer to be compatible with fast.ai\"\"\"\n",
    "    def __init__(self, pretrained_tokenizer: PreTrainedTokenizer, model_type = 'bert', **kwargs):\n",
    "        self._pretrained_tokenizer = pretrained_tokenizer\n",
    "        self.max_seq_len = pretrained_tokenizer.max_len\n",
    "        self.model_type = model_type\n",
    "\n",
    "    def __call__(self, *args, **kwargs): \n",
    "        return self\n",
    "\n",
    "    def tokenizer(self, t:str) -> List[str]:\n",
    "        \"\"\"Limits the maximum sequence length and add the spesial tokens\"\"\"\n",
    "        CLS = self._pretrained_tokenizer.cls_token\n",
    "        SEP = self._pretrained_tokenizer.sep_token\n",
    "        if self.model_type in ['roberta']:\n",
    "            tokens = self._pretrained_tokenizer.tokenize(t, add_prefix_space=True)[:self.max_seq_len - 2]\n",
    "            tokens = [CLS] + tokens + [SEP]\n",
    "        else:\n",
    "            tokens = self._pretrained_tokenizer.tokenize(t)[:self.max_seq_len - 2]\n",
    "            if self.model_type in ['xlnet']:\n",
    "                tokens = tokens + [SEP] +  [CLS]\n",
    "            else:\n",
    "                tokens = [CLS] + tokens + [SEP]\n",
    "        return tokens"
   ]
  },
  {
   "cell_type": "code",
   "execution_count": 12,
   "metadata": {
    "ExecuteTime": {
     "end_time": "2020-11-09T15:54:34.818457Z",
     "start_time": "2020-11-09T15:54:33.796769Z"
    }
   },
   "outputs": [],
   "source": [
    "transformer_tokenizer = tokenizer_class.from_pretrained(pretrained_model_name)\n",
    "transformer_base_tokenizer = TransformersBaseTokenizer(pretrained_tokenizer = transformer_tokenizer, model_type = model_type)\n",
    "fastai_tokenizer = Tokenizer(tok_func = transformer_base_tokenizer, pre_rules=[], post_rules=[])"
   ]
  },
  {
   "cell_type": "markdown",
   "metadata": {},
   "source": [
    "# Custom Numericalizer\n",
    "In fastai, NumericalizeProcessor object takes as vocab argument a Vocab object. In order to adapt the fastai numericalizer to the transformers models, the suggested solution is to:\n",
    "\n",
    "- Create a new class TransformersVocab that inherits from Vocab and overwrite numericalize and textify functions.\n"
   ]
  },
  {
   "cell_type": "code",
   "execution_count": 13,
   "metadata": {
    "ExecuteTime": {
     "end_time": "2020-11-09T15:54:36.314057Z",
     "start_time": "2020-11-09T15:54:36.284621Z"
    }
   },
   "outputs": [],
   "source": [
    "class TransformersVocab(Vocab):\n",
    "    def __init__(self, tokenizer: PreTrainedTokenizer):\n",
    "        super(TransformersVocab, self).__init__(itos = [])\n",
    "        self.tokenizer = tokenizer\n",
    "    \n",
    "    def numericalize(self, t:Collection[str]) -> List[int]:\n",
    "        \"Convert a list of tokens `t` to their ids.\"\n",
    "        return self.tokenizer.convert_tokens_to_ids(t)\n",
    "        #return self.tokenizer.encode(t)\n",
    "\n",
    "    def textify(self, nums:Collection[int], sep=' ') -> List[str]:\n",
    "        \"Convert a list of `nums` to their tokens.\"\n",
    "        nums = np.array(nums).tolist()\n",
    "        return sep.join(self.tokenizer.convert_ids_to_tokens(nums)) if sep is not None else self.tokenizer.convert_ids_to_tokens(nums)\n",
    "    \n",
    "    def __getstate__(self):\n",
    "        return {'itos':self.itos, 'tokenizer':self.tokenizer}\n",
    "\n",
    "    def __setstate__(self, state:dict):\n",
    "        self.itos = state['itos']\n",
    "        self.tokenizer = state['tokenizer']\n",
    "        self.stoi = collections.defaultdict(int,{v:k for k,v in enumerate(self.itos)})"
   ]
  },
  {
   "cell_type": "markdown",
   "metadata": {},
   "source": [
    "# Custom processor\n",
    "Now that we have our custom tokenizer and numericalizer, we can create the custom processor. Notice we are passing the include_bos = False and include_eos = False options. This is because fastai adds its own special tokens by default which interferes with the [CLS] and [SEP] tokens added by our custom tokenizer."
   ]
  },
  {
   "cell_type": "code",
   "execution_count": 14,
   "metadata": {
    "ExecuteTime": {
     "end_time": "2020-11-09T15:54:37.654348Z",
     "start_time": "2020-11-09T15:54:37.651334Z"
    }
   },
   "outputs": [],
   "source": [
    "transformer_vocab =  TransformersVocab(tokenizer = transformer_tokenizer)\n",
    "numericalize_processor = NumericalizeProcessor(vocab=transformer_vocab)\n",
    "\n",
    "tokenize_processor = TokenizeProcessor(tokenizer=fastai_tokenizer, include_bos=False, include_eos=False)\n",
    "\n",
    "transformer_processor = [tokenize_processor, numericalize_processor]"
   ]
  },
  {
   "cell_type": "code",
   "execution_count": 15,
   "metadata": {
    "ExecuteTime": {
     "end_time": "2020-11-09T15:54:42.880232Z",
     "start_time": "2020-11-09T15:54:42.877757Z"
    }
   },
   "outputs": [],
   "source": [
    "pad_first = bool(model_type in ['xlnet'])\n",
    "pad_idx = transformer_tokenizer.pad_token_id"
   ]
  },
  {
   "cell_type": "code",
   "execution_count": 16,
   "metadata": {
    "ExecuteTime": {
     "end_time": "2020-11-09T15:54:43.583902Z",
     "start_time": "2020-11-09T15:54:43.563143Z"
    }
   },
   "outputs": [
    {
     "name": "stdout",
     "output_type": "stream",
     "text": [
      "['Sal', 'ut', 'Ġc', 'Ġest', 'Ġmo', 'i', ',', 'ĠHello', 'Ġit', 'Ġs', 'Ġme']\n",
      "[18111, 1182, 740, 3304, 7458, 118, 6, 20920, 24, 579, 162]\n"
     ]
    },
    {
     "data": {
      "text/plain": [
       "['Sal', 'ut', 'Ġc', 'Ġest', 'Ġmo', 'i', ',', 'ĠHello', 'Ġit', 'Ġs', 'Ġme']"
      ]
     },
     "execution_count": 16,
     "metadata": {},
     "output_type": "execute_result"
    }
   ],
   "source": [
    "tokens = transformer_tokenizer.tokenize('Salut c est moi, Hello it s me')\n",
    "print(tokens)\n",
    "ids = transformer_tokenizer.convert_tokens_to_ids(tokens)\n",
    "print(ids)\n",
    "transformer_tokenizer.convert_ids_to_tokens(ids)"
   ]
  },
  {
   "cell_type": "code",
   "execution_count": 17,
   "metadata": {
    "ExecuteTime": {
     "end_time": "2020-10-24T15:53:16.053624Z",
     "start_time": "2020-10-24T15:52:53.650106Z"
    }
   },
   "outputs": [
    {
     "data": {
      "text/html": [],
      "text/plain": [
       "<IPython.core.display.HTML object>"
      ]
     },
     "metadata": {},
     "output_type": "display_data"
    },
    {
     "name": "stderr",
     "output_type": "stream",
     "text": [
      "/home/jacek/workspace/interactive_dashboard/env/lib/python3.6/site-packages/fastai/core.py:299: VisibleDeprecationWarning: Creating an ndarray from ragged nested sequences (which is a list-or-tuple of lists-or-tuples-or ndarrays with different lengths or shapes) is deprecated. If you meant to do this, you must specify 'dtype=object' when creating the ndarray\n",
      "  return np.array(a, dtype=dtype, **kwargs)\n"
     ]
    },
    {
     "data": {
      "text/html": [],
      "text/plain": [
       "<IPython.core.display.HTML object>"
      ]
     },
     "metadata": {},
     "output_type": "display_data"
    },
    {
     "data": {
      "text/html": [],
      "text/plain": [
       "<IPython.core.display.HTML object>"
      ]
     },
     "metadata": {},
     "output_type": "display_data"
    },
    {
     "name": "stderr",
     "output_type": "stream",
     "text": [
      "/home/jacek/workspace/interactive_dashboard/env/lib/python3.6/site-packages/numpy/core/_asarray.py:83: VisibleDeprecationWarning: Creating an ndarray from ragged nested sequences (which is a list-or-tuple of lists-or-tuples-or ndarrays with different lengths or shapes) is deprecated. If you meant to do this, you must specify 'dtype=object' when creating the ndarray\n",
      "  return array(a, dtype, copy=False, order=order)\n",
      "<string>:6: VisibleDeprecationWarning: Creating an ndarray from ragged nested sequences (which is a list-or-tuple of lists-or-tuples-or ndarrays with different lengths or shapes) is deprecated. If you meant to do this, you must specify 'dtype=object' when creating the ndarray\n"
     ]
    }
   ],
   "source": [
    "databunch = (TextList.from_df(train_data, cols='Phrase', processor=transformer_processor)\n",
    "             .split_by_rand_pct(0.1,seed=seed)\n",
    "             .label_from_df(cols= 'Sentiment')\n",
    "             .add_test(test_data)\n",
    "             .databunch(bs=bs, pad_first=pad_first, pad_idx=pad_idx))"
   ]
  },
  {
   "cell_type": "code",
   "execution_count": 19,
   "metadata": {
    "ExecuteTime": {
     "end_time": "2020-10-24T15:53:44.542886Z",
     "start_time": "2020-10-24T15:53:40.616659Z"
    }
   },
   "outputs": [
    {
     "name": "stdout",
     "output_type": "stream",
     "text": [
      "[CLS] token : <s>\n",
      "[SEP] token : </s>\n",
      "[PAD] token : <pad>\n"
     ]
    },
    {
     "name": "stderr",
     "output_type": "stream",
     "text": [
      "/home/jacek/workspace/interactive_dashboard/env/lib/python3.6/site-packages/numpy/core/_asarray.py:83: VisibleDeprecationWarning: Creating an ndarray from ragged nested sequences (which is a list-or-tuple of lists-or-tuples-or ndarrays with different lengths or shapes) is deprecated. If you meant to do this, you must specify 'dtype=object' when creating the ndarray\n",
      "  return array(a, dtype, copy=False, order=order)\n",
      "<string>:6: VisibleDeprecationWarning: Creating an ndarray from ragged nested sequences (which is a list-or-tuple of lists-or-tuples-or ndarrays with different lengths or shapes) is deprecated. If you meant to do this, you must specify 'dtype=object' when creating the ndarray\n"
     ]
    },
    {
     "data": {
      "text/html": [
       "<table border=\"1\" class=\"dataframe\">\n",
       "  <thead>\n",
       "    <tr style=\"text-align: right;\">\n",
       "      <th>text</th>\n",
       "      <th>target</th>\n",
       "    </tr>\n",
       "  </thead>\n",
       "  <tbody>\n",
       "    <tr>\n",
       "      <td>&lt;s&gt; Ġ- L RB - ĠCity Ġ- RR B - Ġreminds Ġus Ġhow Ġrealistically Ġnuanced Ġa ĠRobert ĠDe ĠN iro Ġperformance Ġcan Ġbe Ġwhen Ġhe Ġis Ġnot Ġmore Ġluc r atively Ġengaged Ġin Ġthe Ġshameless Ġself - car ic ature Ġof Ġ` ĠAnaly ze ĠThis Ġ' Ġ- L RB - Ġ1999 Ġ- RR B - Ġand Ġ` ĠAnaly ze ĠThat Ġ, Ġ' Ġpromised Ġ- L RB - Ġor Ġthreatened Ġ-</td>\n",
       "      <td>3</td>\n",
       "    </tr>\n",
       "    <tr>\n",
       "      <td>&lt;s&gt; Ġhave Ġto Ġsalute Ġwriter - director ĠH ane ke Ġ- L RB - Ġhe Ġadapted ĠElf ried e ĠJ eline k Ġ' s Ġnovel Ġ- RR B - Ġfor Ġmaking Ġa Ġfilm Ġthat Ġis Ġn 't Ġnearly Ġas Ġgraphic Ġbut Ġmuch Ġmore Ġpowerful Ġ, Ġbrutally Ġshocking Ġand Ġdifficult Ġto Ġwatch Ġ. &lt;/s&gt;</td>\n",
       "      <td>3</td>\n",
       "    </tr>\n",
       "    <tr>\n",
       "      <td>&lt;s&gt; ĠIf Ġyou Ġ' re Ġthe Ġkind Ġof Ġparent Ġwho Ġenjoys Ġintentionally Ġintroducing Ġyour Ġkids Ġto Ġfilms Ġwhich Ġwill Ġcause Ġloads Ġof Ġirre parable Ġdamage Ġthat Ġyears Ġand Ġyears Ġof Ġcostly Ġanalysis Ġcould Ġnever Ġfix Ġ, ĠI Ġhave Ġjust Ġone Ġword Ġfor Ġyou Ġ- Ġ-- ĠDec asia &lt;/s&gt;</td>\n",
       "      <td>0</td>\n",
       "    </tr>\n",
       "    <tr>\n",
       "      <td>&lt;s&gt; Ġone Ġis Ġleft Ġwith Ġthe Ġin escap able Ġconclusion Ġthat ĠHit chens Ġ' Ġobsession Ġwith ĠKissinger Ġis Ġ, Ġat Ġbottom Ġ, Ġa Ġsophisticated Ġflower Ġchild Ġ' s Ġdesire Ġto Ġpurge Ġthe Ġworld Ġof Ġthe Ġtooth Ġand Ġclaw Ġof Ġhuman Ġpower Ġ. &lt;/s&gt;</td>\n",
       "      <td>2</td>\n",
       "    </tr>\n",
       "    <tr>\n",
       "      <td>&lt;s&gt; ĠThe Ġlack Ġof Ġnatural ness Ġmakes Ġeverything Ġseem Ġself - conscious ly Ġpoetic Ġand Ġforced Ġ... ĠIt Ġ' s Ġa Ġpity Ġthat Ġ- L RB - ĠNelson Ġ' s Ġ- RR B - Ġachievement Ġdoes Ġn 't Ġmatch Ġhis Ġambition &lt;/s&gt;</td>\n",
       "      <td>1</td>\n",
       "    </tr>\n",
       "  </tbody>\n",
       "</table>"
      ],
      "text/plain": [
       "<IPython.core.display.HTML object>"
      ]
     },
     "metadata": {},
     "output_type": "display_data"
    }
   ],
   "source": [
    "# Check batch and tokenizer\n",
    "print('[CLS] token :', transformer_tokenizer.cls_token)\n",
    "print('[SEP] token :', transformer_tokenizer.sep_token)\n",
    "print('[PAD] token :', transformer_tokenizer.pad_token)\n",
    "databunch.show_batch()"
   ]
  },
  {
   "cell_type": "code",
   "execution_count": 20,
   "metadata": {
    "ExecuteTime": {
     "end_time": "2020-10-24T15:54:14.362187Z",
     "start_time": "2020-10-24T15:54:10.397594Z"
    }
   },
   "outputs": [
    {
     "name": "stdout",
     "output_type": "stream",
     "text": [
      "[CLS] id : 0\n",
      "[SEP] id : 2\n",
      "[PAD] id : 1\n",
      "Batch shape :  torch.Size([16, 79])\n",
      "tensor([[   0,  111,  574,  ...,   76,  479,    2],\n",
      "        [   0, 1666,   30,  ...,    1,    1,    1],\n",
      "        [   0,  345,  128,  ...,    1,    1,    1],\n",
      "        ...,\n",
      "        [   0, 3086, 4219,  ...,    1,    1,    1],\n",
      "        [   0,   47,   95,  ...,    1,    1,    1],\n",
      "        [   0, 2156, 7247,  ...,    1,    1,    1]])\n"
     ]
    },
    {
     "name": "stderr",
     "output_type": "stream",
     "text": [
      "/home/jacek/workspace/interactive_dashboard/env/lib/python3.6/site-packages/numpy/core/_asarray.py:83: VisibleDeprecationWarning: Creating an ndarray from ragged nested sequences (which is a list-or-tuple of lists-or-tuples-or ndarrays with different lengths or shapes) is deprecated. If you meant to do this, you must specify 'dtype=object' when creating the ndarray\n",
      "  return array(a, dtype, copy=False, order=order)\n",
      "<string>:6: VisibleDeprecationWarning: Creating an ndarray from ragged nested sequences (which is a list-or-tuple of lists-or-tuples-or ndarrays with different lengths or shapes) is deprecated. If you meant to do this, you must specify 'dtype=object' when creating the ndarray\n"
     ]
    }
   ],
   "source": [
    "# Check batch and numericalizer\n",
    "print('[CLS] id :', transformer_tokenizer.cls_token_id)\n",
    "print('[SEP] id :', transformer_tokenizer.sep_token_id)\n",
    "print('[PAD] id :', pad_idx)\n",
    "test_one_batch = databunch.one_batch()[0]\n",
    "print('Batch shape : ',test_one_batch.shape)\n",
    "print(test_one_batch)"
   ]
  },
  {
   "cell_type": "markdown",
   "metadata": {},
   "source": [
    "# Custom model\n",
    "As mentioned here, every model's forward method always outputs a tuple with various elements depending on the model and the configuration parameters. In our case, we are interested to access only to the logits.  One way to access them is to create a custom model."
   ]
  },
  {
   "cell_type": "code",
   "execution_count": 17,
   "metadata": {
    "ExecuteTime": {
     "end_time": "2020-11-09T15:54:53.309662Z",
     "start_time": "2020-11-09T15:54:53.303868Z"
    }
   },
   "outputs": [],
   "source": [
    "# defining our model architecture \n",
    "class CustomTransformerModel(nn.Module):\n",
    "    def __init__(self, transformer_model: PreTrainedModel):\n",
    "        super(CustomTransformerModel,self).__init__()\n",
    "        self.transformer = transformer_model\n",
    "        \n",
    "    def forward(self, input_ids, attention_mask=None):\n",
    "        \n",
    "        # attention_mask\n",
    "        # Mask to avoid performing attention on padding token indices.\n",
    "        # Mask values selected in ``[0, 1]``:\n",
    "        # ``1`` for tokens that are NOT MASKED, ``0`` for MASKED tokens.\n",
    "        attention_mask = (input_ids!=pad_idx).type(input_ids.type()) \n",
    "        \n",
    "        logits = self.transformer(input_ids,\n",
    "                                  attention_mask = attention_mask)[0]   \n",
    "        return logits"
   ]
  },
  {
   "cell_type": "markdown",
   "metadata": {},
   "source": [
    "To make our transformers adapted to multiclass classification, before loading the pre-trained model, we need to precise the number of labels. To do so, you can modify the config instance or either modify like in Keita Kurita's article (Section: Initializing the Learner) the num_labels argument."
   ]
  },
  {
   "cell_type": "code",
   "execution_count": 18,
   "metadata": {
    "ExecuteTime": {
     "end_time": "2020-11-09T15:55:00.183946Z",
     "start_time": "2020-11-09T15:54:59.727127Z"
    },
    "scrolled": true
   },
   "outputs": [
    {
     "name": "stdout",
     "output_type": "stream",
     "text": [
      "RobertaConfig {\n",
      "  \"architectures\": [\n",
      "    \"RobertaForMaskedLM\"\n",
      "  ],\n",
      "  \"attention_probs_dropout_prob\": 0.1,\n",
      "  \"bos_token_id\": 0,\n",
      "  \"do_sample\": false,\n",
      "  \"eos_token_id\": 2,\n",
      "  \"eos_token_ids\": null,\n",
      "  \"finetuning_task\": null,\n",
      "  \"hidden_act\": \"gelu\",\n",
      "  \"hidden_dropout_prob\": 0.1,\n",
      "  \"hidden_size\": 768,\n",
      "  \"id2label\": {\n",
      "    \"0\": \"LABEL_0\",\n",
      "    \"1\": \"LABEL_1\"\n",
      "  },\n",
      "  \"initializer_range\": 0.02,\n",
      "  \"intermediate_size\": 3072,\n",
      "  \"is_decoder\": false,\n",
      "  \"label2id\": {\n",
      "    \"LABEL_0\": 0,\n",
      "    \"LABEL_1\": 1\n",
      "  },\n",
      "  \"layer_norm_eps\": 1e-05,\n",
      "  \"length_penalty\": 1.0,\n",
      "  \"max_length\": 20,\n",
      "  \"max_position_embeddings\": 514,\n",
      "  \"model_type\": \"roberta\",\n",
      "  \"num_attention_heads\": 12,\n",
      "  \"num_beams\": 1,\n",
      "  \"num_hidden_layers\": 12,\n",
      "  \"num_labels\": 5,\n",
      "  \"num_return_sequences\": 1,\n",
      "  \"output_attentions\": false,\n",
      "  \"output_hidden_states\": false,\n",
      "  \"output_past\": true,\n",
      "  \"pad_token_id\": 1,\n",
      "  \"pruned_heads\": {},\n",
      "  \"repetition_penalty\": 1.0,\n",
      "  \"temperature\": 1.0,\n",
      "  \"top_k\": 50,\n",
      "  \"top_p\": 1.0,\n",
      "  \"torchscript\": false,\n",
      "  \"type_vocab_size\": 1,\n",
      "  \"use_bfloat16\": false,\n",
      "  \"vocab_size\": 50265\n",
      "}\n",
      "\n"
     ]
    }
   ],
   "source": [
    "config = config_class.from_pretrained(pretrained_model_name)\n",
    "config.num_labels = 5\n",
    "config.use_bfloat16 = use_fp16\n",
    "print(config)"
   ]
  },
  {
   "cell_type": "code",
   "execution_count": 19,
   "metadata": {
    "ExecuteTime": {
     "end_time": "2020-11-09T15:55:16.950313Z",
     "start_time": "2020-11-09T15:55:05.346468Z"
    }
   },
   "outputs": [],
   "source": [
    "transformer_model = model_class.from_pretrained(pretrained_model_name, config = config)\n",
    "\n",
    "custom_transformer_model = CustomTransformerModel(transformer_model = transformer_model)"
   ]
  },
  {
   "cell_type": "markdown",
   "metadata": {},
   "source": [
    "# Learner : Custom Optimizer / Custom Metric\n",
    "In pytorch-transformers, HuggingFace had implemented two specific optimizers  -  BertAdam and OpenAIAdam  -  that have been replaced by a single AdamW optimizer. This optimizer matches Pytorch Adam optimizer Api, therefore, it becomes straightforward to integrate it within fastai. It is worth noting that for reproducing BertAdam specific behavior, you have to set correct_bias = False."
   ]
  },
  {
   "cell_type": "code",
   "execution_count": 20,
   "metadata": {
    "ExecuteTime": {
     "end_time": "2020-11-09T15:55:17.145480Z",
     "start_time": "2020-11-09T15:55:16.953666Z"
    }
   },
   "outputs": [
    {
     "ename": "NameError",
     "evalue": "name 'databunch' is not defined",
     "output_type": "error",
     "traceback": [
      "\u001b[0;31m---------------------------------------------------------------------------\u001b[0m",
      "\u001b[0;31mNameError\u001b[0m                                 Traceback (most recent call last)",
      "\u001b[0;32m<ipython-input-20-25caa28a2a38>\u001b[0m in \u001b[0;36m<module>\u001b[0;34m\u001b[0m\n\u001b[1;32m      5\u001b[0m \u001b[0mCustomAdamW\u001b[0m \u001b[0;34m=\u001b[0m \u001b[0mpartial\u001b[0m\u001b[0;34m(\u001b[0m\u001b[0mAdamW\u001b[0m\u001b[0;34m,\u001b[0m \u001b[0mcorrect_bias\u001b[0m\u001b[0;34m=\u001b[0m\u001b[0;32mFalse\u001b[0m\u001b[0;34m)\u001b[0m\u001b[0;34m\u001b[0m\u001b[0;34m\u001b[0m\u001b[0m\n\u001b[1;32m      6\u001b[0m \u001b[0;34m\u001b[0m\u001b[0m\n\u001b[0;32m----> 7\u001b[0;31m learner = Learner(databunch, \n\u001b[0m\u001b[1;32m      8\u001b[0m                   \u001b[0mcustom_transformer_model\u001b[0m\u001b[0;34m,\u001b[0m\u001b[0;34m\u001b[0m\u001b[0;34m\u001b[0m\u001b[0m\n\u001b[1;32m      9\u001b[0m                   \u001b[0mopt_func\u001b[0m \u001b[0;34m=\u001b[0m \u001b[0mCustomAdamW\u001b[0m\u001b[0;34m,\u001b[0m\u001b[0;34m\u001b[0m\u001b[0;34m\u001b[0m\u001b[0m\n",
      "\u001b[0;31mNameError\u001b[0m: name 'databunch' is not defined"
     ]
    }
   ],
   "source": [
    "from fastai.callbacks import *\n",
    "from transformers import AdamW\n",
    "from functools import partial\n",
    "\n",
    "CustomAdamW = partial(AdamW, correct_bias=False)\n",
    "\n",
    "learner = Learner(databunch, \n",
    "                  custom_transformer_model, \n",
    "                  opt_func = CustomAdamW, \n",
    "                  metrics=[accuracy, error_rate])\n",
    "\n",
    "# Show graph of learner stats and metrics after each epoch.\n",
    "learner.callbacks.append(ShowGraph(learner))\n",
    "\n",
    "# Put learn in FP16 precision mode. --> Seems to not working\n",
    "if use_fp16: learner = learner.to_fp16()"
   ]
  },
  {
   "cell_type": "markdown",
   "metadata": {},
   "source": [
    "# Discriminative Fine-tuning and Gradual unfreezing (Optional)\n",
    "To use discriminative layer training and gradual unfreezing, fastai provides one tool that allows to \"split\" the structure model into groups. An instruction to perform that \"split\" is described in the fastai documentation here.\n",
    "\n",
    "Unfortunately, the model architectures are too different to create a unique generic function that can \"split\" all the model types in a convenient way. Thereby, you will have to implement a custom \"split\" for each different model architecture.\n",
    "\n",
    "For example, if we use the RobBERTa model and that we observe his architecture by making print(learner.model)."
   ]
  },
  {
   "cell_type": "code",
   "execution_count": null,
   "metadata": {},
   "outputs": [],
   "source": [
    "# print(learner.model)"
   ]
  },
  {
   "cell_type": "markdown",
   "metadata": {},
   "source": [
    "Once we know the architecture we can split the model like this:"
   ]
  },
  {
   "cell_type": "code",
   "execution_count": 25,
   "metadata": {
    "ExecuteTime": {
     "end_time": "2020-10-24T15:59:27.148048Z",
     "start_time": "2020-10-24T15:59:27.139126Z"
    }
   },
   "outputs": [],
   "source": [
    "# For DistilBERT\n",
    "# list_layers = [learner.model.transformer.distilbert.embeddings,\n",
    "#                learner.model.transformer.distilbert.transformer.layer[0],\n",
    "#                learner.model.transformer.distilbert.transformer.layer[1],\n",
    "#                learner.model.transformer.distilbert.transformer.layer[2],\n",
    "#                learner.model.transformer.distilbert.transformer.layer[3],\n",
    "#                learner.model.transformer.distilbert.transformer.layer[4],\n",
    "#                learner.model.transformer.distilbert.transformer.layer[5],\n",
    "#                learner.model.transformer.pre_classifier]\n",
    "\n",
    "# For xlnet-base-cased\n",
    "# list_layers = [learner.model.transformer.transformer.word_embedding,\n",
    "#               learner.model.transformer.transformer.layer[0],\n",
    "#               learner.model.transformer.transformer.layer[1],\n",
    "#               learner.model.transformer.transformer.layer[2],\n",
    "#               learner.model.transformer.transformer.layer[3],\n",
    "#               learner.model.transformer.transformer.layer[4],\n",
    "#               learner.model.transformer.transformer.layer[5],\n",
    "#               learner.model.transformer.transformer.layer[6],\n",
    "#               learner.model.transformer.transformer.layer[7],\n",
    "#               learner.model.transformer.transformer.layer[8],\n",
    "#               learner.model.transformer.transformer.layer[9],\n",
    "#               learner.model.transformer.transformer.layer[10],\n",
    "#               learner.model.transformer.transformer.layer[11],\n",
    "#               learner.model.transformer.sequence_summary]\n",
    "\n",
    "# For roberta-base\n",
    "list_layers = [learner.model.transformer.roberta.embeddings,\n",
    "              learner.model.transformer.roberta.encoder.layer[0],\n",
    "              learner.model.transformer.roberta.encoder.layer[1],\n",
    "              learner.model.transformer.roberta.encoder.layer[2],\n",
    "              learner.model.transformer.roberta.encoder.layer[3],\n",
    "              learner.model.transformer.roberta.encoder.layer[4],\n",
    "              learner.model.transformer.roberta.encoder.layer[5],\n",
    "              learner.model.transformer.roberta.encoder.layer[6],\n",
    "              learner.model.transformer.roberta.encoder.layer[7],\n",
    "              learner.model.transformer.roberta.encoder.layer[8],\n",
    "              learner.model.transformer.roberta.encoder.layer[9],\n",
    "              learner.model.transformer.roberta.encoder.layer[10],\n",
    "              learner.model.transformer.roberta.encoder.layer[11],\n",
    "              learner.model.transformer.roberta.pooler]"
   ]
  },
  {
   "cell_type": "code",
   "execution_count": 26,
   "metadata": {
    "ExecuteTime": {
     "end_time": "2020-10-24T16:00:30.596755Z",
     "start_time": "2020-10-24T16:00:30.556321Z"
    }
   },
   "outputs": [
    {
     "name": "stdout",
     "output_type": "stream",
     "text": [
      "Learner split in 14 groups\n",
      "[Sequential(\n",
      "  (0): Embedding(50265, 768, padding_idx=1)\n",
      "  (1): Embedding(514, 768, padding_idx=1)\n",
      "  (2): Embedding(1, 768)\n",
      "  (3): LayerNorm((768,), eps=1e-05, elementwise_affine=True)\n",
      "  (4): Dropout(p=0.1, inplace=False)\n",
      "), Sequential(\n",
      "  (0): Linear(in_features=768, out_features=768, bias=True)\n",
      "  (1): Linear(in_features=768, out_features=768, bias=True)\n",
      "  (2): Linear(in_features=768, out_features=768, bias=True)\n",
      "  (3): Dropout(p=0.1, inplace=False)\n",
      "  (4): Linear(in_features=768, out_features=768, bias=True)\n",
      "  (5): LayerNorm((768,), eps=1e-05, elementwise_affine=True)\n",
      "  (6): Dropout(p=0.1, inplace=False)\n",
      "  (7): Linear(in_features=768, out_features=3072, bias=True)\n",
      "  (8): Linear(in_features=3072, out_features=768, bias=True)\n",
      "  (9): LayerNorm((768,), eps=1e-05, elementwise_affine=True)\n",
      "  (10): Dropout(p=0.1, inplace=False)\n",
      "), Sequential(\n",
      "  (0): Linear(in_features=768, out_features=768, bias=True)\n",
      "  (1): Linear(in_features=768, out_features=768, bias=True)\n",
      "  (2): Linear(in_features=768, out_features=768, bias=True)\n",
      "  (3): Dropout(p=0.1, inplace=False)\n",
      "  (4): Linear(in_features=768, out_features=768, bias=True)\n",
      "  (5): LayerNorm((768,), eps=1e-05, elementwise_affine=True)\n",
      "  (6): Dropout(p=0.1, inplace=False)\n",
      "  (7): Linear(in_features=768, out_features=3072, bias=True)\n",
      "  (8): Linear(in_features=3072, out_features=768, bias=True)\n",
      "  (9): LayerNorm((768,), eps=1e-05, elementwise_affine=True)\n",
      "  (10): Dropout(p=0.1, inplace=False)\n",
      "), Sequential(\n",
      "  (0): Linear(in_features=768, out_features=768, bias=True)\n",
      "  (1): Linear(in_features=768, out_features=768, bias=True)\n",
      "  (2): Linear(in_features=768, out_features=768, bias=True)\n",
      "  (3): Dropout(p=0.1, inplace=False)\n",
      "  (4): Linear(in_features=768, out_features=768, bias=True)\n",
      "  (5): LayerNorm((768,), eps=1e-05, elementwise_affine=True)\n",
      "  (6): Dropout(p=0.1, inplace=False)\n",
      "  (7): Linear(in_features=768, out_features=3072, bias=True)\n",
      "  (8): Linear(in_features=3072, out_features=768, bias=True)\n",
      "  (9): LayerNorm((768,), eps=1e-05, elementwise_affine=True)\n",
      "  (10): Dropout(p=0.1, inplace=False)\n",
      "), Sequential(\n",
      "  (0): Linear(in_features=768, out_features=768, bias=True)\n",
      "  (1): Linear(in_features=768, out_features=768, bias=True)\n",
      "  (2): Linear(in_features=768, out_features=768, bias=True)\n",
      "  (3): Dropout(p=0.1, inplace=False)\n",
      "  (4): Linear(in_features=768, out_features=768, bias=True)\n",
      "  (5): LayerNorm((768,), eps=1e-05, elementwise_affine=True)\n",
      "  (6): Dropout(p=0.1, inplace=False)\n",
      "  (7): Linear(in_features=768, out_features=3072, bias=True)\n",
      "  (8): Linear(in_features=3072, out_features=768, bias=True)\n",
      "  (9): LayerNorm((768,), eps=1e-05, elementwise_affine=True)\n",
      "  (10): Dropout(p=0.1, inplace=False)\n",
      "), Sequential(\n",
      "  (0): Linear(in_features=768, out_features=768, bias=True)\n",
      "  (1): Linear(in_features=768, out_features=768, bias=True)\n",
      "  (2): Linear(in_features=768, out_features=768, bias=True)\n",
      "  (3): Dropout(p=0.1, inplace=False)\n",
      "  (4): Linear(in_features=768, out_features=768, bias=True)\n",
      "  (5): LayerNorm((768,), eps=1e-05, elementwise_affine=True)\n",
      "  (6): Dropout(p=0.1, inplace=False)\n",
      "  (7): Linear(in_features=768, out_features=3072, bias=True)\n",
      "  (8): Linear(in_features=3072, out_features=768, bias=True)\n",
      "  (9): LayerNorm((768,), eps=1e-05, elementwise_affine=True)\n",
      "  (10): Dropout(p=0.1, inplace=False)\n",
      "), Sequential(\n",
      "  (0): Linear(in_features=768, out_features=768, bias=True)\n",
      "  (1): Linear(in_features=768, out_features=768, bias=True)\n",
      "  (2): Linear(in_features=768, out_features=768, bias=True)\n",
      "  (3): Dropout(p=0.1, inplace=False)\n",
      "  (4): Linear(in_features=768, out_features=768, bias=True)\n",
      "  (5): LayerNorm((768,), eps=1e-05, elementwise_affine=True)\n",
      "  (6): Dropout(p=0.1, inplace=False)\n",
      "  (7): Linear(in_features=768, out_features=3072, bias=True)\n",
      "  (8): Linear(in_features=3072, out_features=768, bias=True)\n",
      "  (9): LayerNorm((768,), eps=1e-05, elementwise_affine=True)\n",
      "  (10): Dropout(p=0.1, inplace=False)\n",
      "), Sequential(\n",
      "  (0): Linear(in_features=768, out_features=768, bias=True)\n",
      "  (1): Linear(in_features=768, out_features=768, bias=True)\n",
      "  (2): Linear(in_features=768, out_features=768, bias=True)\n",
      "  (3): Dropout(p=0.1, inplace=False)\n",
      "  (4): Linear(in_features=768, out_features=768, bias=True)\n",
      "  (5): LayerNorm((768,), eps=1e-05, elementwise_affine=True)\n",
      "  (6): Dropout(p=0.1, inplace=False)\n",
      "  (7): Linear(in_features=768, out_features=3072, bias=True)\n",
      "  (8): Linear(in_features=3072, out_features=768, bias=True)\n",
      "  (9): LayerNorm((768,), eps=1e-05, elementwise_affine=True)\n",
      "  (10): Dropout(p=0.1, inplace=False)\n",
      "), Sequential(\n",
      "  (0): Linear(in_features=768, out_features=768, bias=True)\n",
      "  (1): Linear(in_features=768, out_features=768, bias=True)\n",
      "  (2): Linear(in_features=768, out_features=768, bias=True)\n",
      "  (3): Dropout(p=0.1, inplace=False)\n",
      "  (4): Linear(in_features=768, out_features=768, bias=True)\n",
      "  (5): LayerNorm((768,), eps=1e-05, elementwise_affine=True)\n",
      "  (6): Dropout(p=0.1, inplace=False)\n",
      "  (7): Linear(in_features=768, out_features=3072, bias=True)\n",
      "  (8): Linear(in_features=3072, out_features=768, bias=True)\n",
      "  (9): LayerNorm((768,), eps=1e-05, elementwise_affine=True)\n",
      "  (10): Dropout(p=0.1, inplace=False)\n",
      "), Sequential(\n",
      "  (0): Linear(in_features=768, out_features=768, bias=True)\n",
      "  (1): Linear(in_features=768, out_features=768, bias=True)\n",
      "  (2): Linear(in_features=768, out_features=768, bias=True)\n",
      "  (3): Dropout(p=0.1, inplace=False)\n",
      "  (4): Linear(in_features=768, out_features=768, bias=True)\n",
      "  (5): LayerNorm((768,), eps=1e-05, elementwise_affine=True)\n",
      "  (6): Dropout(p=0.1, inplace=False)\n",
      "  (7): Linear(in_features=768, out_features=3072, bias=True)\n",
      "  (8): Linear(in_features=3072, out_features=768, bias=True)\n",
      "  (9): LayerNorm((768,), eps=1e-05, elementwise_affine=True)\n",
      "  (10): Dropout(p=0.1, inplace=False)\n",
      "), Sequential(\n",
      "  (0): Linear(in_features=768, out_features=768, bias=True)\n",
      "  (1): Linear(in_features=768, out_features=768, bias=True)\n",
      "  (2): Linear(in_features=768, out_features=768, bias=True)\n",
      "  (3): Dropout(p=0.1, inplace=False)\n",
      "  (4): Linear(in_features=768, out_features=768, bias=True)\n",
      "  (5): LayerNorm((768,), eps=1e-05, elementwise_affine=True)\n",
      "  (6): Dropout(p=0.1, inplace=False)\n",
      "  (7): Linear(in_features=768, out_features=3072, bias=True)\n",
      "  (8): Linear(in_features=3072, out_features=768, bias=True)\n",
      "  (9): LayerNorm((768,), eps=1e-05, elementwise_affine=True)\n",
      "  (10): Dropout(p=0.1, inplace=False)\n",
      "), Sequential(\n",
      "  (0): Linear(in_features=768, out_features=768, bias=True)\n",
      "  (1): Linear(in_features=768, out_features=768, bias=True)\n",
      "  (2): Linear(in_features=768, out_features=768, bias=True)\n",
      "  (3): Dropout(p=0.1, inplace=False)\n",
      "  (4): Linear(in_features=768, out_features=768, bias=True)\n",
      "  (5): LayerNorm((768,), eps=1e-05, elementwise_affine=True)\n",
      "  (6): Dropout(p=0.1, inplace=False)\n",
      "  (7): Linear(in_features=768, out_features=3072, bias=True)\n",
      "  (8): Linear(in_features=3072, out_features=768, bias=True)\n",
      "  (9): LayerNorm((768,), eps=1e-05, elementwise_affine=True)\n",
      "  (10): Dropout(p=0.1, inplace=False)\n",
      "), Sequential(\n",
      "  (0): Linear(in_features=768, out_features=768, bias=True)\n",
      "  (1): Linear(in_features=768, out_features=768, bias=True)\n",
      "  (2): Linear(in_features=768, out_features=768, bias=True)\n",
      "  (3): Dropout(p=0.1, inplace=False)\n",
      "  (4): Linear(in_features=768, out_features=768, bias=True)\n",
      "  (5): LayerNorm((768,), eps=1e-05, elementwise_affine=True)\n",
      "  (6): Dropout(p=0.1, inplace=False)\n",
      "  (7): Linear(in_features=768, out_features=3072, bias=True)\n",
      "  (8): Linear(in_features=3072, out_features=768, bias=True)\n",
      "  (9): LayerNorm((768,), eps=1e-05, elementwise_affine=True)\n",
      "  (10): Dropout(p=0.1, inplace=False)\n",
      "), Sequential(\n",
      "  (0): Linear(in_features=768, out_features=768, bias=True)\n",
      "  (1): Tanh()\n",
      "  (2): Linear(in_features=768, out_features=768, bias=True)\n",
      "  (3): Dropout(p=0.1, inplace=False)\n",
      "  (4): Linear(in_features=768, out_features=5, bias=True)\n",
      ")]\n"
     ]
    }
   ],
   "source": [
    "learner.split(list_layers)\n",
    "num_groups = len(learner.layer_groups)\n",
    "print('Learner split in',num_groups,'groups')\n",
    "print(learner.layer_groups)"
   ]
  },
  {
   "cell_type": "markdown",
   "metadata": {},
   "source": [
    "# Train\n",
    "Now we can finally use all the fastai build-in features to train our model. Like the ULMFiT method, we will use Slanted Triangular Learning Rates, Discriminate Learning Rate and gradually unfreeze the model."
   ]
  },
  {
   "cell_type": "code",
   "execution_count": 27,
   "metadata": {
    "ExecuteTime": {
     "end_time": "2020-10-24T16:01:52.116627Z",
     "start_time": "2020-10-24T16:01:51.106324Z"
    }
   },
   "outputs": [],
   "source": [
    "learner.save('untrained')"
   ]
  },
  {
   "cell_type": "code",
   "execution_count": 29,
   "metadata": {
    "ExecuteTime": {
     "end_time": "2020-10-24T16:02:35.833838Z",
     "start_time": "2020-10-24T16:02:35.511418Z"
    }
   },
   "outputs": [],
   "source": [
    "seed_all(seed)\n",
    "learner.load('untrained');"
   ]
  },
  {
   "cell_type": "code",
   "execution_count": 30,
   "metadata": {
    "ExecuteTime": {
     "end_time": "2020-10-24T16:02:54.222754Z",
     "start_time": "2020-10-24T16:02:54.213960Z"
    }
   },
   "outputs": [],
   "source": [
    "# we freeze all the layers except the classifier\n",
    "learner.freeze_to(-1)"
   ]
  },
  {
   "cell_type": "code",
   "execution_count": 31,
   "metadata": {
    "ExecuteTime": {
     "end_time": "2020-10-24T16:03:36.048761Z",
     "start_time": "2020-10-24T16:03:32.142510Z"
    }
   },
   "outputs": [
    {
     "name": "stderr",
     "output_type": "stream",
     "text": [
      "/home/jacek/workspace/interactive_dashboard/env/lib/python3.6/site-packages/numpy/core/_asarray.py:83: VisibleDeprecationWarning: Creating an ndarray from ragged nested sequences (which is a list-or-tuple of lists-or-tuples-or ndarrays with different lengths or shapes) is deprecated. If you meant to do this, you must specify 'dtype=object' when creating the ndarray\n",
      "  return array(a, dtype, copy=False, order=order)\n",
      "<string>:6: VisibleDeprecationWarning: Creating an ndarray from ragged nested sequences (which is a list-or-tuple of lists-or-tuples-or ndarrays with different lengths or shapes) is deprecated. If you meant to do this, you must specify 'dtype=object' when creating the ndarray\n"
     ]
    },
    {
     "data": {
      "text/plain": [
       "CustomTransformerModel\n",
       "======================================================================\n",
       "Layer (type)         Output Shape         Param #    Trainable \n",
       "======================================================================\n",
       "Embedding            [79, 768]            38,603,520 False     \n",
       "______________________________________________________________________\n",
       "Embedding            [79, 768]            394,752    False     \n",
       "______________________________________________________________________\n",
       "Embedding            [79, 768]            768        False     \n",
       "______________________________________________________________________\n",
       "LayerNorm            [79, 768]            1,536      False     \n",
       "______________________________________________________________________\n",
       "Dropout              [79, 768]            0          False     \n",
       "______________________________________________________________________\n",
       "Linear               [79, 768]            590,592    False     \n",
       "______________________________________________________________________\n",
       "Linear               [79, 768]            590,592    False     \n",
       "______________________________________________________________________\n",
       "Linear               [79, 768]            590,592    False     \n",
       "______________________________________________________________________\n",
       "Dropout              [12, 79, 79]         0          False     \n",
       "______________________________________________________________________\n",
       "Linear               [79, 768]            590,592    False     \n",
       "______________________________________________________________________\n",
       "LayerNorm            [79, 768]            1,536      False     \n",
       "______________________________________________________________________\n",
       "Dropout              [79, 768]            0          False     \n",
       "______________________________________________________________________\n",
       "Linear               [79, 3072]           2,362,368  False     \n",
       "______________________________________________________________________\n",
       "Linear               [79, 768]            2,360,064  False     \n",
       "______________________________________________________________________\n",
       "LayerNorm            [79, 768]            1,536      False     \n",
       "______________________________________________________________________\n",
       "Dropout              [79, 768]            0          False     \n",
       "______________________________________________________________________\n",
       "Linear               [79, 768]            590,592    False     \n",
       "______________________________________________________________________\n",
       "Linear               [79, 768]            590,592    False     \n",
       "______________________________________________________________________\n",
       "Linear               [79, 768]            590,592    False     \n",
       "______________________________________________________________________\n",
       "Dropout              [12, 79, 79]         0          False     \n",
       "______________________________________________________________________\n",
       "Linear               [79, 768]            590,592    False     \n",
       "______________________________________________________________________\n",
       "LayerNorm            [79, 768]            1,536      False     \n",
       "______________________________________________________________________\n",
       "Dropout              [79, 768]            0          False     \n",
       "______________________________________________________________________\n",
       "Linear               [79, 3072]           2,362,368  False     \n",
       "______________________________________________________________________\n",
       "Linear               [79, 768]            2,360,064  False     \n",
       "______________________________________________________________________\n",
       "LayerNorm            [79, 768]            1,536      False     \n",
       "______________________________________________________________________\n",
       "Dropout              [79, 768]            0          False     \n",
       "______________________________________________________________________\n",
       "Linear               [79, 768]            590,592    False     \n",
       "______________________________________________________________________\n",
       "Linear               [79, 768]            590,592    False     \n",
       "______________________________________________________________________\n",
       "Linear               [79, 768]            590,592    False     \n",
       "______________________________________________________________________\n",
       "Dropout              [12, 79, 79]         0          False     \n",
       "______________________________________________________________________\n",
       "Linear               [79, 768]            590,592    False     \n",
       "______________________________________________________________________\n",
       "LayerNorm            [79, 768]            1,536      False     \n",
       "______________________________________________________________________\n",
       "Dropout              [79, 768]            0          False     \n",
       "______________________________________________________________________\n",
       "Linear               [79, 3072]           2,362,368  False     \n",
       "______________________________________________________________________\n",
       "Linear               [79, 768]            2,360,064  False     \n",
       "______________________________________________________________________\n",
       "LayerNorm            [79, 768]            1,536      False     \n",
       "______________________________________________________________________\n",
       "Dropout              [79, 768]            0          False     \n",
       "______________________________________________________________________\n",
       "Linear               [79, 768]            590,592    False     \n",
       "______________________________________________________________________\n",
       "Linear               [79, 768]            590,592    False     \n",
       "______________________________________________________________________\n",
       "Linear               [79, 768]            590,592    False     \n",
       "______________________________________________________________________\n",
       "Dropout              [12, 79, 79]         0          False     \n",
       "______________________________________________________________________\n",
       "Linear               [79, 768]            590,592    False     \n",
       "______________________________________________________________________\n",
       "LayerNorm            [79, 768]            1,536      False     \n",
       "______________________________________________________________________\n",
       "Dropout              [79, 768]            0          False     \n",
       "______________________________________________________________________\n",
       "Linear               [79, 3072]           2,362,368  False     \n",
       "______________________________________________________________________\n",
       "Linear               [79, 768]            2,360,064  False     \n",
       "______________________________________________________________________\n",
       "LayerNorm            [79, 768]            1,536      False     \n",
       "______________________________________________________________________\n",
       "Dropout              [79, 768]            0          False     \n",
       "______________________________________________________________________\n",
       "Linear               [79, 768]            590,592    False     \n",
       "______________________________________________________________________\n",
       "Linear               [79, 768]            590,592    False     \n",
       "______________________________________________________________________\n",
       "Linear               [79, 768]            590,592    False     \n",
       "______________________________________________________________________\n",
       "Dropout              [12, 79, 79]         0          False     \n",
       "______________________________________________________________________\n",
       "Linear               [79, 768]            590,592    False     \n",
       "______________________________________________________________________\n",
       "LayerNorm            [79, 768]            1,536      False     \n",
       "______________________________________________________________________\n",
       "Dropout              [79, 768]            0          False     \n",
       "______________________________________________________________________\n",
       "Linear               [79, 3072]           2,362,368  False     \n",
       "______________________________________________________________________\n",
       "Linear               [79, 768]            2,360,064  False     \n",
       "______________________________________________________________________\n",
       "LayerNorm            [79, 768]            1,536      False     \n",
       "______________________________________________________________________\n",
       "Dropout              [79, 768]            0          False     \n",
       "______________________________________________________________________\n",
       "Linear               [79, 768]            590,592    False     \n",
       "______________________________________________________________________\n",
       "Linear               [79, 768]            590,592    False     \n",
       "______________________________________________________________________\n",
       "Linear               [79, 768]            590,592    False     \n",
       "______________________________________________________________________\n",
       "Dropout              [12, 79, 79]         0          False     \n",
       "______________________________________________________________________\n",
       "Linear               [79, 768]            590,592    False     \n",
       "______________________________________________________________________\n",
       "LayerNorm            [79, 768]            1,536      False     \n",
       "______________________________________________________________________\n",
       "Dropout              [79, 768]            0          False     \n",
       "______________________________________________________________________\n",
       "Linear               [79, 3072]           2,362,368  False     \n",
       "______________________________________________________________________\n",
       "Linear               [79, 768]            2,360,064  False     \n",
       "______________________________________________________________________\n",
       "LayerNorm            [79, 768]            1,536      False     \n",
       "______________________________________________________________________\n",
       "Dropout              [79, 768]            0          False     \n",
       "______________________________________________________________________\n",
       "Linear               [79, 768]            590,592    False     \n",
       "______________________________________________________________________\n",
       "Linear               [79, 768]            590,592    False     \n",
       "______________________________________________________________________\n",
       "Linear               [79, 768]            590,592    False     \n",
       "______________________________________________________________________\n",
       "Dropout              [12, 79, 79]         0          False     \n",
       "______________________________________________________________________\n",
       "Linear               [79, 768]            590,592    False     \n",
       "______________________________________________________________________\n",
       "LayerNorm            [79, 768]            1,536      False     \n",
       "______________________________________________________________________\n",
       "Dropout              [79, 768]            0          False     \n",
       "______________________________________________________________________\n",
       "Linear               [79, 3072]           2,362,368  False     \n",
       "______________________________________________________________________\n",
       "Linear               [79, 768]            2,360,064  False     \n",
       "______________________________________________________________________\n",
       "LayerNorm            [79, 768]            1,536      False     \n",
       "______________________________________________________________________\n",
       "Dropout              [79, 768]            0          False     \n",
       "______________________________________________________________________\n",
       "Linear               [79, 768]            590,592    False     \n",
       "______________________________________________________________________\n",
       "Linear               [79, 768]            590,592    False     \n",
       "______________________________________________________________________\n",
       "Linear               [79, 768]            590,592    False     \n",
       "______________________________________________________________________\n",
       "Dropout              [12, 79, 79]         0          False     \n",
       "______________________________________________________________________\n",
       "Linear               [79, 768]            590,592    False     \n",
       "______________________________________________________________________\n",
       "LayerNorm            [79, 768]            1,536      False     \n",
       "______________________________________________________________________\n",
       "Dropout              [79, 768]            0          False     \n",
       "______________________________________________________________________\n",
       "Linear               [79, 3072]           2,362,368  False     \n",
       "______________________________________________________________________\n",
       "Linear               [79, 768]            2,360,064  False     \n",
       "______________________________________________________________________\n",
       "LayerNorm            [79, 768]            1,536      False     \n",
       "______________________________________________________________________\n",
       "Dropout              [79, 768]            0          False     \n",
       "______________________________________________________________________\n",
       "Linear               [79, 768]            590,592    False     \n",
       "______________________________________________________________________\n",
       "Linear               [79, 768]            590,592    False     \n",
       "______________________________________________________________________\n",
       "Linear               [79, 768]            590,592    False     \n",
       "______________________________________________________________________\n",
       "Dropout              [12, 79, 79]         0          False     \n",
       "______________________________________________________________________\n",
       "Linear               [79, 768]            590,592    False     \n",
       "______________________________________________________________________\n",
       "LayerNorm            [79, 768]            1,536      False     \n",
       "______________________________________________________________________\n",
       "Dropout              [79, 768]            0          False     \n",
       "______________________________________________________________________\n",
       "Linear               [79, 3072]           2,362,368  False     \n",
       "______________________________________________________________________\n",
       "Linear               [79, 768]            2,360,064  False     \n",
       "______________________________________________________________________\n",
       "LayerNorm            [79, 768]            1,536      False     \n",
       "______________________________________________________________________\n",
       "Dropout              [79, 768]            0          False     \n",
       "______________________________________________________________________\n",
       "Linear               [79, 768]            590,592    False     \n",
       "______________________________________________________________________\n",
       "Linear               [79, 768]            590,592    False     \n",
       "______________________________________________________________________\n",
       "Linear               [79, 768]            590,592    False     \n",
       "______________________________________________________________________\n",
       "Dropout              [12, 79, 79]         0          False     \n",
       "______________________________________________________________________\n",
       "Linear               [79, 768]            590,592    False     \n",
       "______________________________________________________________________\n",
       "LayerNorm            [79, 768]            1,536      False     \n",
       "______________________________________________________________________\n",
       "Dropout              [79, 768]            0          False     \n",
       "______________________________________________________________________\n",
       "Linear               [79, 3072]           2,362,368  False     \n",
       "______________________________________________________________________\n",
       "Linear               [79, 768]            2,360,064  False     \n",
       "______________________________________________________________________\n",
       "LayerNorm            [79, 768]            1,536      False     \n",
       "______________________________________________________________________\n",
       "Dropout              [79, 768]            0          False     \n",
       "______________________________________________________________________\n",
       "Linear               [79, 768]            590,592    False     \n",
       "______________________________________________________________________\n",
       "Linear               [79, 768]            590,592    False     \n",
       "______________________________________________________________________\n",
       "Linear               [79, 768]            590,592    False     \n",
       "______________________________________________________________________\n",
       "Dropout              [12, 79, 79]         0          False     \n",
       "______________________________________________________________________\n",
       "Linear               [79, 768]            590,592    False     \n",
       "______________________________________________________________________\n",
       "LayerNorm            [79, 768]            1,536      False     \n",
       "______________________________________________________________________\n",
       "Dropout              [79, 768]            0          False     \n",
       "______________________________________________________________________\n",
       "Linear               [79, 3072]           2,362,368  False     \n",
       "______________________________________________________________________\n",
       "Linear               [79, 768]            2,360,064  False     \n",
       "______________________________________________________________________\n",
       "LayerNorm            [79, 768]            1,536      False     \n",
       "______________________________________________________________________\n",
       "Dropout              [79, 768]            0          False     \n",
       "______________________________________________________________________\n",
       "Linear               [79, 768]            590,592    False     \n",
       "______________________________________________________________________\n",
       "Linear               [79, 768]            590,592    False     \n",
       "______________________________________________________________________\n",
       "Linear               [79, 768]            590,592    False     \n",
       "______________________________________________________________________\n",
       "Dropout              [12, 79, 79]         0          False     \n",
       "______________________________________________________________________\n",
       "Linear               [79, 768]            590,592    False     \n",
       "______________________________________________________________________\n",
       "LayerNorm            [79, 768]            1,536      False     \n",
       "______________________________________________________________________\n",
       "Dropout              [79, 768]            0          False     \n",
       "______________________________________________________________________\n",
       "Linear               [79, 3072]           2,362,368  False     \n",
       "______________________________________________________________________\n",
       "Linear               [79, 768]            2,360,064  False     \n",
       "______________________________________________________________________\n",
       "LayerNorm            [79, 768]            1,536      False     \n",
       "______________________________________________________________________\n",
       "Dropout              [79, 768]            0          False     \n",
       "______________________________________________________________________\n",
       "Linear               [768]                590,592    True      \n",
       "______________________________________________________________________\n",
       "Tanh                 [768]                0          False     \n",
       "______________________________________________________________________\n",
       "Linear               [768]                590,592    True      \n",
       "______________________________________________________________________\n",
       "Dropout              [768]                0          False     \n",
       "______________________________________________________________________\n",
       "Linear               [5]                  3,845      True      \n",
       "______________________________________________________________________\n",
       "\n",
       "Total params: 125,240,069\n",
       "Total trainable params: 1,185,029\n",
       "Total non-trainable params: 124,055,040\n",
       "Optimized with 'transformers.optimization.AdamW', correct_bias=False\n",
       "Using true weight decay as discussed in https://www.fast.ai/2018/07/02/adam-weight-decay/ \n",
       "Loss function : FlattenedLoss\n",
       "======================================================================\n",
       "Callbacks functions applied \n",
       "    ShowGraph"
      ]
     },
     "execution_count": 31,
     "metadata": {},
     "output_type": "execute_result"
    }
   ],
   "source": [
    "# let's check which layer is trainable\n",
    "learner.summary()"
   ]
  },
  {
   "cell_type": "code",
   "execution_count": 32,
   "metadata": {
    "ExecuteTime": {
     "end_time": "2020-10-24T16:04:22.084033Z",
     "start_time": "2020-10-24T16:04:14.886401Z"
    }
   },
   "outputs": [
    {
     "data": {
      "text/html": [
       "\n",
       "    <div>\n",
       "        <style>\n",
       "            /* Turns off some styling */\n",
       "            progress {\n",
       "                /* gets rid of default border in Firefox and Opera. */\n",
       "                border: none;\n",
       "                /* Needs to be in here for Safari polyfill so background images work as expected. */\n",
       "                background-size: auto;\n",
       "            }\n",
       "            .progress-bar-interrupted, .progress-bar-interrupted::-webkit-progress-bar {\n",
       "                background: #F44336;\n",
       "            }\n",
       "        </style>\n",
       "      <progress value='0' class='' max='1' style='width:300px; height:20px; vertical-align: middle;'></progress>\n",
       "      0.00% [0/1 00:00<00:00]\n",
       "    </div>\n",
       "    \n",
       "<table border=\"1\" class=\"dataframe\">\n",
       "  <thead>\n",
       "    <tr style=\"text-align: left;\">\n",
       "      <th>epoch</th>\n",
       "      <th>train_loss</th>\n",
       "      <th>valid_loss</th>\n",
       "      <th>accuracy</th>\n",
       "      <th>error_rate</th>\n",
       "      <th>time</th>\n",
       "    </tr>\n",
       "  </thead>\n",
       "  <tbody>\n",
       "  </tbody>\n",
       "</table><p>\n",
       "\n",
       "    <div>\n",
       "        <style>\n",
       "            /* Turns off some styling */\n",
       "            progress {\n",
       "                /* gets rid of default border in Firefox and Opera. */\n",
       "                border: none;\n",
       "                /* Needs to be in here for Safari polyfill so background images work as expected. */\n",
       "                background-size: auto;\n",
       "            }\n",
       "            .progress-bar-interrupted, .progress-bar-interrupted::-webkit-progress-bar {\n",
       "                background: #F44336;\n",
       "            }\n",
       "        </style>\n",
       "      <progress value='71' class='' max='8778' style='width:300px; height:20px; vertical-align: middle;'></progress>\n",
       "      0.81% [71/8778 00:05<12:01 5.1465]\n",
       "    </div>\n",
       "    "
      ],
      "text/plain": [
       "<IPython.core.display.HTML object>"
      ]
     },
     "metadata": {},
     "output_type": "display_data"
    },
    {
     "name": "stdout",
     "output_type": "stream",
     "text": [
      "LR Finder is complete, type {learner_name}.recorder.plot() to see the graph.\n"
     ]
    }
   ],
   "source": [
    "learner.lr_find()"
   ]
  },
  {
   "cell_type": "code",
   "execution_count": 33,
   "metadata": {
    "ExecuteTime": {
     "end_time": "2020-10-24T16:04:28.244822Z",
     "start_time": "2020-10-24T16:04:27.749256Z"
    }
   },
   "outputs": [
    {
     "name": "stdout",
     "output_type": "stream",
     "text": [
      "Min numerical gradient: 9.12E-05\n",
      "Min loss divided by 10: 4.37E-04\n"
     ]
    },
    {
     "data": {
      "image/png": "[encoded data removed]",
      "text/plain": [
       "<Figure size 432x288 with 1 Axes>"
      ]
     },
     "metadata": {
      "needs_background": "light"
     },
     "output_type": "display_data"
    }
   ],
   "source": [
    "learner.recorder.plot(skip_end=10,suggestion=True)"
   ]
  },
  {
   "cell_type": "code",
   "execution_count": 34,
   "metadata": {
    "ExecuteTime": {
     "end_time": "2020-10-24T16:09:41.735257Z",
     "start_time": "2020-10-24T16:05:22.156165Z"
    }
   },
   "outputs": [
    {
     "data": {
      "text/html": [
       "<table border=\"1\" class=\"dataframe\">\n",
       "  <thead>\n",
       "    <tr style=\"text-align: left;\">\n",
       "      <th>epoch</th>\n",
       "      <th>train_loss</th>\n",
       "      <th>valid_loss</th>\n",
       "      <th>accuracy</th>\n",
       "      <th>error_rate</th>\n",
       "      <th>time</th>\n",
       "    </tr>\n",
       "  </thead>\n",
       "  <tbody>\n",
       "    <tr>\n",
       "      <td>0</td>\n",
       "      <td>1.013601</td>\n",
       "      <td>0.987246</td>\n",
       "      <td>0.598872</td>\n",
       "      <td>0.401128</td>\n",
       "      <td>04:19</td>\n",
       "    </tr>\n",
       "  </tbody>\n",
       "</table>"
      ],
      "text/plain": [
       "<IPython.core.display.HTML object>"
      ]
     },
     "metadata": {},
     "output_type": "display_data"
    },
    {
     "data": {
      "image/png": "[encoded data removed]",
      "text/plain": [
       "<Figure size 432x288 with 1 Axes>"
      ]
     },
     "metadata": {},
     "output_type": "display_data"
    }
   ],
   "source": [
    "learner.fit_one_cycle(1,max_lr=2e-03,moms=(0.8,0.7))"
   ]
  },
  {
   "cell_type": "code",
   "execution_count": 35,
   "metadata": {
    "ExecuteTime": {
     "end_time": "2020-10-24T16:14:35.409954Z",
     "start_time": "2020-10-24T16:14:34.492734Z"
    }
   },
   "outputs": [],
   "source": [
    "learner.save('first_cycle')"
   ]
  },
  {
   "cell_type": "code",
   "execution_count": 36,
   "metadata": {
    "ExecuteTime": {
     "end_time": "2020-10-24T16:14:35.764790Z",
     "start_time": "2020-10-24T16:14:35.411806Z"
    }
   },
   "outputs": [],
   "source": [
    "seed_all(seed)\n",
    "learner.load('first_cycle');"
   ]
  },
  {
   "cell_type": "code",
   "execution_count": 37,
   "metadata": {
    "ExecuteTime": {
     "end_time": "2020-10-24T16:14:35.858070Z",
     "start_time": "2020-10-24T16:14:35.847303Z"
    }
   },
   "outputs": [],
   "source": [
    "# We then unfreeze the second group of layers and repeat the operations.\n",
    "\n",
    "learner.freeze_to(-2)"
   ]
  },
  {
   "cell_type": "code",
   "execution_count": 38,
   "metadata": {
    "ExecuteTime": {
     "end_time": "2020-10-24T16:14:36.165941Z",
     "start_time": "2020-10-24T16:14:36.163609Z"
    }
   },
   "outputs": [],
   "source": [
    "lr = 1e-5"
   ]
  },
  {
   "cell_type": "code",
   "execution_count": 39,
   "metadata": {
    "ExecuteTime": {
     "end_time": "2020-10-24T16:20:47.580234Z",
     "start_time": "2020-10-24T16:14:36.508091Z"
    }
   },
   "outputs": [
    {
     "data": {
      "text/html": [
       "<table border=\"1\" class=\"dataframe\">\n",
       "  <thead>\n",
       "    <tr style=\"text-align: left;\">\n",
       "      <th>epoch</th>\n",
       "      <th>train_loss</th>\n",
       "      <th>valid_loss</th>\n",
       "      <th>accuracy</th>\n",
       "      <th>error_rate</th>\n",
       "      <th>time</th>\n",
       "    </tr>\n",
       "  </thead>\n",
       "  <tbody>\n",
       "    <tr>\n",
       "      <td>0</td>\n",
       "      <td>0.928454</td>\n",
       "      <td>0.902701</td>\n",
       "      <td>0.636422</td>\n",
       "      <td>0.363578</td>\n",
       "      <td>06:10</td>\n",
       "    </tr>\n",
       "  </tbody>\n",
       "</table>"
      ],
      "text/plain": [
       "<IPython.core.display.HTML object>"
      ]
     },
     "metadata": {},
     "output_type": "display_data"
    },
    {
     "name": "stderr",
     "output_type": "stream",
     "text": [
      "/home/jacek/workspace/interactive_dashboard/env/lib/python3.6/site-packages/numpy/core/_asarray.py:83: VisibleDeprecationWarning: Creating an ndarray from ragged nested sequences (which is a list-or-tuple of lists-or-tuples-or ndarrays with different lengths or shapes) is deprecated. If you meant to do this, you must specify 'dtype=object' when creating the ndarray\n",
      "  return array(a, dtype, copy=False, order=order)\n",
      "<string>:6: VisibleDeprecationWarning: Creating an ndarray from ragged nested sequences (which is a list-or-tuple of lists-or-tuples-or ndarrays with different lengths or shapes) is deprecated. If you meant to do this, you must specify 'dtype=object' when creating the ndarray\n"
     ]
    },
    {
     "data": {
      "image/png": "[encoded data removed]",
      "text/plain": [
       "<Figure size 432x288 with 1 Axes>"
      ]
     },
     "metadata": {},
     "output_type": "display_data"
    }
   ],
   "source": [
    "# Note here that we use slice to create separate learning rate for each group.\n",
    "\n",
    "learner.fit_one_cycle(1, max_lr=slice(lr*0.95**num_groups, lr), moms=(0.8, 0.9))"
   ]
  },
  {
   "cell_type": "code",
   "execution_count": 40,
   "metadata": {
    "ExecuteTime": {
     "end_time": "2020-10-24T16:36:35.562499Z",
     "start_time": "2020-10-24T16:36:34.522079Z"
    }
   },
   "outputs": [],
   "source": [
    "learner.save('second_cycle')"
   ]
  },
  {
   "cell_type": "code",
   "execution_count": 41,
   "metadata": {
    "ExecuteTime": {
     "end_time": "2020-10-24T16:36:44.163154Z",
     "start_time": "2020-10-24T16:36:43.794015Z"
    }
   },
   "outputs": [],
   "source": [
    "seed_all(seed)\n",
    "learner.load('second_cycle');"
   ]
  },
  {
   "cell_type": "code",
   "execution_count": 42,
   "metadata": {
    "ExecuteTime": {
     "end_time": "2020-10-24T16:36:59.731738Z",
     "start_time": "2020-10-24T16:36:59.727229Z"
    }
   },
   "outputs": [],
   "source": [
    "learner.freeze_to(-3)"
   ]
  },
  {
   "cell_type": "code",
   "execution_count": 43,
   "metadata": {
    "ExecuteTime": {
     "end_time": "2020-10-24T16:44:42.147380Z",
     "start_time": "2020-10-24T16:37:07.516193Z"
    }
   },
   "outputs": [
    {
     "data": {
      "text/html": [
       "<table border=\"1\" class=\"dataframe\">\n",
       "  <thead>\n",
       "    <tr style=\"text-align: left;\">\n",
       "      <th>epoch</th>\n",
       "      <th>train_loss</th>\n",
       "      <th>valid_loss</th>\n",
       "      <th>accuracy</th>\n",
       "      <th>error_rate</th>\n",
       "      <th>time</th>\n",
       "    </tr>\n",
       "  </thead>\n",
       "  <tbody>\n",
       "    <tr>\n",
       "      <td>0</td>\n",
       "      <td>0.886754</td>\n",
       "      <td>0.870655</td>\n",
       "      <td>0.645713</td>\n",
       "      <td>0.354287</td>\n",
       "      <td>07:34</td>\n",
       "    </tr>\n",
       "  </tbody>\n",
       "</table>"
      ],
      "text/plain": [
       "<IPython.core.display.HTML object>"
      ]
     },
     "metadata": {},
     "output_type": "display_data"
    },
    {
     "name": "stderr",
     "output_type": "stream",
     "text": [
      "/home/jacek/workspace/interactive_dashboard/env/lib/python3.6/site-packages/numpy/core/_asarray.py:83: VisibleDeprecationWarning: Creating an ndarray from ragged nested sequences (which is a list-or-tuple of lists-or-tuples-or ndarrays with different lengths or shapes) is deprecated. If you meant to do this, you must specify 'dtype=object' when creating the ndarray\n",
      "  return array(a, dtype, copy=False, order=order)\n",
      "<string>:6: VisibleDeprecationWarning: Creating an ndarray from ragged nested sequences (which is a list-or-tuple of lists-or-tuples-or ndarrays with different lengths or shapes) is deprecated. If you meant to do this, you must specify 'dtype=object' when creating the ndarray\n"
     ]
    },
    {
     "data": {
      "image/png": "[encoded data removed]",
      "text/plain": [
       "<Figure size 432x288 with 1 Axes>"
      ]
     },
     "metadata": {},
     "output_type": "display_data"
    }
   ],
   "source": [
    "learner.fit_one_cycle(1, max_lr=slice(lr*0.95**num_groups, lr), moms=(0.8, 0.9))\n"
   ]
  },
  {
   "cell_type": "code",
   "execution_count": 44,
   "metadata": {
    "ExecuteTime": {
     "end_time": "2020-10-24T16:44:43.283768Z",
     "start_time": "2020-10-24T16:44:42.149075Z"
    }
   },
   "outputs": [],
   "source": [
    "learner.save('third_cycle')\n"
   ]
  },
  {
   "cell_type": "code",
   "execution_count": 45,
   "metadata": {
    "ExecuteTime": {
     "end_time": "2020-10-24T16:44:43.672149Z",
     "start_time": "2020-10-24T16:44:43.285770Z"
    }
   },
   "outputs": [],
   "source": [
    "seed_all(seed)\n",
    "learner.load('third_cycle');"
   ]
  },
  {
   "cell_type": "code",
   "execution_count": 46,
   "metadata": {
    "ExecuteTime": {
     "end_time": "2020-10-24T16:44:43.680931Z",
     "start_time": "2020-10-24T16:44:43.674745Z"
    }
   },
   "outputs": [],
   "source": [
    "learner.unfreeze()\n"
   ]
  },
  {
   "cell_type": "code",
   "execution_count": 47,
   "metadata": {
    "ExecuteTime": {
     "end_time": "2020-10-24T17:36:42.880659Z",
     "start_time": "2020-10-24T16:44:43.682593Z"
    }
   },
   "outputs": [
    {
     "data": {
      "text/html": [
       "<table border=\"1\" class=\"dataframe\">\n",
       "  <thead>\n",
       "    <tr style=\"text-align: left;\">\n",
       "      <th>epoch</th>\n",
       "      <th>train_loss</th>\n",
       "      <th>valid_loss</th>\n",
       "      <th>accuracy</th>\n",
       "      <th>error_rate</th>\n",
       "      <th>time</th>\n",
       "    </tr>\n",
       "  </thead>\n",
       "  <tbody>\n",
       "    <tr>\n",
       "      <td>0</td>\n",
       "      <td>0.702029</td>\n",
       "      <td>0.712857</td>\n",
       "      <td>0.701397</td>\n",
       "      <td>0.298603</td>\n",
       "      <td>26:39</td>\n",
       "    </tr>\n",
       "    <tr>\n",
       "      <td>1</td>\n",
       "      <td>0.659837</td>\n",
       "      <td>0.696976</td>\n",
       "      <td>0.710176</td>\n",
       "      <td>0.289824</td>\n",
       "      <td>25:19</td>\n",
       "    </tr>\n",
       "  </tbody>\n",
       "</table>"
      ],
      "text/plain": [
       "<IPython.core.display.HTML object>"
      ]
     },
     "metadata": {},
     "output_type": "display_data"
    },
    {
     "name": "stderr",
     "output_type": "stream",
     "text": [
      "/home/jacek/workspace/interactive_dashboard/env/lib/python3.6/site-packages/numpy/core/_asarray.py:83: VisibleDeprecationWarning: Creating an ndarray from ragged nested sequences (which is a list-or-tuple of lists-or-tuples-or ndarrays with different lengths or shapes) is deprecated. If you meant to do this, you must specify 'dtype=object' when creating the ndarray\n",
      "  return array(a, dtype, copy=False, order=order)\n",
      "<string>:6: VisibleDeprecationWarning: Creating an ndarray from ragged nested sequences (which is a list-or-tuple of lists-or-tuples-or ndarrays with different lengths or shapes) is deprecated. If you meant to do this, you must specify 'dtype=object' when creating the ndarray\n"
     ]
    },
    {
     "data": {
      "image/png": "[encoded data removed]",
      "text/plain": [
       "<Figure size 432x288 with 1 Axes>"
      ]
     },
     "metadata": {},
     "output_type": "display_data"
    },
    {
     "name": "stderr",
     "output_type": "stream",
     "text": [
      "/home/jacek/workspace/interactive_dashboard/env/lib/python3.6/site-packages/numpy/core/_asarray.py:83: VisibleDeprecationWarning: Creating an ndarray from ragged nested sequences (which is a list-or-tuple of lists-or-tuples-or ndarrays with different lengths or shapes) is deprecated. If you meant to do this, you must specify 'dtype=object' when creating the ndarray\n",
      "  return array(a, dtype, copy=False, order=order)\n",
      "<string>:6: VisibleDeprecationWarning: Creating an ndarray from ragged nested sequences (which is a list-or-tuple of lists-or-tuples-or ndarrays with different lengths or shapes) is deprecated. If you meant to do this, you must specify 'dtype=object' when creating the ndarray\n"
     ]
    }
   ],
   "source": [
    "learner.fit_one_cycle(2, max_lr=slice(lr*0.95**num_groups, lr), moms=(0.8, 0.9))\n"
   ]
  },
  {
   "cell_type": "code",
   "execution_count": 50,
   "metadata": {
    "ExecuteTime": {
     "end_time": "2020-10-24T18:14:21.680648Z",
     "start_time": "2020-10-24T18:14:20.371814Z"
    }
   },
   "outputs": [],
   "source": [
    "learner.export(file = 'transformer.pkl');"
   ]
  },
  {
   "cell_type": "code",
   "execution_count": 21,
   "metadata": {
    "ExecuteTime": {
     "end_time": "2020-11-09T15:56:04.605620Z",
     "start_time": "2020-11-09T15:55:38.420642Z"
    },
    "scrolled": true
   },
   "outputs": [
    {
     "data": {
      "text/html": [],
      "text/plain": [
       "<IPython.core.display.HTML object>"
      ]
     },
     "metadata": {},
     "output_type": "display_data"
    },
    {
     "data": {
      "text/html": [],
      "text/plain": [
       "<IPython.core.display.HTML object>"
      ]
     },
     "metadata": {},
     "output_type": "display_data"
    }
   ],
   "source": [
    "path = ''\n",
    "export_learner = load_learner(path, file = 'transformer.pkl')\n"
   ]
  },
  {
   "cell_type": "code",
   "execution_count": 22,
   "metadata": {
    "ExecuteTime": {
     "end_time": "2020-11-09T15:56:18.283125Z",
     "start_time": "2020-11-09T15:56:04.607268Z"
    }
   },
   "outputs": [],
   "source": [
    "anime_reviews_df = pd.read_csv('data/anime_reviews/reviews.csv')"
   ]
  },
  {
   "cell_type": "code",
   "execution_count": 23,
   "metadata": {
    "ExecuteTime": {
     "end_time": "2020-11-09T15:56:18.296992Z",
     "start_time": "2020-11-09T15:56:18.285197Z"
    }
   },
   "outputs": [
    {
     "data": {
      "text/html": [
       "<div>\n",
       "<style scoped>\n",
       "    .dataframe tbody tr th:only-of-type {\n",
       "        vertical-align: middle;\n",
       "    }\n",
       "\n",
       "    .dataframe tbody tr th {\n",
       "        vertical-align: top;\n",
       "    }\n",
       "\n",
       "    .dataframe thead th {\n",
       "        text-align: right;\n",
       "    }\n",
       "</style>\n",
       "<table border=\"1\" class=\"dataframe\">\n",
       "  <thead>\n",
       "    <tr style=\"text-align: right;\">\n",
       "      <th></th>\n",
       "      <th>uid</th>\n",
       "      <th>profile</th>\n",
       "      <th>anime_uid</th>\n",
       "      <th>text</th>\n",
       "      <th>score</th>\n",
       "      <th>scores</th>\n",
       "      <th>link</th>\n",
       "    </tr>\n",
       "  </thead>\n",
       "  <tbody>\n",
       "    <tr>\n",
       "      <th>0</th>\n",
       "      <td>255938</td>\n",
       "      <td>DesolatePsyche</td>\n",
       "      <td>34096</td>\n",
       "      <td>\\n           \\n         \\n           \\n       ...</td>\n",
       "      <td>8</td>\n",
       "      <td>{'Overall': '8', 'Story': '8', 'Animation': '8...</td>\n",
       "      <td>https://myanimelist.net/reviews.php?id=255938</td>\n",
       "    </tr>\n",
       "    <tr>\n",
       "      <th>1</th>\n",
       "      <td>259117</td>\n",
       "      <td>baekbeans</td>\n",
       "      <td>34599</td>\n",
       "      <td>\\n           \\n         \\n           \\n       ...</td>\n",
       "      <td>10</td>\n",
       "      <td>{'Overall': '10', 'Story': '10', 'Animation': ...</td>\n",
       "      <td>https://myanimelist.net/reviews.php?id=259117</td>\n",
       "    </tr>\n",
       "  </tbody>\n",
       "</table>\n",
       "</div>"
      ],
      "text/plain": [
       "      uid         profile  anime_uid  \\\n",
       "0  255938  DesolatePsyche      34096   \n",
       "1  259117       baekbeans      34599   \n",
       "\n",
       "                                                text  score  \\\n",
       "0  \\n           \\n         \\n           \\n       ...      8   \n",
       "1  \\n           \\n         \\n           \\n       ...     10   \n",
       "\n",
       "                                              scores  \\\n",
       "0  {'Overall': '8', 'Story': '8', 'Animation': '8...   \n",
       "1  {'Overall': '10', 'Story': '10', 'Animation': ...   \n",
       "\n",
       "                                            link  \n",
       "0  https://myanimelist.net/reviews.php?id=255938  \n",
       "1  https://myanimelist.net/reviews.php?id=259117  "
      ]
     },
     "execution_count": 23,
     "metadata": {},
     "output_type": "execute_result"
    }
   ],
   "source": [
    "anime_reviews_df.head(2)"
   ]
  },
  {
   "cell_type": "code",
   "execution_count": 40,
   "metadata": {
    "ExecuteTime": {
     "end_time": "2020-11-09T16:08:44.527814Z",
     "start_time": "2020-11-09T16:08:44.495266Z"
    }
   },
   "outputs": [
    {
     "data": {
      "text/html": [
       "<div>\n",
       "<style scoped>\n",
       "    .dataframe tbody tr th:only-of-type {\n",
       "        vertical-align: middle;\n",
       "    }\n",
       "\n",
       "    .dataframe tbody tr th {\n",
       "        vertical-align: top;\n",
       "    }\n",
       "\n",
       "    .dataframe thead th {\n",
       "        text-align: right;\n",
       "    }\n",
       "</style>\n",
       "<table border=\"1\" class=\"dataframe\">\n",
       "  <thead>\n",
       "    <tr style=\"text-align: right;\">\n",
       "      <th></th>\n",
       "      <th>uid</th>\n",
       "      <th>profile</th>\n",
       "      <th>anime_uid</th>\n",
       "      <th>text</th>\n",
       "      <th>score</th>\n",
       "      <th>scores</th>\n",
       "      <th>link</th>\n",
       "    </tr>\n",
       "  </thead>\n",
       "  <tbody>\n",
       "    <tr>\n",
       "      <th>1</th>\n",
       "      <td>259117</td>\n",
       "      <td>baekbeans</td>\n",
       "      <td>34599</td>\n",
       "      <td>\\n           \\n         \\n           \\n       ...</td>\n",
       "      <td>10</td>\n",
       "      <td>{'Overall': '10', 'Story': '10', 'Animation': ...</td>\n",
       "      <td>https://myanimelist.net/reviews.php?id=259117</td>\n",
       "    </tr>\n",
       "    <tr>\n",
       "      <th>4</th>\n",
       "      <td>291149</td>\n",
       "      <td>aManOfCulture99</td>\n",
       "      <td>4181</td>\n",
       "      <td>\\n           \\n         \\n           \\n       ...</td>\n",
       "      <td>10</td>\n",
       "      <td>{'Overall': '10', 'Story': '10', 'Animation': ...</td>\n",
       "      <td>https://myanimelist.net/reviews.php?id=291149</td>\n",
       "    </tr>\n",
       "    <tr>\n",
       "      <th>5</th>\n",
       "      <td>10046</td>\n",
       "      <td>eneri</td>\n",
       "      <td>2904</td>\n",
       "      <td>\\n           \\n         \\n           \\n       ...</td>\n",
       "      <td>10</td>\n",
       "      <td>{'Overall': '10', 'Story': '9', 'Animation': '...</td>\n",
       "      <td>https://myanimelist.net/reviews.php?id=10046</td>\n",
       "    </tr>\n",
       "    <tr>\n",
       "      <th>8</th>\n",
       "      <td>23791</td>\n",
       "      <td>jchang</td>\n",
       "      <td>2904</td>\n",
       "      <td>\\n           \\n         \\n           \\n       ...</td>\n",
       "      <td>10</td>\n",
       "      <td>{'Overall': '10', 'Story': '10', 'Animation': ...</td>\n",
       "      <td>https://myanimelist.net/reviews.php?id=23791</td>\n",
       "    </tr>\n",
       "    <tr>\n",
       "      <th>12</th>\n",
       "      <td>181043</td>\n",
       "      <td>Kiethol</td>\n",
       "      <td>4181</td>\n",
       "      <td>\\n           \\n         \\n           \\n       ...</td>\n",
       "      <td>10</td>\n",
       "      <td>{'Overall': '10', 'Story': '10', 'Animation': ...</td>\n",
       "      <td>https://myanimelist.net/reviews.php?id=181043</td>\n",
       "    </tr>\n",
       "    <tr>\n",
       "      <th>...</th>\n",
       "      <td>...</td>\n",
       "      <td>...</td>\n",
       "      <td>...</td>\n",
       "      <td>...</td>\n",
       "      <td>...</td>\n",
       "      <td>...</td>\n",
       "      <td>...</td>\n",
       "    </tr>\n",
       "    <tr>\n",
       "      <th>192063</th>\n",
       "      <td>281248</td>\n",
       "      <td>Eaglenix11940</td>\n",
       "      <td>123</td>\n",
       "      <td>\\n           \\n         \\n           \\n       ...</td>\n",
       "      <td>10</td>\n",
       "      <td>{'Overall': '10', 'Story': '9', 'Animation': '...</td>\n",
       "      <td>https://myanimelist.net/reviews.php?id=281248</td>\n",
       "    </tr>\n",
       "    <tr>\n",
       "      <th>192067</th>\n",
       "      <td>16750</td>\n",
       "      <td>lyza</td>\n",
       "      <td>123</td>\n",
       "      <td>\\n           \\n         \\n           \\n       ...</td>\n",
       "      <td>10</td>\n",
       "      <td>{'Overall': '10', 'Story': '9', 'Animation': '...</td>\n",
       "      <td>https://myanimelist.net/reviews.php?id=16750</td>\n",
       "    </tr>\n",
       "    <tr>\n",
       "      <th>192076</th>\n",
       "      <td>391</td>\n",
       "      <td>jet2r0cks</td>\n",
       "      <td>123</td>\n",
       "      <td>\\n           \\n         \\n           \\n       ...</td>\n",
       "      <td>10</td>\n",
       "      <td>{'Overall': '10', 'Story': '8', 'Animation': '...</td>\n",
       "      <td>https://myanimelist.net/reviews.php?id=391</td>\n",
       "    </tr>\n",
       "    <tr>\n",
       "      <th>192094</th>\n",
       "      <td>265563</td>\n",
       "      <td>Blacksept69</td>\n",
       "      <td>1281</td>\n",
       "      <td>\\n           \\n         \\n           \\n       ...</td>\n",
       "      <td>10</td>\n",
       "      <td>{'Overall': '10', 'Story': '10', 'Animation': ...</td>\n",
       "      <td>https://myanimelist.net/reviews.php?id=265563</td>\n",
       "    </tr>\n",
       "    <tr>\n",
       "      <th>192110</th>\n",
       "      <td>287903</td>\n",
       "      <td>AgentK300</td>\n",
       "      <td>1281</td>\n",
       "      <td>\\n           \\n         \\n           \\n       ...</td>\n",
       "      <td>10</td>\n",
       "      <td>{'Overall': '10', 'Story': '3', 'Animation': '...</td>\n",
       "      <td>https://myanimelist.net/reviews.php?id=287903</td>\n",
       "    </tr>\n",
       "  </tbody>\n",
       "</table>\n",
       "<p>42008 rows × 7 columns</p>\n",
       "</div>"
      ],
      "text/plain": [
       "           uid          profile  anime_uid  \\\n",
       "1       259117        baekbeans      34599   \n",
       "4       291149  aManOfCulture99       4181   \n",
       "5        10046            eneri       2904   \n",
       "8        23791           jchang       2904   \n",
       "12      181043          Kiethol       4181   \n",
       "...        ...              ...        ...   \n",
       "192063  281248    Eaglenix11940        123   \n",
       "192067   16750             lyza        123   \n",
       "192076     391        jet2r0cks        123   \n",
       "192094  265563      Blacksept69       1281   \n",
       "192110  287903        AgentK300       1281   \n",
       "\n",
       "                                                     text  score  \\\n",
       "1       \\n           \\n         \\n           \\n       ...     10   \n",
       "4       \\n           \\n         \\n           \\n       ...     10   \n",
       "5       \\n           \\n         \\n           \\n       ...     10   \n",
       "8       \\n           \\n         \\n           \\n       ...     10   \n",
       "12      \\n           \\n         \\n           \\n       ...     10   \n",
       "...                                                   ...    ...   \n",
       "192063  \\n           \\n         \\n           \\n       ...     10   \n",
       "192067  \\n           \\n         \\n           \\n       ...     10   \n",
       "192076  \\n           \\n         \\n           \\n       ...     10   \n",
       "192094  \\n           \\n         \\n           \\n       ...     10   \n",
       "192110  \\n           \\n         \\n           \\n       ...     10   \n",
       "\n",
       "                                                   scores  \\\n",
       "1       {'Overall': '10', 'Story': '10', 'Animation': ...   \n",
       "4       {'Overall': '10', 'Story': '10', 'Animation': ...   \n",
       "5       {'Overall': '10', 'Story': '9', 'Animation': '...   \n",
       "8       {'Overall': '10', 'Story': '10', 'Animation': ...   \n",
       "12      {'Overall': '10', 'Story': '10', 'Animation': ...   \n",
       "...                                                   ...   \n",
       "192063  {'Overall': '10', 'Story': '9', 'Animation': '...   \n",
       "192067  {'Overall': '10', 'Story': '9', 'Animation': '...   \n",
       "192076  {'Overall': '10', 'Story': '8', 'Animation': '...   \n",
       "192094  {'Overall': '10', 'Story': '10', 'Animation': ...   \n",
       "192110  {'Overall': '10', 'Story': '3', 'Animation': '...   \n",
       "\n",
       "                                                 link  \n",
       "1       https://myanimelist.net/reviews.php?id=259117  \n",
       "4       https://myanimelist.net/reviews.php?id=291149  \n",
       "5        https://myanimelist.net/reviews.php?id=10046  \n",
       "8        https://myanimelist.net/reviews.php?id=23791  \n",
       "12      https://myanimelist.net/reviews.php?id=181043  \n",
       "...                                               ...  \n",
       "192063  https://myanimelist.net/reviews.php?id=281248  \n",
       "192067   https://myanimelist.net/reviews.php?id=16750  \n",
       "192076     https://myanimelist.net/reviews.php?id=391  \n",
       "192094  https://myanimelist.net/reviews.php?id=265563  \n",
       "192110  https://myanimelist.net/reviews.php?id=287903  \n",
       "\n",
       "[42008 rows x 7 columns]"
      ]
     },
     "execution_count": 40,
     "metadata": {},
     "output_type": "execute_result"
    }
   ],
   "source": [
    "anime_reviews_df[anime_reviews_df.score>9]"
   ]
  },
  {
   "cell_type": "code",
   "execution_count": 41,
   "metadata": {
    "ExecuteTime": {
     "end_time": "2020-11-09T16:09:01.268730Z",
     "start_time": "2020-11-09T16:09:01.265101Z"
    }
   },
   "outputs": [
    {
     "name": "stdout",
     "output_type": "stream",
     "text": [
      "\n",
      "           \n",
      "         \n",
      "           \n",
      "             \n",
      "           \n",
      "         \n",
      "         \n",
      "           more pics \n",
      "         \n",
      "       \n",
      "         \n",
      "       \n",
      "         \n",
      "           Overall \n",
      "           10 \n",
      "         \n",
      "         \n",
      "           Story \n",
      "           10 \n",
      "         \n",
      "                   \n",
      "             Animation \n",
      "             8 \n",
      "           \n",
      "           \n",
      "             Sound \n",
      "             9 \n",
      "           \n",
      "                 \n",
      "           Character \n",
      "           9 \n",
      "         \n",
      "         \n",
      "           Enjoyment \n",
      "           10 \n",
      "         \n",
      "       \n",
      "     \n",
      "\n",
      "                    \n",
      "    To begin with Clannad is a very peculiar anime from the usual stuff i watch. The closest being Spice & Wolf as the two belong to the ‘slice of life’ genre. This is exactly what Clannad is as we follow the life of a High School Senior in Japan who just doesn’t know what he is doing with his life. On the most superficial level Clannad seems little more than a frilly series about finding love and all the stereotypes that are associated with that. To anyone who has watched the series though they will rapidly come to know that this is so far from the truth. What Clannad does so well is bring these characters, their lives, their struggles and their pains to life to the point where I felt like i was going through it with them. One by one we get a peak into the interworkings of peoples lives from the strange to the heartbreaking as everyone tries to be in it together. After all this and the typical High School anime setting the show takes a surprising turn with Clannad: After Story, which is very much dealing with what happens after ‘Happily Ever After’. This is where the struggle of finding yourself in the world and becoming one with society comes to the fore along with the struggle of holding on to what you love and the inevitable compromises that come with growing up. Clannad is a love story, and so is Clannad: After Story, but After Story is very much life as we all know it, with the good times, the bad times and everything that comes in between as we try to go through each and every day. This isn’t a show about heroes or leaders of men, but people. With Clannad i laughed, i teared up and outright sobbed with these characters to the point where i was screaming at my computer that \"It isn’t fair”. Then again life is rarely fair and makes those happy moments all the more precious. Clannad in so many ways just made me feel human like little else ever has. 10/10.\n",
      "\n",
      "          \n",
      " \n",
      "       Helpful \n",
      "   \n",
      "      \n"
     ]
    }
   ],
   "source": [
    "print(anime_reviews_df.loc[12].text)"
   ]
  },
  {
   "cell_type": "code",
   "execution_count": 24,
   "metadata": {
    "ExecuteTime": {
     "end_time": "2020-11-09T15:56:18.393218Z",
     "start_time": "2020-11-09T15:56:18.298575Z"
    },
    "scrolled": true
   },
   "outputs": [
    {
     "name": "stdout",
     "output_type": "stream",
     "text": [
      "\n",
      "           \n",
      "         \n",
      "           \n",
      "             \n",
      "           \n",
      "         \n",
      "         \n",
      "           more pics \n",
      "         \n",
      "       \n",
      "         \n",
      "       \n",
      "         \n",
      "           Overall \n",
      "           8 \n",
      "         \n",
      "         \n",
      "           Story \n",
      "           6 \n",
      "         \n",
      "                   \n",
      "             Animation \n",
      "             7 \n",
      "           \n",
      "           \n",
      "             Sound \n",
      "             7 \n",
      "           \n",
      "                 \n",
      "           Character \n",
      "           6 \n",
      "         \n",
      "         \n",
      "           Enjoyment \n",
      "           7 \n",
      "         \n",
      "       \n",
      "     \n",
      "\n",
      "                    \n",
      "    This story was… well confusing. The problem was that they had a ‘puppeteer’ who was changing people’s thoughts and memories in order to use it for his own purpose to hack into official’s heads. I won’t lie, I don’t normally understand all that political stuff. The fact that this was so heavy in that made it more of a chore to try and figure stuff out. If I missed something that someone said, to bad, I couldn’t really go back and check it out because I wouldn’t know where to find it again.  \r\n",
      " \r\n",
      "When we get to the characters, the only ones we really get to understand slightly are Batou and Kusanagi. The others just seem like background characters compared to them. Even then, we don’t get much about the two although you can tell that Batou really cares greatly for Kusanagi. When we do get near the end, it does get into a rather interesting and deep. It really dives into physiological problems and aspects to life. It might of still been a rather confusing show but I did enjoy it. \r\n",
      " \r\n",
      "The art style starts out with a lot of CG stuff in the beginning of the show and then going deeper into the normal animation after. I have to say they really took me off guard when they showed the naked body of the major in CG while she was working. Of course then they had to have an opening that expanded on showing a women’s naked body being created through electronic means. There were little scenes where they would do a bit more of the CG and half of it is rather pretty. Some of the characters designs seem a bit off from how they looked in the anime that I had watched part of before, namely the major. Still, the camera angles and some of the ways they showed the world felt very classic to the anime style of the late 1990s.  \r\n",
      " \r\n",
      "Some of the sounds are a bit off and the English voices sometimes don’t match lip movements but the voice actors really tried their best to make such a serious show work. You can tell just how they read their lines that they were trying really hard to keep it interesting but sadly, I keep feeling that they do a whole lot of talking and sometimes not all that much action or just a lot of shooting. When we do get action, its mostly slow movement, looped or over almost as fast as it starts. Now there are also some talks that feel more like a lecture about the problems with the cyber technology and a philosophy of having your own identity. These small parts were the only things that kept my attention as the others talks seemed a bit more complicated and I had no way of understanding the political problems. \r\n",
      "\n",
      "\n",
      "          \n",
      " \n",
      "       Helpful \n",
      "   \n",
      "      \n"
     ]
    }
   ],
   "source": [
    "print(anime_reviews_df.text[10])"
   ]
  },
  {
   "cell_type": "code",
   "execution_count": 26,
   "metadata": {
    "ExecuteTime": {
     "end_time": "2020-10-25T14:32:30.795376Z",
     "start_time": "2020-10-25T14:32:30.713302Z"
    }
   },
   "outputs": [
    {
     "data": {
      "text/plain": [
       "(Category 2, tensor(2), tensor([0.0050, 0.0840, 0.6819, 0.2174, 0.0117]))"
      ]
     },
     "execution_count": 26,
     "metadata": {},
     "output_type": "execute_result"
    }
   ],
   "source": [
    "export_learner.predict(anime_reviews_df.text[0].replace('\\n', ''))"
   ]
  },
  {
   "cell_type": "code",
   "execution_count": 42,
   "metadata": {
    "ExecuteTime": {
     "end_time": "2020-11-09T16:09:22.455868Z",
     "start_time": "2020-11-09T16:09:22.452214Z"
    }
   },
   "outputs": [],
   "source": [
    "input_text_example = \"\"\"To begin with Clannad is a very peculiar anime from the usual stuff i watch. The closest being Spice & Wolf as the two belong to the ‘slice of life’ genre. This is exactly what Clannad is as we follow the life of a High School Senior in Japan who just doesn’t know what he is doing with his life. On the most superficial level Clannad seems little more than a frilly series about finding love and all the stereotypes that are associated with that. To anyone who has watched the series though they will rapidly come to know that this is so far from the truth. What Clannad does so well is bring these characters, their lives, their struggles and their pains to life to the point where I felt like i was going through it with them. One by one we get a peak into the interworkings of peoples lives from the strange to the heartbreaking as everyone tries to be in it together. After all this and the typical High School anime setting the show takes a surprising turn with Clannad: After Story, which is very much dealing with what happens after ‘Happily Ever After’. This is where the struggle of finding yourself in the world and becoming one with society comes to the fore along with the struggle of holding on to what you love and the inevitable compromises that come with growing up. Clannad is a love story, and so is Clannad: After Story, but After Story is very much life as we all know it, with the good times, the bad times and everything that comes in between as we try to go through each and every day. This isn’t a show about heroes or leaders of men, but people. With Clannad i laughed, i teared up and outright sobbed with these characters to the point where i was screaming at my computer that \"It isn’t fair”. Then again life is rarely fair and makes those happy moments all the more precious. Clannad in so many ways just made me feel human like little else ever has.\"\"\""
   ]
  },
  {
   "cell_type": "code",
   "execution_count": 43,
   "metadata": {
    "ExecuteTime": {
     "end_time": "2020-11-09T16:09:23.034106Z",
     "start_time": "2020-11-09T16:09:22.956735Z"
    }
   },
   "outputs": [
    {
     "data": {
      "text/plain": [
       "(Category 3, tensor(3), tensor([0.0016, 0.0371, 0.2809, 0.5807, 0.0997]))"
      ]
     },
     "execution_count": 43,
     "metadata": {},
     "output_type": "execute_result"
    }
   ],
   "source": [
    "export_learner.predict(input_text_example)"
   ]
  },
  {
   "cell_type": "code",
   "execution_count": 29,
   "metadata": {
    "ExecuteTime": {
     "end_time": "2020-11-09T16:02:22.555965Z",
     "start_time": "2020-11-09T16:02:22.544637Z"
    }
   },
   "outputs": [
    {
     "data": {
      "text/plain": [
       "Learner(data=TextClasDataBunch;\n",
       "\n",
       "Train: LabelList (0 items)\n",
       "x: TextList\n",
       "\n",
       "y: CategoryList\n",
       "\n",
       "Path: .;\n",
       "\n",
       "Valid: LabelList (0 items)\n",
       "x: TextList\n",
       "\n",
       "y: CategoryList\n",
       "\n",
       "Path: .;\n",
       "\n",
       "Test: None, model=CustomTransformerModel(\n",
       "  (transformer): RobertaForSequenceClassification(\n",
       "    (roberta): RobertaModel(\n",
       "      (embeddings): RobertaEmbeddings(\n",
       "        (word_embeddings): Embedding(50265, 768, padding_idx=1)\n",
       "        (position_embeddings): Embedding(514, 768, padding_idx=1)\n",
       "        (token_type_embeddings): Embedding(1, 768)\n",
       "        (LayerNorm): LayerNorm((768,), eps=1e-05, elementwise_affine=True)\n",
       "        (dropout): Dropout(p=0.1, inplace=False)\n",
       "      )\n",
       "      (encoder): BertEncoder(\n",
       "        (layer): ModuleList(\n",
       "          (0): BertLayer(\n",
       "            (attention): BertAttention(\n",
       "              (self): BertSelfAttention(\n",
       "                (query): Linear(in_features=768, out_features=768, bias=True)\n",
       "                (key): Linear(in_features=768, out_features=768, bias=True)\n",
       "                (value): Linear(in_features=768, out_features=768, bias=True)\n",
       "                (dropout): Dropout(p=0.1, inplace=False)\n",
       "              )\n",
       "              (output): BertSelfOutput(\n",
       "                (dense): Linear(in_features=768, out_features=768, bias=True)\n",
       "                (LayerNorm): LayerNorm((768,), eps=1e-05, elementwise_affine=True)\n",
       "                (dropout): Dropout(p=0.1, inplace=False)\n",
       "              )\n",
       "            )\n",
       "            (intermediate): BertIntermediate(\n",
       "              (dense): Linear(in_features=768, out_features=3072, bias=True)\n",
       "            )\n",
       "            (output): BertOutput(\n",
       "              (dense): Linear(in_features=3072, out_features=768, bias=True)\n",
       "              (LayerNorm): LayerNorm((768,), eps=1e-05, elementwise_affine=True)\n",
       "              (dropout): Dropout(p=0.1, inplace=False)\n",
       "            )\n",
       "          )\n",
       "          (1): BertLayer(\n",
       "            (attention): BertAttention(\n",
       "              (self): BertSelfAttention(\n",
       "                (query): Linear(in_features=768, out_features=768, bias=True)\n",
       "                (key): Linear(in_features=768, out_features=768, bias=True)\n",
       "                (value): Linear(in_features=768, out_features=768, bias=True)\n",
       "                (dropout): Dropout(p=0.1, inplace=False)\n",
       "              )\n",
       "              (output): BertSelfOutput(\n",
       "                (dense): Linear(in_features=768, out_features=768, bias=True)\n",
       "                (LayerNorm): LayerNorm((768,), eps=1e-05, elementwise_affine=True)\n",
       "                (dropout): Dropout(p=0.1, inplace=False)\n",
       "              )\n",
       "            )\n",
       "            (intermediate): BertIntermediate(\n",
       "              (dense): Linear(in_features=768, out_features=3072, bias=True)\n",
       "            )\n",
       "            (output): BertOutput(\n",
       "              (dense): Linear(in_features=3072, out_features=768, bias=True)\n",
       "              (LayerNorm): LayerNorm((768,), eps=1e-05, elementwise_affine=True)\n",
       "              (dropout): Dropout(p=0.1, inplace=False)\n",
       "            )\n",
       "          )\n",
       "          (2): BertLayer(\n",
       "            (attention): BertAttention(\n",
       "              (self): BertSelfAttention(\n",
       "                (query): Linear(in_features=768, out_features=768, bias=True)\n",
       "                (key): Linear(in_features=768, out_features=768, bias=True)\n",
       "                (value): Linear(in_features=768, out_features=768, bias=True)\n",
       "                (dropout): Dropout(p=0.1, inplace=False)\n",
       "              )\n",
       "              (output): BertSelfOutput(\n",
       "                (dense): Linear(in_features=768, out_features=768, bias=True)\n",
       "                (LayerNorm): LayerNorm((768,), eps=1e-05, elementwise_affine=True)\n",
       "                (dropout): Dropout(p=0.1, inplace=False)\n",
       "              )\n",
       "            )\n",
       "            (intermediate): BertIntermediate(\n",
       "              (dense): Linear(in_features=768, out_features=3072, bias=True)\n",
       "            )\n",
       "            (output): BertOutput(\n",
       "              (dense): Linear(in_features=3072, out_features=768, bias=True)\n",
       "              (LayerNorm): LayerNorm((768,), eps=1e-05, elementwise_affine=True)\n",
       "              (dropout): Dropout(p=0.1, inplace=False)\n",
       "            )\n",
       "          )\n",
       "          (3): BertLayer(\n",
       "            (attention): BertAttention(\n",
       "              (self): BertSelfAttention(\n",
       "                (query): Linear(in_features=768, out_features=768, bias=True)\n",
       "                (key): Linear(in_features=768, out_features=768, bias=True)\n",
       "                (value): Linear(in_features=768, out_features=768, bias=True)\n",
       "                (dropout): Dropout(p=0.1, inplace=False)\n",
       "              )\n",
       "              (output): BertSelfOutput(\n",
       "                (dense): Linear(in_features=768, out_features=768, bias=True)\n",
       "                (LayerNorm): LayerNorm((768,), eps=1e-05, elementwise_affine=True)\n",
       "                (dropout): Dropout(p=0.1, inplace=False)\n",
       "              )\n",
       "            )\n",
       "            (intermediate): BertIntermediate(\n",
       "              (dense): Linear(in_features=768, out_features=3072, bias=True)\n",
       "            )\n",
       "            (output): BertOutput(\n",
       "              (dense): Linear(in_features=3072, out_features=768, bias=True)\n",
       "              (LayerNorm): LayerNorm((768,), eps=1e-05, elementwise_affine=True)\n",
       "              (dropout): Dropout(p=0.1, inplace=False)\n",
       "            )\n",
       "          )\n",
       "          (4): BertLayer(\n",
       "            (attention): BertAttention(\n",
       "              (self): BertSelfAttention(\n",
       "                (query): Linear(in_features=768, out_features=768, bias=True)\n",
       "                (key): Linear(in_features=768, out_features=768, bias=True)\n",
       "                (value): Linear(in_features=768, out_features=768, bias=True)\n",
       "                (dropout): Dropout(p=0.1, inplace=False)\n",
       "              )\n",
       "              (output): BertSelfOutput(\n",
       "                (dense): Linear(in_features=768, out_features=768, bias=True)\n",
       "                (LayerNorm): LayerNorm((768,), eps=1e-05, elementwise_affine=True)\n",
       "                (dropout): Dropout(p=0.1, inplace=False)\n",
       "              )\n",
       "            )\n",
       "            (intermediate): BertIntermediate(\n",
       "              (dense): Linear(in_features=768, out_features=3072, bias=True)\n",
       "            )\n",
       "            (output): BertOutput(\n",
       "              (dense): Linear(in_features=3072, out_features=768, bias=True)\n",
       "              (LayerNorm): LayerNorm((768,), eps=1e-05, elementwise_affine=True)\n",
       "              (dropout): Dropout(p=0.1, inplace=False)\n",
       "            )\n",
       "          )\n",
       "          (5): BertLayer(\n",
       "            (attention): BertAttention(\n",
       "              (self): BertSelfAttention(\n",
       "                (query): Linear(in_features=768, out_features=768, bias=True)\n",
       "                (key): Linear(in_features=768, out_features=768, bias=True)\n",
       "                (value): Linear(in_features=768, out_features=768, bias=True)\n",
       "                (dropout): Dropout(p=0.1, inplace=False)\n",
       "              )\n",
       "              (output): BertSelfOutput(\n",
       "                (dense): Linear(in_features=768, out_features=768, bias=True)\n",
       "                (LayerNorm): LayerNorm((768,), eps=1e-05, elementwise_affine=True)\n",
       "                (dropout): Dropout(p=0.1, inplace=False)\n",
       "              )\n",
       "            )\n",
       "            (intermediate): BertIntermediate(\n",
       "              (dense): Linear(in_features=768, out_features=3072, bias=True)\n",
       "            )\n",
       "            (output): BertOutput(\n",
       "              (dense): Linear(in_features=3072, out_features=768, bias=True)\n",
       "              (LayerNorm): LayerNorm((768,), eps=1e-05, elementwise_affine=True)\n",
       "              (dropout): Dropout(p=0.1, inplace=False)\n",
       "            )\n",
       "          )\n",
       "          (6): BertLayer(\n",
       "            (attention): BertAttention(\n",
       "              (self): BertSelfAttention(\n",
       "                (query): Linear(in_features=768, out_features=768, bias=True)\n",
       "                (key): Linear(in_features=768, out_features=768, bias=True)\n",
       "                (value): Linear(in_features=768, out_features=768, bias=True)\n",
       "                (dropout): Dropout(p=0.1, inplace=False)\n",
       "              )\n",
       "              (output): BertSelfOutput(\n",
       "                (dense): Linear(in_features=768, out_features=768, bias=True)\n",
       "                (LayerNorm): LayerNorm((768,), eps=1e-05, elementwise_affine=True)\n",
       "                (dropout): Dropout(p=0.1, inplace=False)\n",
       "              )\n",
       "            )\n",
       "            (intermediate): BertIntermediate(\n",
       "              (dense): Linear(in_features=768, out_features=3072, bias=True)\n",
       "            )\n",
       "            (output): BertOutput(\n",
       "              (dense): Linear(in_features=3072, out_features=768, bias=True)\n",
       "              (LayerNorm): LayerNorm((768,), eps=1e-05, elementwise_affine=True)\n",
       "              (dropout): Dropout(p=0.1, inplace=False)\n",
       "            )\n",
       "          )\n",
       "          (7): BertLayer(\n",
       "            (attention): BertAttention(\n",
       "              (self): BertSelfAttention(\n",
       "                (query): Linear(in_features=768, out_features=768, bias=True)\n",
       "                (key): Linear(in_features=768, out_features=768, bias=True)\n",
       "                (value): Linear(in_features=768, out_features=768, bias=True)\n",
       "                (dropout): Dropout(p=0.1, inplace=False)\n",
       "              )\n",
       "              (output): BertSelfOutput(\n",
       "                (dense): Linear(in_features=768, out_features=768, bias=True)\n",
       "                (LayerNorm): LayerNorm((768,), eps=1e-05, elementwise_affine=True)\n",
       "                (dropout): Dropout(p=0.1, inplace=False)\n",
       "              )\n",
       "            )\n",
       "            (intermediate): BertIntermediate(\n",
       "              (dense): Linear(in_features=768, out_features=3072, bias=True)\n",
       "            )\n",
       "            (output): BertOutput(\n",
       "              (dense): Linear(in_features=3072, out_features=768, bias=True)\n",
       "              (LayerNorm): LayerNorm((768,), eps=1e-05, elementwise_affine=True)\n",
       "              (dropout): Dropout(p=0.1, inplace=False)\n",
       "            )\n",
       "          )\n",
       "          (8): BertLayer(\n",
       "            (attention): BertAttention(\n",
       "              (self): BertSelfAttention(\n",
       "                (query): Linear(in_features=768, out_features=768, bias=True)\n",
       "                (key): Linear(in_features=768, out_features=768, bias=True)\n",
       "                (value): Linear(in_features=768, out_features=768, bias=True)\n",
       "                (dropout): Dropout(p=0.1, inplace=False)\n",
       "              )\n",
       "              (output): BertSelfOutput(\n",
       "                (dense): Linear(in_features=768, out_features=768, bias=True)\n",
       "                (LayerNorm): LayerNorm((768,), eps=1e-05, elementwise_affine=True)\n",
       "                (dropout): Dropout(p=0.1, inplace=False)\n",
       "              )\n",
       "            )\n",
       "            (intermediate): BertIntermediate(\n",
       "              (dense): Linear(in_features=768, out_features=3072, bias=True)\n",
       "            )\n",
       "            (output): BertOutput(\n",
       "              (dense): Linear(in_features=3072, out_features=768, bias=True)\n",
       "              (LayerNorm): LayerNorm((768,), eps=1e-05, elementwise_affine=True)\n",
       "              (dropout): Dropout(p=0.1, inplace=False)\n",
       "            )\n",
       "          )\n",
       "          (9): BertLayer(\n",
       "            (attention): BertAttention(\n",
       "              (self): BertSelfAttention(\n",
       "                (query): Linear(in_features=768, out_features=768, bias=True)\n",
       "                (key): Linear(in_features=768, out_features=768, bias=True)\n",
       "                (value): Linear(in_features=768, out_features=768, bias=True)\n",
       "                (dropout): Dropout(p=0.1, inplace=False)\n",
       "              )\n",
       "              (output): BertSelfOutput(\n",
       "                (dense): Linear(in_features=768, out_features=768, bias=True)\n",
       "                (LayerNorm): LayerNorm((768,), eps=1e-05, elementwise_affine=True)\n",
       "                (dropout): Dropout(p=0.1, inplace=False)\n",
       "              )\n",
       "            )\n",
       "            (intermediate): BertIntermediate(\n",
       "              (dense): Linear(in_features=768, out_features=3072, bias=True)\n",
       "            )\n",
       "            (output): BertOutput(\n",
       "              (dense): Linear(in_features=3072, out_features=768, bias=True)\n",
       "              (LayerNorm): LayerNorm((768,), eps=1e-05, elementwise_affine=True)\n",
       "              (dropout): Dropout(p=0.1, inplace=False)\n",
       "            )\n",
       "          )\n",
       "          (10): BertLayer(\n",
       "            (attention): BertAttention(\n",
       "              (self): BertSelfAttention(\n",
       "                (query): Linear(in_features=768, out_features=768, bias=True)\n",
       "                (key): Linear(in_features=768, out_features=768, bias=True)\n",
       "                (value): Linear(in_features=768, out_features=768, bias=True)\n",
       "                (dropout): Dropout(p=0.1, inplace=False)\n",
       "              )\n",
       "              (output): BertSelfOutput(\n",
       "                (dense): Linear(in_features=768, out_features=768, bias=True)\n",
       "                (LayerNorm): LayerNorm((768,), eps=1e-05, elementwise_affine=True)\n",
       "                (dropout): Dropout(p=0.1, inplace=False)\n",
       "              )\n",
       "            )\n",
       "            (intermediate): BertIntermediate(\n",
       "              (dense): Linear(in_features=768, out_features=3072, bias=True)\n",
       "            )\n",
       "            (output): BertOutput(\n",
       "              (dense): Linear(in_features=3072, out_features=768, bias=True)\n",
       "              (LayerNorm): LayerNorm((768,), eps=1e-05, elementwise_affine=True)\n",
       "              (dropout): Dropout(p=0.1, inplace=False)\n",
       "            )\n",
       "          )\n",
       "          (11): BertLayer(\n",
       "            (attention): BertAttention(\n",
       "              (self): BertSelfAttention(\n",
       "                (query): Linear(in_features=768, out_features=768, bias=True)\n",
       "                (key): Linear(in_features=768, out_features=768, bias=True)\n",
       "                (value): Linear(in_features=768, out_features=768, bias=True)\n",
       "                (dropout): Dropout(p=0.1, inplace=False)\n",
       "              )\n",
       "              (output): BertSelfOutput(\n",
       "                (dense): Linear(in_features=768, out_features=768, bias=True)\n",
       "                (LayerNorm): LayerNorm((768,), eps=1e-05, elementwise_affine=True)\n",
       "                (dropout): Dropout(p=0.1, inplace=False)\n",
       "              )\n",
       "            )\n",
       "            (intermediate): BertIntermediate(\n",
       "              (dense): Linear(in_features=768, out_features=3072, bias=True)\n",
       "            )\n",
       "            (output): BertOutput(\n",
       "              (dense): Linear(in_features=3072, out_features=768, bias=True)\n",
       "              (LayerNorm): LayerNorm((768,), eps=1e-05, elementwise_affine=True)\n",
       "              (dropout): Dropout(p=0.1, inplace=False)\n",
       "            )\n",
       "          )\n",
       "        )\n",
       "      )\n",
       "      (pooler): BertPooler(\n",
       "        (dense): Linear(in_features=768, out_features=768, bias=True)\n",
       "        (activation): Tanh()\n",
       "      )\n",
       "    )\n",
       "    (classifier): RobertaClassificationHead(\n",
       "      (dense): Linear(in_features=768, out_features=768, bias=True)\n",
       "      (dropout): Dropout(p=0.1, inplace=False)\n",
       "      (out_proj): Linear(in_features=768, out_features=5, bias=True)\n",
       "    )\n",
       "  )\n",
       "), opt_func=functools.partial(<class 'transformers.optimization.AdamW'>, correct_bias=False), loss_func=FlattenedLoss of CrossEntropyLoss(), metrics=[<function accuracy at 0x7fd175c05950>, <function error_rate at 0x7fd175c05b70>], true_wd=True, bn_wd=True, wd=0.01, train_bn=True, path=PosixPath('.'), model_dir='models', callback_fns=[functools.partial(<class 'fastai.basic_train.Recorder'>, add_time=True, silent=False)], callbacks=[ShowGraph\n",
       "learn: Learner(data=TextClasDataBunch;\n",
       "\n",
       "Train: LabelList (0 items)\n",
       "x: TextList\n",
       "\n",
       "y: CategoryList\n",
       "\n",
       "Path: .;\n",
       "\n",
       "Valid: LabelList (0 items)\n",
       "x: TextList\n",
       "\n",
       "y: CategoryList\n",
       "\n",
       "Path: .;\n",
       "\n",
       "Test: None, model=CustomTransformerModel(\n",
       "  (transformer): RobertaForSequenceClassification(\n",
       "    (roberta): RobertaModel(\n",
       "      (embeddings): RobertaEmbeddings(\n",
       "        (word_embeddings): Embedding(50265, 768, padding_idx=1)\n",
       "        (position_embeddings): Embedding(514, 768, padding_idx=1)\n",
       "        (token_type_embeddings): Embedding(1, 768)\n",
       "        (LayerNorm): LayerNorm((768,), eps=1e-05, elementwise_affine=True)\n",
       "        (dropout): Dropout(p=0.1, inplace=False)\n",
       "      )\n",
       "      (encoder): BertEncoder(\n",
       "        (layer): ModuleList(\n",
       "          (0): BertLayer(\n",
       "            (attention): BertAttention(\n",
       "              (self): BertSelfAttention(\n",
       "                (query): Linear(in_features=768, out_features=768, bias=True)\n",
       "                (key): Linear(in_features=768, out_features=768, bias=True)\n",
       "                (value): Linear(in_features=768, out_features=768, bias=True)\n",
       "                (dropout): Dropout(p=0.1, inplace=False)\n",
       "              )\n",
       "              (output): BertSelfOutput(\n",
       "                (dense): Linear(in_features=768, out_features=768, bias=True)\n",
       "                (LayerNorm): LayerNorm((768,), eps=1e-05, elementwise_affine=True)\n",
       "                (dropout): Dropout(p=0.1, inplace=False)\n",
       "              )\n",
       "            )\n",
       "            (intermediate): BertIntermediate(\n",
       "              (dense): Linear(in_features=768, out_features=3072, bias=True)\n",
       "            )\n",
       "            (output): BertOutput(\n",
       "              (dense): Linear(in_features=3072, out_features=768, bias=True)\n",
       "              (LayerNorm): LayerNorm((768,), eps=1e-05, elementwise_affine=True)\n",
       "              (dropout): Dropout(p=0.1, inplace=False)\n",
       "            )\n",
       "          )\n",
       "          (1): BertLayer(\n",
       "            (attention): BertAttention(\n",
       "              (self): BertSelfAttention(\n",
       "                (query): Linear(in_features=768, out_features=768, bias=True)\n",
       "                (key): Linear(in_features=768, out_features=768, bias=True)\n",
       "                (value): Linear(in_features=768, out_features=768, bias=True)\n",
       "                (dropout): Dropout(p=0.1, inplace=False)\n",
       "              )\n",
       "              (output): BertSelfOutput(\n",
       "                (dense): Linear(in_features=768, out_features=768, bias=True)\n",
       "                (LayerNorm): LayerNorm((768,), eps=1e-05, elementwise_affine=True)\n",
       "                (dropout): Dropout(p=0.1, inplace=False)\n",
       "              )\n",
       "            )\n",
       "            (intermediate): BertIntermediate(\n",
       "              (dense): Linear(in_features=768, out_features=3072, bias=True)\n",
       "            )\n",
       "            (output): BertOutput(\n",
       "              (dense): Linear(in_features=3072, out_features=768, bias=True)\n",
       "              (LayerNorm): LayerNorm((768,), eps=1e-05, elementwise_affine=True)\n",
       "              (dropout): Dropout(p=0.1, inplace=False)\n",
       "            )\n",
       "          )\n",
       "          (2): BertLayer(\n",
       "            (attention): BertAttention(\n",
       "              (self): BertSelfAttention(\n",
       "                (query): Linear(in_features=768, out_features=768, bias=True)\n",
       "                (key): Linear(in_features=768, out_features=768, bias=True)\n",
       "                (value): Linear(in_features=768, out_features=768, bias=True)\n",
       "                (dropout): Dropout(p=0.1, inplace=False)\n",
       "              )\n",
       "              (output): BertSelfOutput(\n",
       "                (dense): Linear(in_features=768, out_features=768, bias=True)\n",
       "                (LayerNorm): LayerNorm((768,), eps=1e-05, elementwise_affine=True)\n",
       "                (dropout): Dropout(p=0.1, inplace=False)\n",
       "              )\n",
       "            )\n",
       "            (intermediate): BertIntermediate(\n",
       "              (dense): Linear(in_features=768, out_features=3072, bias=True)\n",
       "            )\n",
       "            (output): BertOutput(\n",
       "              (dense): Linear(in_features=3072, out_features=768, bias=True)\n",
       "              (LayerNorm): LayerNorm((768,), eps=1e-05, elementwise_affine=True)\n",
       "              (dropout): Dropout(p=0.1, inplace=False)\n",
       "            )\n",
       "          )\n",
       "          (3): BertLayer(\n",
       "            (attention): BertAttention(\n",
       "              (self): BertSelfAttention(\n",
       "                (query): Linear(in_features=768, out_features=768, bias=True)\n",
       "                (key): Linear(in_features=768, out_features=768, bias=True)\n",
       "                (value): Linear(in_features=768, out_features=768, bias=True)\n",
       "                (dropout): Dropout(p=0.1, inplace=False)\n",
       "              )\n",
       "              (output): BertSelfOutput(\n",
       "                (dense): Linear(in_features=768, out_features=768, bias=True)\n",
       "                (LayerNorm): LayerNorm((768,), eps=1e-05, elementwise_affine=True)\n",
       "                (dropout): Dropout(p=0.1, inplace=False)\n",
       "              )\n",
       "            )\n",
       "            (intermediate): BertIntermediate(\n",
       "              (dense): Linear(in_features=768, out_features=3072, bias=True)\n",
       "            )\n",
       "            (output): BertOutput(\n",
       "              (dense): Linear(in_features=3072, out_features=768, bias=True)\n",
       "              (LayerNorm): LayerNorm((768,), eps=1e-05, elementwise_affine=True)\n",
       "              (dropout): Dropout(p=0.1, inplace=False)\n",
       "            )\n",
       "          )\n",
       "          (4): BertLayer(\n",
       "            (attention): BertAttention(\n",
       "              (self): BertSelfAttention(\n",
       "                (query): Linear(in_features=768, out_features=768, bias=True)\n",
       "                (key): Linear(in_features=768, out_features=768, bias=True)\n",
       "                (value): Linear(in_features=768, out_features=768, bias=True)\n",
       "                (dropout): Dropout(p=0.1, inplace=False)\n",
       "              )\n",
       "              (output): BertSelfOutput(\n",
       "                (dense): Linear(in_features=768, out_features=768, bias=True)\n",
       "                (LayerNorm): LayerNorm((768,), eps=1e-05, elementwise_affine=True)\n",
       "                (dropout): Dropout(p=0.1, inplace=False)\n",
       "              )\n",
       "            )\n",
       "            (intermediate): BertIntermediate(\n",
       "              (dense): Linear(in_features=768, out_features=3072, bias=True)\n",
       "            )\n",
       "            (output): BertOutput(\n",
       "              (dense): Linear(in_features=3072, out_features=768, bias=True)\n",
       "              (LayerNorm): LayerNorm((768,), eps=1e-05, elementwise_affine=True)\n",
       "              (dropout): Dropout(p=0.1, inplace=False)\n",
       "            )\n",
       "          )\n",
       "          (5): BertLayer(\n",
       "            (attention): BertAttention(\n",
       "              (self): BertSelfAttention(\n",
       "                (query): Linear(in_features=768, out_features=768, bias=True)\n",
       "                (key): Linear(in_features=768, out_features=768, bias=True)\n",
       "                (value): Linear(in_features=768, out_features=768, bias=True)\n",
       "                (dropout): Dropout(p=0.1, inplace=False)\n",
       "              )\n",
       "              (output): BertSelfOutput(\n",
       "                (dense): Linear(in_features=768, out_features=768, bias=True)\n",
       "                (LayerNorm): LayerNorm((768,), eps=1e-05, elementwise_affine=True)\n",
       "                (dropout): Dropout(p=0.1, inplace=False)\n",
       "              )\n",
       "            )\n",
       "            (intermediate): BertIntermediate(\n",
       "              (dense): Linear(in_features=768, out_features=3072, bias=True)\n",
       "            )\n",
       "            (output): BertOutput(\n",
       "              (dense): Linear(in_features=3072, out_features=768, bias=True)\n",
       "              (LayerNorm): LayerNorm((768,), eps=1e-05, elementwise_affine=True)\n",
       "              (dropout): Dropout(p=0.1, inplace=False)\n",
       "            )\n",
       "          )\n",
       "          (6): BertLayer(\n",
       "            (attention): BertAttention(\n",
       "              (self): BertSelfAttention(\n",
       "                (query): Linear(in_features=768, out_features=768, bias=True)\n",
       "                (key): Linear(in_features=768, out_features=768, bias=True)\n",
       "                (value): Linear(in_features=768, out_features=768, bias=True)\n",
       "                (dropout): Dropout(p=0.1, inplace=False)\n",
       "              )\n",
       "              (output): BertSelfOutput(\n",
       "                (dense): Linear(in_features=768, out_features=768, bias=True)\n",
       "                (LayerNorm): LayerNorm((768,), eps=1e-05, elementwise_affine=True)\n",
       "                (dropout): Dropout(p=0.1, inplace=False)\n",
       "              )\n",
       "            )\n",
       "            (intermediate): BertIntermediate(\n",
       "              (dense): Linear(in_features=768, out_features=3072, bias=True)\n",
       "            )\n",
       "            (output): BertOutput(\n",
       "              (dense): Linear(in_features=3072, out_features=768, bias=True)\n",
       "              (LayerNorm): LayerNorm((768,), eps=1e-05, elementwise_affine=True)\n",
       "              (dropout): Dropout(p=0.1, inplace=False)\n",
       "            )\n",
       "          )\n",
       "          (7): BertLayer(\n",
       "            (attention): BertAttention(\n",
       "              (self): BertSelfAttention(\n",
       "                (query): Linear(in_features=768, out_features=768, bias=True)\n",
       "                (key): Linear(in_features=768, out_features=768, bias=True)\n",
       "                (value): Linear(in_features=768, out_features=768, bias=True)\n",
       "                (dropout): Dropout(p=0.1, inplace=False)\n",
       "              )\n",
       "              (output): BertSelfOutput(\n",
       "                (dense): Linear(in_features=768, out_features=768, bias=True)\n",
       "                (LayerNorm): LayerNorm((768,), eps=1e-05, elementwise_affine=True)\n",
       "                (dropout): Dropout(p=0.1, inplace=False)\n",
       "              )\n",
       "            )\n",
       "            (intermediate): BertIntermediate(\n",
       "              (dense): Linear(in_features=768, out_features=3072, bias=True)\n",
       "            )\n",
       "            (output): BertOutput(\n",
       "              (dense): Linear(in_features=3072, out_features=768, bias=True)\n",
       "              (LayerNorm): LayerNorm((768,), eps=1e-05, elementwise_affine=True)\n",
       "              (dropout): Dropout(p=0.1, inplace=False)\n",
       "            )\n",
       "          )\n",
       "          (8): BertLayer(\n",
       "            (attention): BertAttention(\n",
       "              (self): BertSelfAttention(\n",
       "                (query): Linear(in_features=768, out_features=768, bias=True)\n",
       "                (key): Linear(in_features=768, out_features=768, bias=True)\n",
       "                (value): Linear(in_features=768, out_features=768, bias=True)\n",
       "                (dropout): Dropout(p=0.1, inplace=False)\n",
       "              )\n",
       "              (output): BertSelfOutput(\n",
       "                (dense): Linear(in_features=768, out_features=768, bias=True)\n",
       "                (LayerNorm): LayerNorm((768,), eps=1e-05, elementwise_affine=True)\n",
       "                (dropout): Dropout(p=0.1, inplace=False)\n",
       "              )\n",
       "            )\n",
       "            (intermediate): BertIntermediate(\n",
       "              (dense): Linear(in_features=768, out_features=3072, bias=True)\n",
       "            )\n",
       "            (output): BertOutput(\n",
       "              (dense): Linear(in_features=3072, out_features=768, bias=True)\n",
       "              (LayerNorm): LayerNorm((768,), eps=1e-05, elementwise_affine=True)\n",
       "              (dropout): Dropout(p=0.1, inplace=False)\n",
       "            )\n",
       "          )\n",
       "          (9): BertLayer(\n",
       "            (attention): BertAttention(\n",
       "              (self): BertSelfAttention(\n",
       "                (query): Linear(in_features=768, out_features=768, bias=True)\n",
       "                (key): Linear(in_features=768, out_features=768, bias=True)\n",
       "                (value): Linear(in_features=768, out_features=768, bias=True)\n",
       "                (dropout): Dropout(p=0.1, inplace=False)\n",
       "              )\n",
       "              (output): BertSelfOutput(\n",
       "                (dense): Linear(in_features=768, out_features=768, bias=True)\n",
       "                (LayerNorm): LayerNorm((768,), eps=1e-05, elementwise_affine=True)\n",
       "                (dropout): Dropout(p=0.1, inplace=False)\n",
       "              )\n",
       "            )\n",
       "            (intermediate): BertIntermediate(\n",
       "              (dense): Linear(in_features=768, out_features=3072, bias=True)\n",
       "            )\n",
       "            (output): BertOutput(\n",
       "              (dense): Linear(in_features=3072, out_features=768, bias=True)\n",
       "              (LayerNorm): LayerNorm((768,), eps=1e-05, elementwise_affine=True)\n",
       "              (dropout): Dropout(p=0.1, inplace=False)\n",
       "            )\n",
       "          )\n",
       "          (10): BertLayer(\n",
       "            (attention): BertAttention(\n",
       "              (self): BertSelfAttention(\n",
       "                (query): Linear(in_features=768, out_features=768, bias=True)\n",
       "                (key): Linear(in_features=768, out_features=768, bias=True)\n",
       "                (value): Linear(in_features=768, out_features=768, bias=True)\n",
       "                (dropout): Dropout(p=0.1, inplace=False)\n",
       "              )\n",
       "              (output): BertSelfOutput(\n",
       "                (dense): Linear(in_features=768, out_features=768, bias=True)\n",
       "                (LayerNorm): LayerNorm((768,), eps=1e-05, elementwise_affine=True)\n",
       "                (dropout): Dropout(p=0.1, inplace=False)\n",
       "              )\n",
       "            )\n",
       "            (intermediate): BertIntermediate(\n",
       "              (dense): Linear(in_features=768, out_features=3072, bias=True)\n",
       "            )\n",
       "            (output): BertOutput(\n",
       "              (dense): Linear(in_features=3072, out_features=768, bias=True)\n",
       "              (LayerNorm): LayerNorm((768,), eps=1e-05, elementwise_affine=True)\n",
       "              (dropout): Dropout(p=0.1, inplace=False)\n",
       "            )\n",
       "          )\n",
       "          (11): BertLayer(\n",
       "            (attention): BertAttention(\n",
       "              (self): BertSelfAttention(\n",
       "                (query): Linear(in_features=768, out_features=768, bias=True)\n",
       "                (key): Linear(in_features=768, out_features=768, bias=True)\n",
       "                (value): Linear(in_features=768, out_features=768, bias=True)\n",
       "                (dropout): Dropout(p=0.1, inplace=False)\n",
       "              )\n",
       "              (output): BertSelfOutput(\n",
       "                (dense): Linear(in_features=768, out_features=768, bias=True)\n",
       "                (LayerNorm): LayerNorm((768,), eps=1e-05, elementwise_affine=True)\n",
       "                (dropout): Dropout(p=0.1, inplace=False)\n",
       "              )\n",
       "            )\n",
       "            (intermediate): BertIntermediate(\n",
       "              (dense): Linear(in_features=768, out_features=3072, bias=True)\n",
       "            )\n",
       "            (output): BertOutput(\n",
       "              (dense): Linear(in_features=3072, out_features=768, bias=True)\n",
       "              (LayerNorm): LayerNorm((768,), eps=1e-05, elementwise_affine=True)\n",
       "              (dropout): Dropout(p=0.1, inplace=False)\n",
       "            )\n",
       "          )\n",
       "        )\n",
       "      )\n",
       "      (pooler): BertPooler(\n",
       "        (dense): Linear(in_features=768, out_features=768, bias=True)\n",
       "        (activation): Tanh()\n",
       "      )\n",
       "    )\n",
       "    (classifier): RobertaClassificationHead(\n",
       "      (dense): Linear(in_features=768, out_features=768, bias=True)\n",
       "      (dropout): Dropout(p=0.1, inplace=False)\n",
       "      (out_proj): Linear(in_features=768, out_features=5, bias=True)\n",
       "    )\n",
       "  )\n",
       "), opt_func=functools.partial(<class 'transformers.optimization.AdamW'>, correct_bias=False), loss_func=FlattenedLoss of CrossEntropyLoss(), metrics=[<function accuracy at 0x7fd175c05950>, <function error_rate at 0x7fd175c05b70>], true_wd=True, bn_wd=True, wd=0.01, train_bn=True, path=PosixPath('.'), model_dir='models', callback_fns=[functools.partial(<class 'fastai.basic_train.Recorder'>, add_time=True, silent=False)], callbacks=[...], layer_groups=[Sequential(\n",
       "  (0): Embedding(50265, 768, padding_idx=1)\n",
       "  (1): Embedding(514, 768, padding_idx=1)\n",
       "  (2): Embedding(1, 768)\n",
       "  (3): LayerNorm((768,), eps=1e-05, elementwise_affine=True)\n",
       "  (4): Dropout(p=0.1, inplace=False)\n",
       "  (5): Linear(in_features=768, out_features=768, bias=True)\n",
       "  (6): Linear(in_features=768, out_features=768, bias=True)\n",
       "  (7): Linear(in_features=768, out_features=768, bias=True)\n",
       "  (8): Dropout(p=0.1, inplace=False)\n",
       "  (9): Linear(in_features=768, out_features=768, bias=True)\n",
       "  (10): LayerNorm((768,), eps=1e-05, elementwise_affine=True)\n",
       "  (11): Dropout(p=0.1, inplace=False)\n",
       "  (12): Linear(in_features=768, out_features=3072, bias=True)\n",
       "  (13): Linear(in_features=3072, out_features=768, bias=True)\n",
       "  (14): LayerNorm((768,), eps=1e-05, elementwise_affine=True)\n",
       "  (15): Dropout(p=0.1, inplace=False)\n",
       "  (16): Linear(in_features=768, out_features=768, bias=True)\n",
       "  (17): Linear(in_features=768, out_features=768, bias=True)\n",
       "  (18): Linear(in_features=768, out_features=768, bias=True)\n",
       "  (19): Dropout(p=0.1, inplace=False)\n",
       "  (20): Linear(in_features=768, out_features=768, bias=True)\n",
       "  (21): LayerNorm((768,), eps=1e-05, elementwise_affine=True)\n",
       "  (22): Dropout(p=0.1, inplace=False)\n",
       "  (23): Linear(in_features=768, out_features=3072, bias=True)\n",
       "  (24): Linear(in_features=3072, out_features=768, bias=True)\n",
       "  (25): LayerNorm((768,), eps=1e-05, elementwise_affine=True)\n",
       "  (26): Dropout(p=0.1, inplace=False)\n",
       "  (27): Linear(in_features=768, out_features=768, bias=True)\n",
       "  (28): Linear(in_features=768, out_features=768, bias=True)\n",
       "  (29): Linear(in_features=768, out_features=768, bias=True)\n",
       "  (30): Dropout(p=0.1, inplace=False)\n",
       "  (31): Linear(in_features=768, out_features=768, bias=True)\n",
       "  (32): LayerNorm((768,), eps=1e-05, elementwise_affine=True)\n",
       "  (33): Dropout(p=0.1, inplace=False)\n",
       "  (34): Linear(in_features=768, out_features=3072, bias=True)\n",
       "  (35): Linear(in_features=3072, out_features=768, bias=True)\n",
       "  (36): LayerNorm((768,), eps=1e-05, elementwise_affine=True)\n",
       "  (37): Dropout(p=0.1, inplace=False)\n",
       "  (38): Linear(in_features=768, out_features=768, bias=True)\n",
       "  (39): Linear(in_features=768, out_features=768, bias=True)\n",
       "  (40): Linear(in_features=768, out_features=768, bias=True)\n",
       "  (41): Dropout(p=0.1, inplace=False)\n",
       "  (42): Linear(in_features=768, out_features=768, bias=True)\n",
       "  (43): LayerNorm((768,), eps=1e-05, elementwise_affine=True)\n",
       "  (44): Dropout(p=0.1, inplace=False)\n",
       "  (45): Linear(in_features=768, out_features=3072, bias=True)\n",
       "  (46): Linear(in_features=3072, out_features=768, bias=True)\n",
       "  (47): LayerNorm((768,), eps=1e-05, elementwise_affine=True)\n",
       "  (48): Dropout(p=0.1, inplace=False)\n",
       "  (49): Linear(in_features=768, out_features=768, bias=True)\n",
       "  (50): Linear(in_features=768, out_features=768, bias=True)\n",
       "  (51): Linear(in_features=768, out_features=768, bias=True)\n",
       "  (52): Dropout(p=0.1, inplace=False)\n",
       "  (53): Linear(in_features=768, out_features=768, bias=True)\n",
       "  (54): LayerNorm((768,), eps=1e-05, elementwise_affine=True)\n",
       "  (55): Dropout(p=0.1, inplace=False)\n",
       "  (56): Linear(in_features=768, out_features=3072, bias=True)\n",
       "  (57): Linear(in_features=3072, out_features=768, bias=True)\n",
       "  (58): LayerNorm((768,), eps=1e-05, elementwise_affine=True)\n",
       "  (59): Dropout(p=0.1, inplace=False)\n",
       "  (60): Linear(in_features=768, out_features=768, bias=True)\n",
       "  (61): Linear(in_features=768, out_features=768, bias=True)\n",
       "  (62): Linear(in_features=768, out_features=768, bias=True)\n",
       "  (63): Dropout(p=0.1, inplace=False)\n",
       "  (64): Linear(in_features=768, out_features=768, bias=True)\n",
       "  (65): LayerNorm((768,), eps=1e-05, elementwise_affine=True)\n",
       "  (66): Dropout(p=0.1, inplace=False)\n",
       "  (67): Linear(in_features=768, out_features=3072, bias=True)\n",
       "  (68): Linear(in_features=3072, out_features=768, bias=True)\n",
       "  (69): LayerNorm((768,), eps=1e-05, elementwise_affine=True)\n",
       "  (70): Dropout(p=0.1, inplace=False)\n",
       "  (71): Linear(in_features=768, out_features=768, bias=True)\n",
       "  (72): Linear(in_features=768, out_features=768, bias=True)\n",
       "  (73): Linear(in_features=768, out_features=768, bias=True)\n",
       "  (74): Dropout(p=0.1, inplace=False)\n",
       "  (75): Linear(in_features=768, out_features=768, bias=True)\n",
       "  (76): LayerNorm((768,), eps=1e-05, elementwise_affine=True)\n",
       "  (77): Dropout(p=0.1, inplace=False)\n",
       "  (78): Linear(in_features=768, out_features=3072, bias=True)\n",
       "  (79): Linear(in_features=3072, out_features=768, bias=True)\n",
       "  (80): LayerNorm((768,), eps=1e-05, elementwise_affine=True)\n",
       "  (81): Dropout(p=0.1, inplace=False)\n",
       "  (82): Linear(in_features=768, out_features=768, bias=True)\n",
       "  (83): Linear(in_features=768, out_features=768, bias=True)\n",
       "  (84): Linear(in_features=768, out_features=768, bias=True)\n",
       "  (85): Dropout(p=0.1, inplace=False)\n",
       "  (86): Linear(in_features=768, out_features=768, bias=True)\n",
       "  (87): LayerNorm((768,), eps=1e-05, elementwise_affine=True)\n",
       "  (88): Dropout(p=0.1, inplace=False)\n",
       "  (89): Linear(in_features=768, out_features=3072, bias=True)\n",
       "  (90): Linear(in_features=3072, out_features=768, bias=True)\n",
       "  (91): LayerNorm((768,), eps=1e-05, elementwise_affine=True)\n",
       "  (92): Dropout(p=0.1, inplace=False)\n",
       "  (93): Linear(in_features=768, out_features=768, bias=True)\n",
       "  (94): Linear(in_features=768, out_features=768, bias=True)\n",
       "  (95): Linear(in_features=768, out_features=768, bias=True)\n",
       "  (96): Dropout(p=0.1, inplace=False)\n",
       "  (97): Linear(in_features=768, out_features=768, bias=True)\n",
       "  (98): LayerNorm((768,), eps=1e-05, elementwise_affine=True)\n",
       "  (99): Dropout(p=0.1, inplace=False)\n",
       "  (100): Linear(in_features=768, out_features=3072, bias=True)\n",
       "  (101): Linear(in_features=3072, out_features=768, bias=True)\n",
       "  (102): LayerNorm((768,), eps=1e-05, elementwise_affine=True)\n",
       "  (103): Dropout(p=0.1, inplace=False)\n",
       "  (104): Linear(in_features=768, out_features=768, bias=True)\n",
       "  (105): Linear(in_features=768, out_features=768, bias=True)\n",
       "  (106): Linear(in_features=768, out_features=768, bias=True)\n",
       "  (107): Dropout(p=0.1, inplace=False)\n",
       "  (108): Linear(in_features=768, out_features=768, bias=True)\n",
       "  (109): LayerNorm((768,), eps=1e-05, elementwise_affine=True)\n",
       "  (110): Dropout(p=0.1, inplace=False)\n",
       "  (111): Linear(in_features=768, out_features=3072, bias=True)\n",
       "  (112): Linear(in_features=3072, out_features=768, bias=True)\n",
       "  (113): LayerNorm((768,), eps=1e-05, elementwise_affine=True)\n",
       "  (114): Dropout(p=0.1, inplace=False)\n",
       "  (115): Linear(in_features=768, out_features=768, bias=True)\n",
       "  (116): Linear(in_features=768, out_features=768, bias=True)\n",
       "  (117): Linear(in_features=768, out_features=768, bias=True)\n",
       "  (118): Dropout(p=0.1, inplace=False)\n",
       "  (119): Linear(in_features=768, out_features=768, bias=True)\n",
       "  (120): LayerNorm((768,), eps=1e-05, elementwise_affine=True)\n",
       "  (121): Dropout(p=0.1, inplace=False)\n",
       "  (122): Linear(in_features=768, out_features=3072, bias=True)\n",
       "  (123): Linear(in_features=3072, out_features=768, bias=True)\n",
       "  (124): LayerNorm((768,), eps=1e-05, elementwise_affine=True)\n",
       "  (125): Dropout(p=0.1, inplace=False)\n",
       "  (126): Linear(in_features=768, out_features=768, bias=True)\n",
       "  (127): Linear(in_features=768, out_features=768, bias=True)\n",
       "  (128): Linear(in_features=768, out_features=768, bias=True)\n",
       "  (129): Dropout(p=0.1, inplace=False)\n",
       "  (130): Linear(in_features=768, out_features=768, bias=True)\n",
       "  (131): LayerNorm((768,), eps=1e-05, elementwise_affine=True)\n",
       "  (132): Dropout(p=0.1, inplace=False)\n",
       "  (133): Linear(in_features=768, out_features=3072, bias=True)\n",
       "  (134): Linear(in_features=3072, out_features=768, bias=True)\n",
       "  (135): LayerNorm((768,), eps=1e-05, elementwise_affine=True)\n",
       "  (136): Dropout(p=0.1, inplace=False)\n",
       "  (137): Linear(in_features=768, out_features=768, bias=True)\n",
       "  (138): Tanh()\n",
       "  (139): Linear(in_features=768, out_features=768, bias=True)\n",
       "  (140): Dropout(p=0.1, inplace=False)\n",
       "  (141): Linear(in_features=768, out_features=5, bias=True)\n",
       ")], add_time=True, silent=False)], layer_groups=[Sequential(\n",
       "  (0): Embedding(50265, 768, padding_idx=1)\n",
       "  (1): Embedding(514, 768, padding_idx=1)\n",
       "  (2): Embedding(1, 768)\n",
       "  (3): LayerNorm((768,), eps=1e-05, elementwise_affine=True)\n",
       "  (4): Dropout(p=0.1, inplace=False)\n",
       "  (5): Linear(in_features=768, out_features=768, bias=True)\n",
       "  (6): Linear(in_features=768, out_features=768, bias=True)\n",
       "  (7): Linear(in_features=768, out_features=768, bias=True)\n",
       "  (8): Dropout(p=0.1, inplace=False)\n",
       "  (9): Linear(in_features=768, out_features=768, bias=True)\n",
       "  (10): LayerNorm((768,), eps=1e-05, elementwise_affine=True)\n",
       "  (11): Dropout(p=0.1, inplace=False)\n",
       "  (12): Linear(in_features=768, out_features=3072, bias=True)\n",
       "  (13): Linear(in_features=3072, out_features=768, bias=True)\n",
       "  (14): LayerNorm((768,), eps=1e-05, elementwise_affine=True)\n",
       "  (15): Dropout(p=0.1, inplace=False)\n",
       "  (16): Linear(in_features=768, out_features=768, bias=True)\n",
       "  (17): Linear(in_features=768, out_features=768, bias=True)\n",
       "  (18): Linear(in_features=768, out_features=768, bias=True)\n",
       "  (19): Dropout(p=0.1, inplace=False)\n",
       "  (20): Linear(in_features=768, out_features=768, bias=True)\n",
       "  (21): LayerNorm((768,), eps=1e-05, elementwise_affine=True)\n",
       "  (22): Dropout(p=0.1, inplace=False)\n",
       "  (23): Linear(in_features=768, out_features=3072, bias=True)\n",
       "  (24): Linear(in_features=3072, out_features=768, bias=True)\n",
       "  (25): LayerNorm((768,), eps=1e-05, elementwise_affine=True)\n",
       "  (26): Dropout(p=0.1, inplace=False)\n",
       "  (27): Linear(in_features=768, out_features=768, bias=True)\n",
       "  (28): Linear(in_features=768, out_features=768, bias=True)\n",
       "  (29): Linear(in_features=768, out_features=768, bias=True)\n",
       "  (30): Dropout(p=0.1, inplace=False)\n",
       "  (31): Linear(in_features=768, out_features=768, bias=True)\n",
       "  (32): LayerNorm((768,), eps=1e-05, elementwise_affine=True)\n",
       "  (33): Dropout(p=0.1, inplace=False)\n",
       "  (34): Linear(in_features=768, out_features=3072, bias=True)\n",
       "  (35): Linear(in_features=3072, out_features=768, bias=True)\n",
       "  (36): LayerNorm((768,), eps=1e-05, elementwise_affine=True)\n",
       "  (37): Dropout(p=0.1, inplace=False)\n",
       "  (38): Linear(in_features=768, out_features=768, bias=True)\n",
       "  (39): Linear(in_features=768, out_features=768, bias=True)\n",
       "  (40): Linear(in_features=768, out_features=768, bias=True)\n",
       "  (41): Dropout(p=0.1, inplace=False)\n",
       "  (42): Linear(in_features=768, out_features=768, bias=True)\n",
       "  (43): LayerNorm((768,), eps=1e-05, elementwise_affine=True)\n",
       "  (44): Dropout(p=0.1, inplace=False)\n",
       "  (45): Linear(in_features=768, out_features=3072, bias=True)\n",
       "  (46): Linear(in_features=3072, out_features=768, bias=True)\n",
       "  (47): LayerNorm((768,), eps=1e-05, elementwise_affine=True)\n",
       "  (48): Dropout(p=0.1, inplace=False)\n",
       "  (49): Linear(in_features=768, out_features=768, bias=True)\n",
       "  (50): Linear(in_features=768, out_features=768, bias=True)\n",
       "  (51): Linear(in_features=768, out_features=768, bias=True)\n",
       "  (52): Dropout(p=0.1, inplace=False)\n",
       "  (53): Linear(in_features=768, out_features=768, bias=True)\n",
       "  (54): LayerNorm((768,), eps=1e-05, elementwise_affine=True)\n",
       "  (55): Dropout(p=0.1, inplace=False)\n",
       "  (56): Linear(in_features=768, out_features=3072, bias=True)\n",
       "  (57): Linear(in_features=3072, out_features=768, bias=True)\n",
       "  (58): LayerNorm((768,), eps=1e-05, elementwise_affine=True)\n",
       "  (59): Dropout(p=0.1, inplace=False)\n",
       "  (60): Linear(in_features=768, out_features=768, bias=True)\n",
       "  (61): Linear(in_features=768, out_features=768, bias=True)\n",
       "  (62): Linear(in_features=768, out_features=768, bias=True)\n",
       "  (63): Dropout(p=0.1, inplace=False)\n",
       "  (64): Linear(in_features=768, out_features=768, bias=True)\n",
       "  (65): LayerNorm((768,), eps=1e-05, elementwise_affine=True)\n",
       "  (66): Dropout(p=0.1, inplace=False)\n",
       "  (67): Linear(in_features=768, out_features=3072, bias=True)\n",
       "  (68): Linear(in_features=3072, out_features=768, bias=True)\n",
       "  (69): LayerNorm((768,), eps=1e-05, elementwise_affine=True)\n",
       "  (70): Dropout(p=0.1, inplace=False)\n",
       "  (71): Linear(in_features=768, out_features=768, bias=True)\n",
       "  (72): Linear(in_features=768, out_features=768, bias=True)\n",
       "  (73): Linear(in_features=768, out_features=768, bias=True)\n",
       "  (74): Dropout(p=0.1, inplace=False)\n",
       "  (75): Linear(in_features=768, out_features=768, bias=True)\n",
       "  (76): LayerNorm((768,), eps=1e-05, elementwise_affine=True)\n",
       "  (77): Dropout(p=0.1, inplace=False)\n",
       "  (78): Linear(in_features=768, out_features=3072, bias=True)\n",
       "  (79): Linear(in_features=3072, out_features=768, bias=True)\n",
       "  (80): LayerNorm((768,), eps=1e-05, elementwise_affine=True)\n",
       "  (81): Dropout(p=0.1, inplace=False)\n",
       "  (82): Linear(in_features=768, out_features=768, bias=True)\n",
       "  (83): Linear(in_features=768, out_features=768, bias=True)\n",
       "  (84): Linear(in_features=768, out_features=768, bias=True)\n",
       "  (85): Dropout(p=0.1, inplace=False)\n",
       "  (86): Linear(in_features=768, out_features=768, bias=True)\n",
       "  (87): LayerNorm((768,), eps=1e-05, elementwise_affine=True)\n",
       "  (88): Dropout(p=0.1, inplace=False)\n",
       "  (89): Linear(in_features=768, out_features=3072, bias=True)\n",
       "  (90): Linear(in_features=3072, out_features=768, bias=True)\n",
       "  (91): LayerNorm((768,), eps=1e-05, elementwise_affine=True)\n",
       "  (92): Dropout(p=0.1, inplace=False)\n",
       "  (93): Linear(in_features=768, out_features=768, bias=True)\n",
       "  (94): Linear(in_features=768, out_features=768, bias=True)\n",
       "  (95): Linear(in_features=768, out_features=768, bias=True)\n",
       "  (96): Dropout(p=0.1, inplace=False)\n",
       "  (97): Linear(in_features=768, out_features=768, bias=True)\n",
       "  (98): LayerNorm((768,), eps=1e-05, elementwise_affine=True)\n",
       "  (99): Dropout(p=0.1, inplace=False)\n",
       "  (100): Linear(in_features=768, out_features=3072, bias=True)\n",
       "  (101): Linear(in_features=3072, out_features=768, bias=True)\n",
       "  (102): LayerNorm((768,), eps=1e-05, elementwise_affine=True)\n",
       "  (103): Dropout(p=0.1, inplace=False)\n",
       "  (104): Linear(in_features=768, out_features=768, bias=True)\n",
       "  (105): Linear(in_features=768, out_features=768, bias=True)\n",
       "  (106): Linear(in_features=768, out_features=768, bias=True)\n",
       "  (107): Dropout(p=0.1, inplace=False)\n",
       "  (108): Linear(in_features=768, out_features=768, bias=True)\n",
       "  (109): LayerNorm((768,), eps=1e-05, elementwise_affine=True)\n",
       "  (110): Dropout(p=0.1, inplace=False)\n",
       "  (111): Linear(in_features=768, out_features=3072, bias=True)\n",
       "  (112): Linear(in_features=3072, out_features=768, bias=True)\n",
       "  (113): LayerNorm((768,), eps=1e-05, elementwise_affine=True)\n",
       "  (114): Dropout(p=0.1, inplace=False)\n",
       "  (115): Linear(in_features=768, out_features=768, bias=True)\n",
       "  (116): Linear(in_features=768, out_features=768, bias=True)\n",
       "  (117): Linear(in_features=768, out_features=768, bias=True)\n",
       "  (118): Dropout(p=0.1, inplace=False)\n",
       "  (119): Linear(in_features=768, out_features=768, bias=True)\n",
       "  (120): LayerNorm((768,), eps=1e-05, elementwise_affine=True)\n",
       "  (121): Dropout(p=0.1, inplace=False)\n",
       "  (122): Linear(in_features=768, out_features=3072, bias=True)\n",
       "  (123): Linear(in_features=3072, out_features=768, bias=True)\n",
       "  (124): LayerNorm((768,), eps=1e-05, elementwise_affine=True)\n",
       "  (125): Dropout(p=0.1, inplace=False)\n",
       "  (126): Linear(in_features=768, out_features=768, bias=True)\n",
       "  (127): Linear(in_features=768, out_features=768, bias=True)\n",
       "  (128): Linear(in_features=768, out_features=768, bias=True)\n",
       "  (129): Dropout(p=0.1, inplace=False)\n",
       "  (130): Linear(in_features=768, out_features=768, bias=True)\n",
       "  (131): LayerNorm((768,), eps=1e-05, elementwise_affine=True)\n",
       "  (132): Dropout(p=0.1, inplace=False)\n",
       "  (133): Linear(in_features=768, out_features=3072, bias=True)\n",
       "  (134): Linear(in_features=3072, out_features=768, bias=True)\n",
       "  (135): LayerNorm((768,), eps=1e-05, elementwise_affine=True)\n",
       "  (136): Dropout(p=0.1, inplace=False)\n",
       "  (137): Linear(in_features=768, out_features=768, bias=True)\n",
       "  (138): Tanh()\n",
       "  (139): Linear(in_features=768, out_features=768, bias=True)\n",
       "  (140): Dropout(p=0.1, inplace=False)\n",
       "  (141): Linear(in_features=768, out_features=5, bias=True)\n",
       ")], add_time=True, silent=False)"
      ]
     },
     "execution_count": 29,
     "metadata": {},
     "output_type": "execute_result"
    }
   ],
   "source": [
    "export_learner"
   ]
  },
  {
   "cell_type": "code",
   "execution_count": null,
   "metadata": {
    "ExecuteTime": {
     "end_time": "2020-10-25T15:20:59.988621Z",
     "start_time": "2020-10-25T15:20:59.974183Z"
    }
   },
   "outputs": [],
   "source": []
  },
  {
   "cell_type": "code",
   "execution_count": null,
   "metadata": {},
   "outputs": [],
   "source": []
  },
  {
   "cell_type": "code",
   "execution_count": null,
   "metadata": {},
   "outputs": [],
   "source": []
  }
 ],
 "metadata": {
  "kernelspec": {
   "display_name": "Python 3",
   "language": "python",
   "name": "python3"
  },
  "language_info": {
   "codemirror_mode": {
    "name": "ipython",
    "version": 3
   },
   "file_extension": ".py",
   "mimetype": "text/x-python",
   "name": "python",
   "nbconvert_exporter": "python",
   "pygments_lexer": "ipython3",
   "version": "3.6.9"
  }
 },
 "nbformat": 4,
 "nbformat_minor": 4
}
